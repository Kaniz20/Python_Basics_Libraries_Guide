{
  "metadata": {
    "kernelspec": {
      "language": "python",
      "display_name": "Python 3",
      "name": "python3"
    },
    "language_info": {
      "name": "python",
      "version": "3.11.13",
      "mimetype": "text/x-python",
      "codemirror_mode": {
        "name": "ipython",
        "version": 3
      },
      "pygments_lexer": "ipython3",
      "nbconvert_exporter": "python",
      "file_extension": ".py"
    },
    "kaggle": {
      "accelerator": "gpu",
      "dataSources": [
        {
          "sourceId": 3136,
          "databundleVersionId": 26502,
          "sourceType": "competition"
        }
      ],
      "dockerImageVersionId": 31090,
      "isInternetEnabled": true,
      "language": "python",
      "sourceType": "notebook",
      "isGpuEnabled": true
    },
    "colab": {
      "name": "Titanic Data Analysis & Visualization with Pandas",
      "provenance": [],
      "include_colab_link": true
    }
  },
  "nbformat_minor": 0,
  "nbformat": 4,
  "cells": [
    {
      "cell_type": "markdown",
      "metadata": {
        "id": "view-in-github",
        "colab_type": "text"
      },
      "source": [
        "<a href=\"https://colab.research.google.com/github/Kaniz20/Python_Basics_Libraries_Guide/blob/main/Titanic_Data_Analysis_%26_Visualization_with_Pandas.ipynb\" target=\"_parent\"><img src=\"https://colab.research.google.com/assets/colab-badge.svg\" alt=\"Open In Colab\"/></a>"
      ]
    },
    {
      "source": [
        "# IMPORTANT: SOME KAGGLE DATA SOURCES ARE PRIVATE\n",
        "# RUN THIS CELL IN ORDER TO IMPORT YOUR KAGGLE DATA SOURCES.\n",
        "import kagglehub\n",
        "kagglehub.login()\n"
      ],
      "metadata": {
        "id": "emPLWgWlDzm7"
      },
      "cell_type": "code",
      "outputs": [],
      "execution_count": null
    },
    {
      "source": [
        "# IMPORTANT: RUN THIS CELL IN ORDER TO IMPORT YOUR KAGGLE DATA SOURCES,\n",
        "# THEN FEEL FREE TO DELETE THIS CELL.\n",
        "# NOTE: THIS NOTEBOOK ENVIRONMENT DIFFERS FROM KAGGLE'S PYTHON\n",
        "# ENVIRONMENT SO THERE MAY BE MISSING LIBRARIES USED BY YOUR\n",
        "# NOTEBOOK.\n",
        "\n",
        "titanic_path = kagglehub.competition_download('titanic')\n",
        "\n",
        "print('Data source import complete.')\n"
      ],
      "metadata": {
        "id": "pdff7rXuDzm-"
      },
      "cell_type": "code",
      "outputs": [],
      "execution_count": null
    },
    {
      "cell_type": "code",
      "source": [
        "#Import library\n",
        "import pandas as pd"
      ],
      "metadata": {
        "_uuid": "8f2839f25d086af736a60e9eeb907d3b93b6e0e5",
        "_cell_guid": "b1076dfc-b9ad-4769-8c92-a6c4dae69d19",
        "trusted": true,
        "execution": {
          "iopub.status.busy": "2025-09-29T16:41:15.265948Z",
          "iopub.execute_input": "2025-09-29T16:41:15.266632Z",
          "iopub.status.idle": "2025-09-29T16:41:15.2697Z",
          "shell.execute_reply.started": "2025-09-29T16:41:15.26661Z",
          "shell.execute_reply": "2025-09-29T16:41:15.269064Z"
        },
        "id": "cf6a_STRDznB"
      },
      "outputs": [],
      "execution_count": null
    },
    {
      "cell_type": "code",
      "source": [
        "train=pd.read_csv(\"/kaggle/input/titanic/train.csv\")"
      ],
      "metadata": {
        "trusted": true,
        "execution": {
          "iopub.status.busy": "2025-09-29T16:41:15.274753Z",
          "iopub.execute_input": "2025-09-29T16:41:15.274974Z",
          "iopub.status.idle": "2025-09-29T16:41:15.292204Z",
          "shell.execute_reply.started": "2025-09-29T16:41:15.274957Z",
          "shell.execute_reply": "2025-09-29T16:41:15.291629Z"
        },
        "id": "mKDOakoeDznD"
      },
      "outputs": [],
      "execution_count": null
    },
    {
      "cell_type": "code",
      "source": [
        "df=train.copy()"
      ],
      "metadata": {
        "trusted": true,
        "execution": {
          "iopub.status.busy": "2025-09-29T16:41:15.293308Z",
          "iopub.execute_input": "2025-09-29T16:41:15.293608Z",
          "iopub.status.idle": "2025-09-29T16:41:15.30722Z",
          "shell.execute_reply.started": "2025-09-29T16:41:15.29357Z",
          "shell.execute_reply": "2025-09-29T16:41:15.306596Z"
        },
        "id": "rALzXFQnDznE"
      },
      "outputs": [],
      "execution_count": null
    },
    {
      "cell_type": "code",
      "source": [
        "df.head()"
      ],
      "metadata": {
        "trusted": true,
        "execution": {
          "iopub.status.busy": "2025-09-29T16:41:15.319723Z",
          "iopub.execute_input": "2025-09-29T16:41:15.3199Z",
          "iopub.status.idle": "2025-09-29T16:41:15.330255Z",
          "shell.execute_reply.started": "2025-09-29T16:41:15.319886Z",
          "shell.execute_reply": "2025-09-29T16:41:15.329499Z"
        },
        "id": "sgJ10tAeDznF",
        "outputId": "5d92611e-0bbd-4b2a-df37-c8124204c8eb"
      },
      "outputs": [
        {
          "execution_count": 132,
          "output_type": "execute_result",
          "data": {
            "text/plain": "   PassengerId  Survived  Pclass  \\\n0            1         0       3   \n1            2         1       1   \n2            3         1       3   \n3            4         1       1   \n4            5         0       3   \n\n                                                Name     Sex   Age  SibSp  \\\n0                            Braund, Mr. Owen Harris    male  22.0      1   \n1  Cumings, Mrs. John Bradley (Florence Briggs Th...  female  38.0      1   \n2                             Heikkinen, Miss. Laina  female  26.0      0   \n3       Futrelle, Mrs. Jacques Heath (Lily May Peel)  female  35.0      1   \n4                           Allen, Mr. William Henry    male  35.0      0   \n\n   Parch            Ticket     Fare Cabin Embarked  \n0      0         A/5 21171   7.2500   NaN        S  \n1      0          PC 17599  71.2833   C85        C  \n2      0  STON/O2. 3101282   7.9250   NaN        S  \n3      0            113803  53.1000  C123        S  \n4      0            373450   8.0500   NaN        S  ",
            "text/html": "<div>\n<style scoped>\n    .dataframe tbody tr th:only-of-type {\n        vertical-align: middle;\n    }\n\n    .dataframe tbody tr th {\n        vertical-align: top;\n    }\n\n    .dataframe thead th {\n        text-align: right;\n    }\n</style>\n<table border=\"1\" class=\"dataframe\">\n  <thead>\n    <tr style=\"text-align: right;\">\n      <th></th>\n      <th>PassengerId</th>\n      <th>Survived</th>\n      <th>Pclass</th>\n      <th>Name</th>\n      <th>Sex</th>\n      <th>Age</th>\n      <th>SibSp</th>\n      <th>Parch</th>\n      <th>Ticket</th>\n      <th>Fare</th>\n      <th>Cabin</th>\n      <th>Embarked</th>\n    </tr>\n  </thead>\n  <tbody>\n    <tr>\n      <th>0</th>\n      <td>1</td>\n      <td>0</td>\n      <td>3</td>\n      <td>Braund, Mr. Owen Harris</td>\n      <td>male</td>\n      <td>22.0</td>\n      <td>1</td>\n      <td>0</td>\n      <td>A/5 21171</td>\n      <td>7.2500</td>\n      <td>NaN</td>\n      <td>S</td>\n    </tr>\n    <tr>\n      <th>1</th>\n      <td>2</td>\n      <td>1</td>\n      <td>1</td>\n      <td>Cumings, Mrs. John Bradley (Florence Briggs Th...</td>\n      <td>female</td>\n      <td>38.0</td>\n      <td>1</td>\n      <td>0</td>\n      <td>PC 17599</td>\n      <td>71.2833</td>\n      <td>C85</td>\n      <td>C</td>\n    </tr>\n    <tr>\n      <th>2</th>\n      <td>3</td>\n      <td>1</td>\n      <td>3</td>\n      <td>Heikkinen, Miss. Laina</td>\n      <td>female</td>\n      <td>26.0</td>\n      <td>0</td>\n      <td>0</td>\n      <td>STON/O2. 3101282</td>\n      <td>7.9250</td>\n      <td>NaN</td>\n      <td>S</td>\n    </tr>\n    <tr>\n      <th>3</th>\n      <td>4</td>\n      <td>1</td>\n      <td>1</td>\n      <td>Futrelle, Mrs. Jacques Heath (Lily May Peel)</td>\n      <td>female</td>\n      <td>35.0</td>\n      <td>1</td>\n      <td>0</td>\n      <td>113803</td>\n      <td>53.1000</td>\n      <td>C123</td>\n      <td>S</td>\n    </tr>\n    <tr>\n      <th>4</th>\n      <td>5</td>\n      <td>0</td>\n      <td>3</td>\n      <td>Allen, Mr. William Henry</td>\n      <td>male</td>\n      <td>35.0</td>\n      <td>0</td>\n      <td>0</td>\n      <td>373450</td>\n      <td>8.0500</td>\n      <td>NaN</td>\n      <td>S</td>\n    </tr>\n  </tbody>\n</table>\n</div>"
          },
          "metadata": {}
        }
      ],
      "execution_count": null
    },
    {
      "cell_type": "code",
      "source": [
        "df.head(10)"
      ],
      "metadata": {
        "trusted": true,
        "execution": {
          "iopub.status.busy": "2025-09-29T16:41:15.354437Z",
          "iopub.execute_input": "2025-09-29T16:41:15.354668Z",
          "iopub.status.idle": "2025-09-29T16:41:15.368081Z",
          "shell.execute_reply.started": "2025-09-29T16:41:15.354652Z",
          "shell.execute_reply": "2025-09-29T16:41:15.367467Z"
        },
        "id": "ddjp3QTiDznH",
        "outputId": "27051a31-cea3-43a5-b369-abc8f94adb95"
      },
      "outputs": [
        {
          "name": "stderr",
          "text": "/usr/local/lib/python3.11/dist-packages/pandas/io/formats/format.py:1458: RuntimeWarning: invalid value encountered in greater\n  has_large_values = (abs_vals > 1e6).any()\n/usr/local/lib/python3.11/dist-packages/pandas/io/formats/format.py:1459: RuntimeWarning: invalid value encountered in less\n  has_small_values = ((abs_vals < 10 ** (-self.digits)) & (abs_vals > 0)).any()\n/usr/local/lib/python3.11/dist-packages/pandas/io/formats/format.py:1459: RuntimeWarning: invalid value encountered in greater\n  has_small_values = ((abs_vals < 10 ** (-self.digits)) & (abs_vals > 0)).any()\n",
          "output_type": "stream"
        },
        {
          "execution_count": 133,
          "output_type": "execute_result",
          "data": {
            "text/plain": "   PassengerId  Survived  Pclass  \\\n0            1         0       3   \n1            2         1       1   \n2            3         1       3   \n3            4         1       1   \n4            5         0       3   \n5            6         0       3   \n6            7         0       1   \n7            8         0       3   \n8            9         1       3   \n9           10         1       2   \n\n                                                Name     Sex   Age  SibSp  \\\n0                            Braund, Mr. Owen Harris    male  22.0      1   \n1  Cumings, Mrs. John Bradley (Florence Briggs Th...  female  38.0      1   \n2                             Heikkinen, Miss. Laina  female  26.0      0   \n3       Futrelle, Mrs. Jacques Heath (Lily May Peel)  female  35.0      1   \n4                           Allen, Mr. William Henry    male  35.0      0   \n5                                   Moran, Mr. James    male   NaN      0   \n6                            McCarthy, Mr. Timothy J    male  54.0      0   \n7                     Palsson, Master. Gosta Leonard    male   2.0      3   \n8  Johnson, Mrs. Oscar W (Elisabeth Vilhelmina Berg)  female  27.0      0   \n9                Nasser, Mrs. Nicholas (Adele Achem)  female  14.0      1   \n\n   Parch            Ticket     Fare Cabin Embarked  \n0      0         A/5 21171   7.2500   NaN        S  \n1      0          PC 17599  71.2833   C85        C  \n2      0  STON/O2. 3101282   7.9250   NaN        S  \n3      0            113803  53.1000  C123        S  \n4      0            373450   8.0500   NaN        S  \n5      0            330877   8.4583   NaN        Q  \n6      0             17463  51.8625   E46        S  \n7      1            349909  21.0750   NaN        S  \n8      2            347742  11.1333   NaN        S  \n9      0            237736  30.0708   NaN        C  ",
            "text/html": "<div>\n<style scoped>\n    .dataframe tbody tr th:only-of-type {\n        vertical-align: middle;\n    }\n\n    .dataframe tbody tr th {\n        vertical-align: top;\n    }\n\n    .dataframe thead th {\n        text-align: right;\n    }\n</style>\n<table border=\"1\" class=\"dataframe\">\n  <thead>\n    <tr style=\"text-align: right;\">\n      <th></th>\n      <th>PassengerId</th>\n      <th>Survived</th>\n      <th>Pclass</th>\n      <th>Name</th>\n      <th>Sex</th>\n      <th>Age</th>\n      <th>SibSp</th>\n      <th>Parch</th>\n      <th>Ticket</th>\n      <th>Fare</th>\n      <th>Cabin</th>\n      <th>Embarked</th>\n    </tr>\n  </thead>\n  <tbody>\n    <tr>\n      <th>0</th>\n      <td>1</td>\n      <td>0</td>\n      <td>3</td>\n      <td>Braund, Mr. Owen Harris</td>\n      <td>male</td>\n      <td>22.0</td>\n      <td>1</td>\n      <td>0</td>\n      <td>A/5 21171</td>\n      <td>7.2500</td>\n      <td>NaN</td>\n      <td>S</td>\n    </tr>\n    <tr>\n      <th>1</th>\n      <td>2</td>\n      <td>1</td>\n      <td>1</td>\n      <td>Cumings, Mrs. John Bradley (Florence Briggs Th...</td>\n      <td>female</td>\n      <td>38.0</td>\n      <td>1</td>\n      <td>0</td>\n      <td>PC 17599</td>\n      <td>71.2833</td>\n      <td>C85</td>\n      <td>C</td>\n    </tr>\n    <tr>\n      <th>2</th>\n      <td>3</td>\n      <td>1</td>\n      <td>3</td>\n      <td>Heikkinen, Miss. Laina</td>\n      <td>female</td>\n      <td>26.0</td>\n      <td>0</td>\n      <td>0</td>\n      <td>STON/O2. 3101282</td>\n      <td>7.9250</td>\n      <td>NaN</td>\n      <td>S</td>\n    </tr>\n    <tr>\n      <th>3</th>\n      <td>4</td>\n      <td>1</td>\n      <td>1</td>\n      <td>Futrelle, Mrs. Jacques Heath (Lily May Peel)</td>\n      <td>female</td>\n      <td>35.0</td>\n      <td>1</td>\n      <td>0</td>\n      <td>113803</td>\n      <td>53.1000</td>\n      <td>C123</td>\n      <td>S</td>\n    </tr>\n    <tr>\n      <th>4</th>\n      <td>5</td>\n      <td>0</td>\n      <td>3</td>\n      <td>Allen, Mr. William Henry</td>\n      <td>male</td>\n      <td>35.0</td>\n      <td>0</td>\n      <td>0</td>\n      <td>373450</td>\n      <td>8.0500</td>\n      <td>NaN</td>\n      <td>S</td>\n    </tr>\n    <tr>\n      <th>5</th>\n      <td>6</td>\n      <td>0</td>\n      <td>3</td>\n      <td>Moran, Mr. James</td>\n      <td>male</td>\n      <td>NaN</td>\n      <td>0</td>\n      <td>0</td>\n      <td>330877</td>\n      <td>8.4583</td>\n      <td>NaN</td>\n      <td>Q</td>\n    </tr>\n    <tr>\n      <th>6</th>\n      <td>7</td>\n      <td>0</td>\n      <td>1</td>\n      <td>McCarthy, Mr. Timothy J</td>\n      <td>male</td>\n      <td>54.0</td>\n      <td>0</td>\n      <td>0</td>\n      <td>17463</td>\n      <td>51.8625</td>\n      <td>E46</td>\n      <td>S</td>\n    </tr>\n    <tr>\n      <th>7</th>\n      <td>8</td>\n      <td>0</td>\n      <td>3</td>\n      <td>Palsson, Master. Gosta Leonard</td>\n      <td>male</td>\n      <td>2.0</td>\n      <td>3</td>\n      <td>1</td>\n      <td>349909</td>\n      <td>21.0750</td>\n      <td>NaN</td>\n      <td>S</td>\n    </tr>\n    <tr>\n      <th>8</th>\n      <td>9</td>\n      <td>1</td>\n      <td>3</td>\n      <td>Johnson, Mrs. Oscar W (Elisabeth Vilhelmina Berg)</td>\n      <td>female</td>\n      <td>27.0</td>\n      <td>0</td>\n      <td>2</td>\n      <td>347742</td>\n      <td>11.1333</td>\n      <td>NaN</td>\n      <td>S</td>\n    </tr>\n    <tr>\n      <th>9</th>\n      <td>10</td>\n      <td>1</td>\n      <td>2</td>\n      <td>Nasser, Mrs. Nicholas (Adele Achem)</td>\n      <td>female</td>\n      <td>14.0</td>\n      <td>1</td>\n      <td>0</td>\n      <td>237736</td>\n      <td>30.0708</td>\n      <td>NaN</td>\n      <td>C</td>\n    </tr>\n  </tbody>\n</table>\n</div>"
          },
          "metadata": {}
        }
      ],
      "execution_count": null
    },
    {
      "cell_type": "code",
      "source": [
        "df.tail()"
      ],
      "metadata": {
        "trusted": true,
        "execution": {
          "iopub.status.busy": "2025-09-29T16:41:15.381077Z",
          "iopub.execute_input": "2025-09-29T16:41:15.381268Z",
          "iopub.status.idle": "2025-09-29T16:41:15.392039Z",
          "shell.execute_reply.started": "2025-09-29T16:41:15.381252Z",
          "shell.execute_reply": "2025-09-29T16:41:15.391488Z"
        },
        "id": "pY5iX8ZxDznJ",
        "outputId": "7ff8a0e2-c439-43bd-87dc-b6999ff7b10a"
      },
      "outputs": [
        {
          "name": "stderr",
          "text": "/usr/local/lib/python3.11/dist-packages/pandas/io/formats/format.py:1458: RuntimeWarning: invalid value encountered in greater\n  has_large_values = (abs_vals > 1e6).any()\n/usr/local/lib/python3.11/dist-packages/pandas/io/formats/format.py:1459: RuntimeWarning: invalid value encountered in less\n  has_small_values = ((abs_vals < 10 ** (-self.digits)) & (abs_vals > 0)).any()\n/usr/local/lib/python3.11/dist-packages/pandas/io/formats/format.py:1459: RuntimeWarning: invalid value encountered in greater\n  has_small_values = ((abs_vals < 10 ** (-self.digits)) & (abs_vals > 0)).any()\n",
          "output_type": "stream"
        },
        {
          "execution_count": 134,
          "output_type": "execute_result",
          "data": {
            "text/plain": "     PassengerId  Survived  Pclass                                      Name  \\\n886          887         0       2                     Montvila, Rev. Juozas   \n887          888         1       1              Graham, Miss. Margaret Edith   \n888          889         0       3  Johnston, Miss. Catherine Helen \"Carrie\"   \n889          890         1       1                     Behr, Mr. Karl Howell   \n890          891         0       3                       Dooley, Mr. Patrick   \n\n        Sex   Age  SibSp  Parch      Ticket   Fare Cabin Embarked  \n886    male  27.0      0      0      211536  13.00   NaN        S  \n887  female  19.0      0      0      112053  30.00   B42        S  \n888  female   NaN      1      2  W./C. 6607  23.45   NaN        S  \n889    male  26.0      0      0      111369  30.00  C148        C  \n890    male  32.0      0      0      370376   7.75   NaN        Q  ",
            "text/html": "<div>\n<style scoped>\n    .dataframe tbody tr th:only-of-type {\n        vertical-align: middle;\n    }\n\n    .dataframe tbody tr th {\n        vertical-align: top;\n    }\n\n    .dataframe thead th {\n        text-align: right;\n    }\n</style>\n<table border=\"1\" class=\"dataframe\">\n  <thead>\n    <tr style=\"text-align: right;\">\n      <th></th>\n      <th>PassengerId</th>\n      <th>Survived</th>\n      <th>Pclass</th>\n      <th>Name</th>\n      <th>Sex</th>\n      <th>Age</th>\n      <th>SibSp</th>\n      <th>Parch</th>\n      <th>Ticket</th>\n      <th>Fare</th>\n      <th>Cabin</th>\n      <th>Embarked</th>\n    </tr>\n  </thead>\n  <tbody>\n    <tr>\n      <th>886</th>\n      <td>887</td>\n      <td>0</td>\n      <td>2</td>\n      <td>Montvila, Rev. Juozas</td>\n      <td>male</td>\n      <td>27.0</td>\n      <td>0</td>\n      <td>0</td>\n      <td>211536</td>\n      <td>13.00</td>\n      <td>NaN</td>\n      <td>S</td>\n    </tr>\n    <tr>\n      <th>887</th>\n      <td>888</td>\n      <td>1</td>\n      <td>1</td>\n      <td>Graham, Miss. Margaret Edith</td>\n      <td>female</td>\n      <td>19.0</td>\n      <td>0</td>\n      <td>0</td>\n      <td>112053</td>\n      <td>30.00</td>\n      <td>B42</td>\n      <td>S</td>\n    </tr>\n    <tr>\n      <th>888</th>\n      <td>889</td>\n      <td>0</td>\n      <td>3</td>\n      <td>Johnston, Miss. Catherine Helen \"Carrie\"</td>\n      <td>female</td>\n      <td>NaN</td>\n      <td>1</td>\n      <td>2</td>\n      <td>W./C. 6607</td>\n      <td>23.45</td>\n      <td>NaN</td>\n      <td>S</td>\n    </tr>\n    <tr>\n      <th>889</th>\n      <td>890</td>\n      <td>1</td>\n      <td>1</td>\n      <td>Behr, Mr. Karl Howell</td>\n      <td>male</td>\n      <td>26.0</td>\n      <td>0</td>\n      <td>0</td>\n      <td>111369</td>\n      <td>30.00</td>\n      <td>C148</td>\n      <td>C</td>\n    </tr>\n    <tr>\n      <th>890</th>\n      <td>891</td>\n      <td>0</td>\n      <td>3</td>\n      <td>Dooley, Mr. Patrick</td>\n      <td>male</td>\n      <td>32.0</td>\n      <td>0</td>\n      <td>0</td>\n      <td>370376</td>\n      <td>7.75</td>\n      <td>NaN</td>\n      <td>Q</td>\n    </tr>\n  </tbody>\n</table>\n</div>"
          },
          "metadata": {}
        }
      ],
      "execution_count": null
    },
    {
      "cell_type": "code",
      "source": [
        "df.shape"
      ],
      "metadata": {
        "trusted": true,
        "execution": {
          "iopub.status.busy": "2025-09-29T16:41:15.397842Z",
          "iopub.execute_input": "2025-09-29T16:41:15.398181Z",
          "iopub.status.idle": "2025-09-29T16:41:15.407713Z",
          "shell.execute_reply.started": "2025-09-29T16:41:15.398158Z",
          "shell.execute_reply": "2025-09-29T16:41:15.406968Z"
        },
        "id": "Ap81yHy2DznK",
        "outputId": "b5a9c935-f823-468a-edf4-32e0e8361e81"
      },
      "outputs": [
        {
          "execution_count": 135,
          "output_type": "execute_result",
          "data": {
            "text/plain": "(891, 12)"
          },
          "metadata": {}
        }
      ],
      "execution_count": null
    },
    {
      "cell_type": "code",
      "source": [
        "df.columns"
      ],
      "metadata": {
        "trusted": true,
        "execution": {
          "iopub.status.busy": "2025-09-29T16:41:15.412475Z",
          "iopub.execute_input": "2025-09-29T16:41:15.413142Z",
          "iopub.status.idle": "2025-09-29T16:41:15.425207Z",
          "shell.execute_reply.started": "2025-09-29T16:41:15.413116Z",
          "shell.execute_reply": "2025-09-29T16:41:15.424469Z"
        },
        "id": "mOu0wNqbDznL",
        "outputId": "e35f3d9a-d593-4e97-c5a3-f384b0f1f193"
      },
      "outputs": [
        {
          "execution_count": 136,
          "output_type": "execute_result",
          "data": {
            "text/plain": "Index(['PassengerId', 'Survived', 'Pclass', 'Name', 'Sex', 'Age', 'SibSp',\n       'Parch', 'Ticket', 'Fare', 'Cabin', 'Embarked'],\n      dtype='object')"
          },
          "metadata": {}
        }
      ],
      "execution_count": null
    },
    {
      "cell_type": "code",
      "source": [
        "df[\"Pclass\"]"
      ],
      "metadata": {
        "trusted": true,
        "execution": {
          "iopub.status.busy": "2025-09-29T16:41:15.428012Z",
          "iopub.execute_input": "2025-09-29T16:41:15.428212Z",
          "iopub.status.idle": "2025-09-29T16:41:15.442042Z",
          "shell.execute_reply.started": "2025-09-29T16:41:15.428197Z",
          "shell.execute_reply": "2025-09-29T16:41:15.441219Z"
        },
        "id": "_k4CmlDgDznN",
        "outputId": "7e466d9a-bb31-49cd-d330-c2531e8da11c"
      },
      "outputs": [
        {
          "execution_count": 137,
          "output_type": "execute_result",
          "data": {
            "text/plain": "0      3\n1      1\n2      3\n3      1\n4      3\n      ..\n886    2\n887    1\n888    3\n889    1\n890    3\nName: Pclass, Length: 891, dtype: int64"
          },
          "metadata": {}
        }
      ],
      "execution_count": null
    },
    {
      "cell_type": "code",
      "source": [
        "df.describe()"
      ],
      "metadata": {
        "trusted": true,
        "execution": {
          "iopub.status.busy": "2025-09-29T16:41:15.454533Z",
          "iopub.execute_input": "2025-09-29T16:41:15.454771Z",
          "iopub.status.idle": "2025-09-29T16:41:15.47598Z",
          "shell.execute_reply.started": "2025-09-29T16:41:15.454755Z",
          "shell.execute_reply": "2025-09-29T16:41:15.475222Z"
        },
        "id": "97SANnF3DznN",
        "outputId": "a9ffd024-6718-480c-dc23-46c8706cc2da"
      },
      "outputs": [
        {
          "execution_count": 138,
          "output_type": "execute_result",
          "data": {
            "text/plain": "       PassengerId    Survived      Pclass         Age       SibSp  \\\ncount   891.000000  891.000000  891.000000  714.000000  891.000000   \nmean    446.000000    0.383838    2.308642   29.699118    0.523008   \nstd     257.353842    0.486592    0.836071   14.526497    1.102743   \nmin       1.000000    0.000000    1.000000    0.420000    0.000000   \n25%     223.500000    0.000000    2.000000   20.125000    0.000000   \n50%     446.000000    0.000000    3.000000   28.000000    0.000000   \n75%     668.500000    1.000000    3.000000   38.000000    1.000000   \nmax     891.000000    1.000000    3.000000   80.000000    8.000000   \n\n            Parch        Fare  \ncount  891.000000  891.000000  \nmean     0.381594   32.204208  \nstd      0.806057   49.693429  \nmin      0.000000    0.000000  \n25%      0.000000    7.910400  \n50%      0.000000   14.454200  \n75%      0.000000   31.000000  \nmax      6.000000  512.329200  ",
            "text/html": "<div>\n<style scoped>\n    .dataframe tbody tr th:only-of-type {\n        vertical-align: middle;\n    }\n\n    .dataframe tbody tr th {\n        vertical-align: top;\n    }\n\n    .dataframe thead th {\n        text-align: right;\n    }\n</style>\n<table border=\"1\" class=\"dataframe\">\n  <thead>\n    <tr style=\"text-align: right;\">\n      <th></th>\n      <th>PassengerId</th>\n      <th>Survived</th>\n      <th>Pclass</th>\n      <th>Age</th>\n      <th>SibSp</th>\n      <th>Parch</th>\n      <th>Fare</th>\n    </tr>\n  </thead>\n  <tbody>\n    <tr>\n      <th>count</th>\n      <td>891.000000</td>\n      <td>891.000000</td>\n      <td>891.000000</td>\n      <td>714.000000</td>\n      <td>891.000000</td>\n      <td>891.000000</td>\n      <td>891.000000</td>\n    </tr>\n    <tr>\n      <th>mean</th>\n      <td>446.000000</td>\n      <td>0.383838</td>\n      <td>2.308642</td>\n      <td>29.699118</td>\n      <td>0.523008</td>\n      <td>0.381594</td>\n      <td>32.204208</td>\n    </tr>\n    <tr>\n      <th>std</th>\n      <td>257.353842</td>\n      <td>0.486592</td>\n      <td>0.836071</td>\n      <td>14.526497</td>\n      <td>1.102743</td>\n      <td>0.806057</td>\n      <td>49.693429</td>\n    </tr>\n    <tr>\n      <th>min</th>\n      <td>1.000000</td>\n      <td>0.000000</td>\n      <td>1.000000</td>\n      <td>0.420000</td>\n      <td>0.000000</td>\n      <td>0.000000</td>\n      <td>0.000000</td>\n    </tr>\n    <tr>\n      <th>25%</th>\n      <td>223.500000</td>\n      <td>0.000000</td>\n      <td>2.000000</td>\n      <td>20.125000</td>\n      <td>0.000000</td>\n      <td>0.000000</td>\n      <td>7.910400</td>\n    </tr>\n    <tr>\n      <th>50%</th>\n      <td>446.000000</td>\n      <td>0.000000</td>\n      <td>3.000000</td>\n      <td>28.000000</td>\n      <td>0.000000</td>\n      <td>0.000000</td>\n      <td>14.454200</td>\n    </tr>\n    <tr>\n      <th>75%</th>\n      <td>668.500000</td>\n      <td>1.000000</td>\n      <td>3.000000</td>\n      <td>38.000000</td>\n      <td>1.000000</td>\n      <td>0.000000</td>\n      <td>31.000000</td>\n    </tr>\n    <tr>\n      <th>max</th>\n      <td>891.000000</td>\n      <td>1.000000</td>\n      <td>3.000000</td>\n      <td>80.000000</td>\n      <td>8.000000</td>\n      <td>6.000000</td>\n      <td>512.329200</td>\n    </tr>\n  </tbody>\n</table>\n</div>"
          },
          "metadata": {}
        }
      ],
      "execution_count": null
    },
    {
      "cell_type": "markdown",
      "source": [
        "# Create data frame"
      ],
      "metadata": {
        "id": "h3LgPoldDznO"
      }
    },
    {
      "cell_type": "code",
      "source": [
        "dic={\n",
        "    \"Name\":[\"Kaniz\",\"Fatema\",\"Anika\",\"Jitu\",\"Nabila\"],\n",
        "    \"Age\":[22,23,25,28,30],\n",
        "    \"ID\":[102,103,105,106,101]\n",
        "}"
      ],
      "metadata": {
        "trusted": true,
        "execution": {
          "iopub.status.busy": "2025-09-29T16:41:15.477099Z",
          "iopub.execute_input": "2025-09-29T16:41:15.477564Z",
          "iopub.status.idle": "2025-09-29T16:41:15.481104Z",
          "shell.execute_reply.started": "2025-09-29T16:41:15.477547Z",
          "shell.execute_reply": "2025-09-29T16:41:15.480348Z"
        },
        "id": "A1TVhQidDznR"
      },
      "outputs": [],
      "execution_count": null
    },
    {
      "cell_type": "code",
      "source": [
        "data_frame=pd.DataFrame(dic)"
      ],
      "metadata": {
        "trusted": true,
        "execution": {
          "iopub.status.busy": "2025-09-29T16:41:15.481751Z",
          "iopub.execute_input": "2025-09-29T16:41:15.481958Z",
          "iopub.status.idle": "2025-09-29T16:41:15.496805Z",
          "shell.execute_reply.started": "2025-09-29T16:41:15.481943Z",
          "shell.execute_reply": "2025-09-29T16:41:15.496146Z"
        },
        "id": "oHEQKuVGDznS"
      },
      "outputs": [],
      "execution_count": null
    },
    {
      "cell_type": "code",
      "source": [
        "data_frame.describe()"
      ],
      "metadata": {
        "trusted": true,
        "execution": {
          "iopub.status.busy": "2025-09-29T16:41:15.497954Z",
          "iopub.execute_input": "2025-09-29T16:41:15.498138Z",
          "iopub.status.idle": "2025-09-29T16:41:15.519768Z",
          "shell.execute_reply.started": "2025-09-29T16:41:15.498123Z",
          "shell.execute_reply": "2025-09-29T16:41:15.519012Z"
        },
        "id": "lySqzrwrDznS",
        "outputId": "e564bd79-595f-4aa1-d42a-2fcf612a36ac"
      },
      "outputs": [
        {
          "execution_count": 141,
          "output_type": "execute_result",
          "data": {
            "text/plain": "             Age          ID\ncount   5.000000    5.000000\nmean   25.600000  103.400000\nstd     3.361547    2.073644\nmin    22.000000  101.000000\n25%    23.000000  102.000000\n50%    25.000000  103.000000\n75%    28.000000  105.000000\nmax    30.000000  106.000000",
            "text/html": "<div>\n<style scoped>\n    .dataframe tbody tr th:only-of-type {\n        vertical-align: middle;\n    }\n\n    .dataframe tbody tr th {\n        vertical-align: top;\n    }\n\n    .dataframe thead th {\n        text-align: right;\n    }\n</style>\n<table border=\"1\" class=\"dataframe\">\n  <thead>\n    <tr style=\"text-align: right;\">\n      <th></th>\n      <th>Age</th>\n      <th>ID</th>\n    </tr>\n  </thead>\n  <tbody>\n    <tr>\n      <th>count</th>\n      <td>5.000000</td>\n      <td>5.000000</td>\n    </tr>\n    <tr>\n      <th>mean</th>\n      <td>25.600000</td>\n      <td>103.400000</td>\n    </tr>\n    <tr>\n      <th>std</th>\n      <td>3.361547</td>\n      <td>2.073644</td>\n    </tr>\n    <tr>\n      <th>min</th>\n      <td>22.000000</td>\n      <td>101.000000</td>\n    </tr>\n    <tr>\n      <th>25%</th>\n      <td>23.000000</td>\n      <td>102.000000</td>\n    </tr>\n    <tr>\n      <th>50%</th>\n      <td>25.000000</td>\n      <td>103.000000</td>\n    </tr>\n    <tr>\n      <th>75%</th>\n      <td>28.000000</td>\n      <td>105.000000</td>\n    </tr>\n    <tr>\n      <th>max</th>\n      <td>30.000000</td>\n      <td>106.000000</td>\n    </tr>\n  </tbody>\n</table>\n</div>"
          },
          "metadata": {}
        }
      ],
      "execution_count": null
    },
    {
      "cell_type": "code",
      "source": [
        "data_frame.head()"
      ],
      "metadata": {
        "trusted": true,
        "execution": {
          "iopub.status.busy": "2025-09-29T16:41:15.522691Z",
          "iopub.execute_input": "2025-09-29T16:41:15.522961Z",
          "iopub.status.idle": "2025-09-29T16:41:15.537064Z",
          "shell.execute_reply.started": "2025-09-29T16:41:15.522935Z",
          "shell.execute_reply": "2025-09-29T16:41:15.536405Z"
        },
        "id": "Y1gcSUSdDznT",
        "outputId": "4220b649-bd68-49b7-f29e-ab23b0c98846"
      },
      "outputs": [
        {
          "execution_count": 142,
          "output_type": "execute_result",
          "data": {
            "text/plain": "     Name  Age   ID\n0   Kaniz   22  102\n1  Fatema   23  103\n2   Anika   25  105\n3    Jitu   28  106\n4  Nabila   30  101",
            "text/html": "<div>\n<style scoped>\n    .dataframe tbody tr th:only-of-type {\n        vertical-align: middle;\n    }\n\n    .dataframe tbody tr th {\n        vertical-align: top;\n    }\n\n    .dataframe thead th {\n        text-align: right;\n    }\n</style>\n<table border=\"1\" class=\"dataframe\">\n  <thead>\n    <tr style=\"text-align: right;\">\n      <th></th>\n      <th>Name</th>\n      <th>Age</th>\n      <th>ID</th>\n    </tr>\n  </thead>\n  <tbody>\n    <tr>\n      <th>0</th>\n      <td>Kaniz</td>\n      <td>22</td>\n      <td>102</td>\n    </tr>\n    <tr>\n      <th>1</th>\n      <td>Fatema</td>\n      <td>23</td>\n      <td>103</td>\n    </tr>\n    <tr>\n      <th>2</th>\n      <td>Anika</td>\n      <td>25</td>\n      <td>105</td>\n    </tr>\n    <tr>\n      <th>3</th>\n      <td>Jitu</td>\n      <td>28</td>\n      <td>106</td>\n    </tr>\n    <tr>\n      <th>4</th>\n      <td>Nabila</td>\n      <td>30</td>\n      <td>101</td>\n    </tr>\n  </tbody>\n</table>\n</div>"
          },
          "metadata": {}
        }
      ],
      "execution_count": null
    },
    {
      "cell_type": "code",
      "source": [
        "data_frame.columns"
      ],
      "metadata": {
        "trusted": true,
        "execution": {
          "iopub.status.busy": "2025-09-29T16:41:15.540696Z",
          "iopub.execute_input": "2025-09-29T16:41:15.541849Z",
          "iopub.status.idle": "2025-09-29T16:41:15.554637Z",
          "shell.execute_reply.started": "2025-09-29T16:41:15.541822Z",
          "shell.execute_reply": "2025-09-29T16:41:15.553666Z"
        },
        "id": "Lm7FlHsNDznU",
        "outputId": "a1d80a68-a8aa-47a9-b1fa-f8d5d3a43c6e"
      },
      "outputs": [
        {
          "execution_count": 143,
          "output_type": "execute_result",
          "data": {
            "text/plain": "Index(['Name', 'Age', 'ID'], dtype='object')"
          },
          "metadata": {}
        }
      ],
      "execution_count": null
    },
    {
      "cell_type": "code",
      "source": [
        "data_frame.shape"
      ],
      "metadata": {
        "trusted": true,
        "execution": {
          "iopub.status.busy": "2025-09-29T16:41:15.556038Z",
          "iopub.execute_input": "2025-09-29T16:41:15.55633Z",
          "iopub.status.idle": "2025-09-29T16:41:15.568518Z",
          "shell.execute_reply.started": "2025-09-29T16:41:15.556298Z",
          "shell.execute_reply": "2025-09-29T16:41:15.567755Z"
        },
        "id": "FxGnIe6ZDznV",
        "outputId": "a43a61d2-e630-4932-a063-04d2ab0d4615"
      },
      "outputs": [
        {
          "execution_count": 144,
          "output_type": "execute_result",
          "data": {
            "text/plain": "(5, 3)"
          },
          "metadata": {}
        }
      ],
      "execution_count": null
    },
    {
      "cell_type": "markdown",
      "source": [
        "# Null value Handling"
      ],
      "metadata": {
        "id": "HhFkgOWmDznX"
      }
    },
    {
      "cell_type": "code",
      "source": [
        "df.isnull()"
      ],
      "metadata": {
        "trusted": true,
        "execution": {
          "iopub.status.busy": "2025-09-29T16:41:15.578382Z",
          "iopub.execute_input": "2025-09-29T16:41:15.578957Z",
          "iopub.status.idle": "2025-09-29T16:41:15.594953Z",
          "shell.execute_reply.started": "2025-09-29T16:41:15.578927Z",
          "shell.execute_reply": "2025-09-29T16:41:15.594119Z"
        },
        "id": "D1LltTkODznY",
        "outputId": "65597eb2-3267-46ed-fd43-eae2ddf05f3a"
      },
      "outputs": [
        {
          "execution_count": 145,
          "output_type": "execute_result",
          "data": {
            "text/plain": "     PassengerId  Survived  Pclass   Name    Sex    Age  SibSp  Parch  Ticket  \\\n0          False     False   False  False  False  False  False  False   False   \n1          False     False   False  False  False  False  False  False   False   \n2          False     False   False  False  False  False  False  False   False   \n3          False     False   False  False  False  False  False  False   False   \n4          False     False   False  False  False  False  False  False   False   \n..           ...       ...     ...    ...    ...    ...    ...    ...     ...   \n886        False     False   False  False  False  False  False  False   False   \n887        False     False   False  False  False  False  False  False   False   \n888        False     False   False  False  False   True  False  False   False   \n889        False     False   False  False  False  False  False  False   False   \n890        False     False   False  False  False  False  False  False   False   \n\n      Fare  Cabin  Embarked  \n0    False   True     False  \n1    False  False     False  \n2    False   True     False  \n3    False  False     False  \n4    False   True     False  \n..     ...    ...       ...  \n886  False   True     False  \n887  False  False     False  \n888  False   True     False  \n889  False  False     False  \n890  False   True     False  \n\n[891 rows x 12 columns]",
            "text/html": "<div>\n<style scoped>\n    .dataframe tbody tr th:only-of-type {\n        vertical-align: middle;\n    }\n\n    .dataframe tbody tr th {\n        vertical-align: top;\n    }\n\n    .dataframe thead th {\n        text-align: right;\n    }\n</style>\n<table border=\"1\" class=\"dataframe\">\n  <thead>\n    <tr style=\"text-align: right;\">\n      <th></th>\n      <th>PassengerId</th>\n      <th>Survived</th>\n      <th>Pclass</th>\n      <th>Name</th>\n      <th>Sex</th>\n      <th>Age</th>\n      <th>SibSp</th>\n      <th>Parch</th>\n      <th>Ticket</th>\n      <th>Fare</th>\n      <th>Cabin</th>\n      <th>Embarked</th>\n    </tr>\n  </thead>\n  <tbody>\n    <tr>\n      <th>0</th>\n      <td>False</td>\n      <td>False</td>\n      <td>False</td>\n      <td>False</td>\n      <td>False</td>\n      <td>False</td>\n      <td>False</td>\n      <td>False</td>\n      <td>False</td>\n      <td>False</td>\n      <td>True</td>\n      <td>False</td>\n    </tr>\n    <tr>\n      <th>1</th>\n      <td>False</td>\n      <td>False</td>\n      <td>False</td>\n      <td>False</td>\n      <td>False</td>\n      <td>False</td>\n      <td>False</td>\n      <td>False</td>\n      <td>False</td>\n      <td>False</td>\n      <td>False</td>\n      <td>False</td>\n    </tr>\n    <tr>\n      <th>2</th>\n      <td>False</td>\n      <td>False</td>\n      <td>False</td>\n      <td>False</td>\n      <td>False</td>\n      <td>False</td>\n      <td>False</td>\n      <td>False</td>\n      <td>False</td>\n      <td>False</td>\n      <td>True</td>\n      <td>False</td>\n    </tr>\n    <tr>\n      <th>3</th>\n      <td>False</td>\n      <td>False</td>\n      <td>False</td>\n      <td>False</td>\n      <td>False</td>\n      <td>False</td>\n      <td>False</td>\n      <td>False</td>\n      <td>False</td>\n      <td>False</td>\n      <td>False</td>\n      <td>False</td>\n    </tr>\n    <tr>\n      <th>4</th>\n      <td>False</td>\n      <td>False</td>\n      <td>False</td>\n      <td>False</td>\n      <td>False</td>\n      <td>False</td>\n      <td>False</td>\n      <td>False</td>\n      <td>False</td>\n      <td>False</td>\n      <td>True</td>\n      <td>False</td>\n    </tr>\n    <tr>\n      <th>...</th>\n      <td>...</td>\n      <td>...</td>\n      <td>...</td>\n      <td>...</td>\n      <td>...</td>\n      <td>...</td>\n      <td>...</td>\n      <td>...</td>\n      <td>...</td>\n      <td>...</td>\n      <td>...</td>\n      <td>...</td>\n    </tr>\n    <tr>\n      <th>886</th>\n      <td>False</td>\n      <td>False</td>\n      <td>False</td>\n      <td>False</td>\n      <td>False</td>\n      <td>False</td>\n      <td>False</td>\n      <td>False</td>\n      <td>False</td>\n      <td>False</td>\n      <td>True</td>\n      <td>False</td>\n    </tr>\n    <tr>\n      <th>887</th>\n      <td>False</td>\n      <td>False</td>\n      <td>False</td>\n      <td>False</td>\n      <td>False</td>\n      <td>False</td>\n      <td>False</td>\n      <td>False</td>\n      <td>False</td>\n      <td>False</td>\n      <td>False</td>\n      <td>False</td>\n    </tr>\n    <tr>\n      <th>888</th>\n      <td>False</td>\n      <td>False</td>\n      <td>False</td>\n      <td>False</td>\n      <td>False</td>\n      <td>True</td>\n      <td>False</td>\n      <td>False</td>\n      <td>False</td>\n      <td>False</td>\n      <td>True</td>\n      <td>False</td>\n    </tr>\n    <tr>\n      <th>889</th>\n      <td>False</td>\n      <td>False</td>\n      <td>False</td>\n      <td>False</td>\n      <td>False</td>\n      <td>False</td>\n      <td>False</td>\n      <td>False</td>\n      <td>False</td>\n      <td>False</td>\n      <td>False</td>\n      <td>False</td>\n    </tr>\n    <tr>\n      <th>890</th>\n      <td>False</td>\n      <td>False</td>\n      <td>False</td>\n      <td>False</td>\n      <td>False</td>\n      <td>False</td>\n      <td>False</td>\n      <td>False</td>\n      <td>False</td>\n      <td>False</td>\n      <td>True</td>\n      <td>False</td>\n    </tr>\n  </tbody>\n</table>\n<p>891 rows × 12 columns</p>\n</div>"
          },
          "metadata": {}
        }
      ],
      "execution_count": null
    },
    {
      "cell_type": "code",
      "source": [
        "df.isnull().sum()"
      ],
      "metadata": {
        "trusted": true,
        "execution": {
          "iopub.status.busy": "2025-09-29T16:41:15.596087Z",
          "iopub.execute_input": "2025-09-29T16:41:15.596369Z",
          "iopub.status.idle": "2025-09-29T16:41:15.609381Z",
          "shell.execute_reply.started": "2025-09-29T16:41:15.596352Z",
          "shell.execute_reply": "2025-09-29T16:41:15.608746Z"
        },
        "id": "QWf4K9vTDznZ",
        "outputId": "72936c9b-a011-470f-c9e3-e1c6c62d4ae4"
      },
      "outputs": [
        {
          "execution_count": 146,
          "output_type": "execute_result",
          "data": {
            "text/plain": "PassengerId      0\nSurvived         0\nPclass           0\nName             0\nSex              0\nAge            177\nSibSp            0\nParch            0\nTicket           0\nFare             0\nCabin          687\nEmbarked         2\ndtype: int64"
          },
          "metadata": {}
        }
      ],
      "execution_count": null
    },
    {
      "cell_type": "code",
      "source": [
        "null_value=df[\"Age\"].mean()"
      ],
      "metadata": {
        "trusted": true,
        "execution": {
          "iopub.status.busy": "2025-09-29T16:41:15.610612Z",
          "iopub.execute_input": "2025-09-29T16:41:15.610854Z",
          "iopub.status.idle": "2025-09-29T16:41:15.621973Z",
          "shell.execute_reply.started": "2025-09-29T16:41:15.610833Z",
          "shell.execute_reply": "2025-09-29T16:41:15.621395Z"
        },
        "id": "NiMooRv4DznZ"
      },
      "outputs": [],
      "execution_count": null
    },
    {
      "cell_type": "code",
      "source": [
        "df.fillna(null_value,inplace=True)"
      ],
      "metadata": {
        "trusted": true,
        "execution": {
          "iopub.status.busy": "2025-09-29T16:41:15.622767Z",
          "iopub.execute_input": "2025-09-29T16:41:15.623094Z",
          "iopub.status.idle": "2025-09-29T16:41:15.636492Z",
          "shell.execute_reply.started": "2025-09-29T16:41:15.623071Z",
          "shell.execute_reply": "2025-09-29T16:41:15.635911Z"
        },
        "id": "YuNU3GVTDzna"
      },
      "outputs": [],
      "execution_count": null
    },
    {
      "cell_type": "code",
      "source": [
        "df.head(10)"
      ],
      "metadata": {
        "trusted": true,
        "execution": {
          "iopub.status.busy": "2025-09-29T16:41:15.637607Z",
          "iopub.execute_input": "2025-09-29T16:41:15.637847Z",
          "iopub.status.idle": "2025-09-29T16:41:15.655157Z",
          "shell.execute_reply.started": "2025-09-29T16:41:15.637827Z",
          "shell.execute_reply": "2025-09-29T16:41:15.654432Z"
        },
        "id": "hKdRDXJ-Dzna",
        "outputId": "2880524b-3854-4075-a1c0-a3577066ec1a"
      },
      "outputs": [
        {
          "execution_count": 149,
          "output_type": "execute_result",
          "data": {
            "text/plain": "   PassengerId  Survived  Pclass  \\\n0            1         0       3   \n1            2         1       1   \n2            3         1       3   \n3            4         1       1   \n4            5         0       3   \n5            6         0       3   \n6            7         0       1   \n7            8         0       3   \n8            9         1       3   \n9           10         1       2   \n\n                                                Name     Sex        Age  \\\n0                            Braund, Mr. Owen Harris    male  22.000000   \n1  Cumings, Mrs. John Bradley (Florence Briggs Th...  female  38.000000   \n2                             Heikkinen, Miss. Laina  female  26.000000   \n3       Futrelle, Mrs. Jacques Heath (Lily May Peel)  female  35.000000   \n4                           Allen, Mr. William Henry    male  35.000000   \n5                                   Moran, Mr. James    male  29.699118   \n6                            McCarthy, Mr. Timothy J    male  54.000000   \n7                     Palsson, Master. Gosta Leonard    male   2.000000   \n8  Johnson, Mrs. Oscar W (Elisabeth Vilhelmina Berg)  female  27.000000   \n9                Nasser, Mrs. Nicholas (Adele Achem)  female  14.000000   \n\n   SibSp  Parch            Ticket     Fare      Cabin Embarked  \n0      1      0         A/5 21171   7.2500  29.699118        S  \n1      1      0          PC 17599  71.2833        C85        C  \n2      0      0  STON/O2. 3101282   7.9250  29.699118        S  \n3      1      0            113803  53.1000       C123        S  \n4      0      0            373450   8.0500  29.699118        S  \n5      0      0            330877   8.4583  29.699118        Q  \n6      0      0             17463  51.8625        E46        S  \n7      3      1            349909  21.0750  29.699118        S  \n8      0      2            347742  11.1333  29.699118        S  \n9      1      0            237736  30.0708  29.699118        C  ",
            "text/html": "<div>\n<style scoped>\n    .dataframe tbody tr th:only-of-type {\n        vertical-align: middle;\n    }\n\n    .dataframe tbody tr th {\n        vertical-align: top;\n    }\n\n    .dataframe thead th {\n        text-align: right;\n    }\n</style>\n<table border=\"1\" class=\"dataframe\">\n  <thead>\n    <tr style=\"text-align: right;\">\n      <th></th>\n      <th>PassengerId</th>\n      <th>Survived</th>\n      <th>Pclass</th>\n      <th>Name</th>\n      <th>Sex</th>\n      <th>Age</th>\n      <th>SibSp</th>\n      <th>Parch</th>\n      <th>Ticket</th>\n      <th>Fare</th>\n      <th>Cabin</th>\n      <th>Embarked</th>\n    </tr>\n  </thead>\n  <tbody>\n    <tr>\n      <th>0</th>\n      <td>1</td>\n      <td>0</td>\n      <td>3</td>\n      <td>Braund, Mr. Owen Harris</td>\n      <td>male</td>\n      <td>22.000000</td>\n      <td>1</td>\n      <td>0</td>\n      <td>A/5 21171</td>\n      <td>7.2500</td>\n      <td>29.699118</td>\n      <td>S</td>\n    </tr>\n    <tr>\n      <th>1</th>\n      <td>2</td>\n      <td>1</td>\n      <td>1</td>\n      <td>Cumings, Mrs. John Bradley (Florence Briggs Th...</td>\n      <td>female</td>\n      <td>38.000000</td>\n      <td>1</td>\n      <td>0</td>\n      <td>PC 17599</td>\n      <td>71.2833</td>\n      <td>C85</td>\n      <td>C</td>\n    </tr>\n    <tr>\n      <th>2</th>\n      <td>3</td>\n      <td>1</td>\n      <td>3</td>\n      <td>Heikkinen, Miss. Laina</td>\n      <td>female</td>\n      <td>26.000000</td>\n      <td>0</td>\n      <td>0</td>\n      <td>STON/O2. 3101282</td>\n      <td>7.9250</td>\n      <td>29.699118</td>\n      <td>S</td>\n    </tr>\n    <tr>\n      <th>3</th>\n      <td>4</td>\n      <td>1</td>\n      <td>1</td>\n      <td>Futrelle, Mrs. Jacques Heath (Lily May Peel)</td>\n      <td>female</td>\n      <td>35.000000</td>\n      <td>1</td>\n      <td>0</td>\n      <td>113803</td>\n      <td>53.1000</td>\n      <td>C123</td>\n      <td>S</td>\n    </tr>\n    <tr>\n      <th>4</th>\n      <td>5</td>\n      <td>0</td>\n      <td>3</td>\n      <td>Allen, Mr. William Henry</td>\n      <td>male</td>\n      <td>35.000000</td>\n      <td>0</td>\n      <td>0</td>\n      <td>373450</td>\n      <td>8.0500</td>\n      <td>29.699118</td>\n      <td>S</td>\n    </tr>\n    <tr>\n      <th>5</th>\n      <td>6</td>\n      <td>0</td>\n      <td>3</td>\n      <td>Moran, Mr. James</td>\n      <td>male</td>\n      <td>29.699118</td>\n      <td>0</td>\n      <td>0</td>\n      <td>330877</td>\n      <td>8.4583</td>\n      <td>29.699118</td>\n      <td>Q</td>\n    </tr>\n    <tr>\n      <th>6</th>\n      <td>7</td>\n      <td>0</td>\n      <td>1</td>\n      <td>McCarthy, Mr. Timothy J</td>\n      <td>male</td>\n      <td>54.000000</td>\n      <td>0</td>\n      <td>0</td>\n      <td>17463</td>\n      <td>51.8625</td>\n      <td>E46</td>\n      <td>S</td>\n    </tr>\n    <tr>\n      <th>7</th>\n      <td>8</td>\n      <td>0</td>\n      <td>3</td>\n      <td>Palsson, Master. Gosta Leonard</td>\n      <td>male</td>\n      <td>2.000000</td>\n      <td>3</td>\n      <td>1</td>\n      <td>349909</td>\n      <td>21.0750</td>\n      <td>29.699118</td>\n      <td>S</td>\n    </tr>\n    <tr>\n      <th>8</th>\n      <td>9</td>\n      <td>1</td>\n      <td>3</td>\n      <td>Johnson, Mrs. Oscar W (Elisabeth Vilhelmina Berg)</td>\n      <td>female</td>\n      <td>27.000000</td>\n      <td>0</td>\n      <td>2</td>\n      <td>347742</td>\n      <td>11.1333</td>\n      <td>29.699118</td>\n      <td>S</td>\n    </tr>\n    <tr>\n      <th>9</th>\n      <td>10</td>\n      <td>1</td>\n      <td>2</td>\n      <td>Nasser, Mrs. Nicholas (Adele Achem)</td>\n      <td>female</td>\n      <td>14.000000</td>\n      <td>1</td>\n      <td>0</td>\n      <td>237736</td>\n      <td>30.0708</td>\n      <td>29.699118</td>\n      <td>C</td>\n    </tr>\n  </tbody>\n</table>\n</div>"
          },
          "metadata": {}
        }
      ],
      "execution_count": null
    },
    {
      "cell_type": "markdown",
      "source": [
        "# Convert Numerical value\n"
      ],
      "metadata": {
        "id": "LhMBrN3CDznb"
      }
    },
    {
      "cell_type": "code",
      "source": [
        "convert={\"male\":1,\"female\":0}"
      ],
      "metadata": {
        "trusted": true,
        "execution": {
          "iopub.status.busy": "2025-09-29T16:41:15.656408Z",
          "iopub.execute_input": "2025-09-29T16:41:15.656923Z",
          "iopub.status.idle": "2025-09-29T16:41:15.666534Z",
          "shell.execute_reply.started": "2025-09-29T16:41:15.656906Z",
          "shell.execute_reply": "2025-09-29T16:41:15.666013Z"
        },
        "id": "KBh6PJgUDznb"
      },
      "outputs": [],
      "execution_count": null
    },
    {
      "cell_type": "code",
      "source": [
        "df[\"Sex\"]=df[\"Sex\"].map(convert)"
      ],
      "metadata": {
        "trusted": true,
        "execution": {
          "iopub.status.busy": "2025-09-29T16:41:15.667367Z",
          "iopub.execute_input": "2025-09-29T16:41:15.667612Z",
          "iopub.status.idle": "2025-09-29T16:41:15.682011Z",
          "shell.execute_reply.started": "2025-09-29T16:41:15.66757Z",
          "shell.execute_reply": "2025-09-29T16:41:15.681453Z"
        },
        "id": "xLUkxcWnDznc"
      },
      "outputs": [],
      "execution_count": null
    },
    {
      "cell_type": "code",
      "source": [
        "df.head(10)"
      ],
      "metadata": {
        "trusted": true,
        "execution": {
          "iopub.status.busy": "2025-09-29T16:41:15.68345Z",
          "iopub.execute_input": "2025-09-29T16:41:15.683695Z",
          "iopub.status.idle": "2025-09-29T16:41:15.702013Z",
          "shell.execute_reply.started": "2025-09-29T16:41:15.683678Z",
          "shell.execute_reply": "2025-09-29T16:41:15.701347Z"
        },
        "id": "e1VjuNnEDznc",
        "outputId": "010b7935-e760-4fd3-bc61-fb309dd57f4a"
      },
      "outputs": [
        {
          "execution_count": 152,
          "output_type": "execute_result",
          "data": {
            "text/plain": "   PassengerId  Survived  Pclass  \\\n0            1         0       3   \n1            2         1       1   \n2            3         1       3   \n3            4         1       1   \n4            5         0       3   \n5            6         0       3   \n6            7         0       1   \n7            8         0       3   \n8            9         1       3   \n9           10         1       2   \n\n                                                Name  Sex        Age  SibSp  \\\n0                            Braund, Mr. Owen Harris    1  22.000000      1   \n1  Cumings, Mrs. John Bradley (Florence Briggs Th...    0  38.000000      1   \n2                             Heikkinen, Miss. Laina    0  26.000000      0   \n3       Futrelle, Mrs. Jacques Heath (Lily May Peel)    0  35.000000      1   \n4                           Allen, Mr. William Henry    1  35.000000      0   \n5                                   Moran, Mr. James    1  29.699118      0   \n6                            McCarthy, Mr. Timothy J    1  54.000000      0   \n7                     Palsson, Master. Gosta Leonard    1   2.000000      3   \n8  Johnson, Mrs. Oscar W (Elisabeth Vilhelmina Berg)    0  27.000000      0   \n9                Nasser, Mrs. Nicholas (Adele Achem)    0  14.000000      1   \n\n   Parch            Ticket     Fare      Cabin Embarked  \n0      0         A/5 21171   7.2500  29.699118        S  \n1      0          PC 17599  71.2833        C85        C  \n2      0  STON/O2. 3101282   7.9250  29.699118        S  \n3      0            113803  53.1000       C123        S  \n4      0            373450   8.0500  29.699118        S  \n5      0            330877   8.4583  29.699118        Q  \n6      0             17463  51.8625        E46        S  \n7      1            349909  21.0750  29.699118        S  \n8      2            347742  11.1333  29.699118        S  \n9      0            237736  30.0708  29.699118        C  ",
            "text/html": "<div>\n<style scoped>\n    .dataframe tbody tr th:only-of-type {\n        vertical-align: middle;\n    }\n\n    .dataframe tbody tr th {\n        vertical-align: top;\n    }\n\n    .dataframe thead th {\n        text-align: right;\n    }\n</style>\n<table border=\"1\" class=\"dataframe\">\n  <thead>\n    <tr style=\"text-align: right;\">\n      <th></th>\n      <th>PassengerId</th>\n      <th>Survived</th>\n      <th>Pclass</th>\n      <th>Name</th>\n      <th>Sex</th>\n      <th>Age</th>\n      <th>SibSp</th>\n      <th>Parch</th>\n      <th>Ticket</th>\n      <th>Fare</th>\n      <th>Cabin</th>\n      <th>Embarked</th>\n    </tr>\n  </thead>\n  <tbody>\n    <tr>\n      <th>0</th>\n      <td>1</td>\n      <td>0</td>\n      <td>3</td>\n      <td>Braund, Mr. Owen Harris</td>\n      <td>1</td>\n      <td>22.000000</td>\n      <td>1</td>\n      <td>0</td>\n      <td>A/5 21171</td>\n      <td>7.2500</td>\n      <td>29.699118</td>\n      <td>S</td>\n    </tr>\n    <tr>\n      <th>1</th>\n      <td>2</td>\n      <td>1</td>\n      <td>1</td>\n      <td>Cumings, Mrs. John Bradley (Florence Briggs Th...</td>\n      <td>0</td>\n      <td>38.000000</td>\n      <td>1</td>\n      <td>0</td>\n      <td>PC 17599</td>\n      <td>71.2833</td>\n      <td>C85</td>\n      <td>C</td>\n    </tr>\n    <tr>\n      <th>2</th>\n      <td>3</td>\n      <td>1</td>\n      <td>3</td>\n      <td>Heikkinen, Miss. Laina</td>\n      <td>0</td>\n      <td>26.000000</td>\n      <td>0</td>\n      <td>0</td>\n      <td>STON/O2. 3101282</td>\n      <td>7.9250</td>\n      <td>29.699118</td>\n      <td>S</td>\n    </tr>\n    <tr>\n      <th>3</th>\n      <td>4</td>\n      <td>1</td>\n      <td>1</td>\n      <td>Futrelle, Mrs. Jacques Heath (Lily May Peel)</td>\n      <td>0</td>\n      <td>35.000000</td>\n      <td>1</td>\n      <td>0</td>\n      <td>113803</td>\n      <td>53.1000</td>\n      <td>C123</td>\n      <td>S</td>\n    </tr>\n    <tr>\n      <th>4</th>\n      <td>5</td>\n      <td>0</td>\n      <td>3</td>\n      <td>Allen, Mr. William Henry</td>\n      <td>1</td>\n      <td>35.000000</td>\n      <td>0</td>\n      <td>0</td>\n      <td>373450</td>\n      <td>8.0500</td>\n      <td>29.699118</td>\n      <td>S</td>\n    </tr>\n    <tr>\n      <th>5</th>\n      <td>6</td>\n      <td>0</td>\n      <td>3</td>\n      <td>Moran, Mr. James</td>\n      <td>1</td>\n      <td>29.699118</td>\n      <td>0</td>\n      <td>0</td>\n      <td>330877</td>\n      <td>8.4583</td>\n      <td>29.699118</td>\n      <td>Q</td>\n    </tr>\n    <tr>\n      <th>6</th>\n      <td>7</td>\n      <td>0</td>\n      <td>1</td>\n      <td>McCarthy, Mr. Timothy J</td>\n      <td>1</td>\n      <td>54.000000</td>\n      <td>0</td>\n      <td>0</td>\n      <td>17463</td>\n      <td>51.8625</td>\n      <td>E46</td>\n      <td>S</td>\n    </tr>\n    <tr>\n      <th>7</th>\n      <td>8</td>\n      <td>0</td>\n      <td>3</td>\n      <td>Palsson, Master. Gosta Leonard</td>\n      <td>1</td>\n      <td>2.000000</td>\n      <td>3</td>\n      <td>1</td>\n      <td>349909</td>\n      <td>21.0750</td>\n      <td>29.699118</td>\n      <td>S</td>\n    </tr>\n    <tr>\n      <th>8</th>\n      <td>9</td>\n      <td>1</td>\n      <td>3</td>\n      <td>Johnson, Mrs. Oscar W (Elisabeth Vilhelmina Berg)</td>\n      <td>0</td>\n      <td>27.000000</td>\n      <td>0</td>\n      <td>2</td>\n      <td>347742</td>\n      <td>11.1333</td>\n      <td>29.699118</td>\n      <td>S</td>\n    </tr>\n    <tr>\n      <th>9</th>\n      <td>10</td>\n      <td>1</td>\n      <td>2</td>\n      <td>Nasser, Mrs. Nicholas (Adele Achem)</td>\n      <td>0</td>\n      <td>14.000000</td>\n      <td>1</td>\n      <td>0</td>\n      <td>237736</td>\n      <td>30.0708</td>\n      <td>29.699118</td>\n      <td>C</td>\n    </tr>\n  </tbody>\n</table>\n</div>"
          },
          "metadata": {}
        }
      ],
      "execution_count": null
    },
    {
      "cell_type": "markdown",
      "source": [
        "# Add New Column(s)"
      ],
      "metadata": {
        "id": "Bk-tibPoDznd"
      }
    },
    {
      "cell_type": "code",
      "source": [
        "L=lambda x:x.split()[0]"
      ],
      "metadata": {
        "trusted": true,
        "execution": {
          "iopub.status.busy": "2025-09-29T16:41:15.702983Z",
          "iopub.execute_input": "2025-09-29T16:41:15.703548Z",
          "iopub.status.idle": "2025-09-29T16:41:15.71543Z",
          "shell.execute_reply.started": "2025-09-29T16:41:15.703531Z",
          "shell.execute_reply": "2025-09-29T16:41:15.714827Z"
        },
        "id": "vinmVKuEDznd"
      },
      "outputs": [],
      "execution_count": null
    },
    {
      "cell_type": "code",
      "source": [
        "df[\"Last Name\"]=df[\"Name\"].apply(L)"
      ],
      "metadata": {
        "trusted": true,
        "execution": {
          "iopub.status.busy": "2025-09-29T16:41:15.716155Z",
          "iopub.execute_input": "2025-09-29T16:41:15.716337Z",
          "iopub.status.idle": "2025-09-29T16:41:15.730101Z",
          "shell.execute_reply.started": "2025-09-29T16:41:15.716323Z",
          "shell.execute_reply": "2025-09-29T16:41:15.729392Z"
        },
        "id": "YpJmVhuNDzne"
      },
      "outputs": [],
      "execution_count": null
    },
    {
      "cell_type": "code",
      "source": [
        "F=lambda x:x.split()[1]"
      ],
      "metadata": {
        "trusted": true,
        "execution": {
          "iopub.status.busy": "2025-09-29T16:41:15.730883Z",
          "iopub.execute_input": "2025-09-29T16:41:15.73116Z",
          "iopub.status.idle": "2025-09-29T16:41:15.743416Z",
          "shell.execute_reply.started": "2025-09-29T16:41:15.731144Z",
          "shell.execute_reply": "2025-09-29T16:41:15.742802Z"
        },
        "id": "3AosTsJYDznf"
      },
      "outputs": [],
      "execution_count": null
    },
    {
      "cell_type": "code",
      "source": [
        "df[\"First name\"]=df[\"Name\"].apply(F)"
      ],
      "metadata": {
        "trusted": true,
        "execution": {
          "iopub.status.busy": "2025-09-29T16:41:15.744902Z",
          "iopub.execute_input": "2025-09-29T16:41:15.745074Z",
          "iopub.status.idle": "2025-09-29T16:41:15.758283Z",
          "shell.execute_reply.started": "2025-09-29T16:41:15.745061Z",
          "shell.execute_reply": "2025-09-29T16:41:15.757612Z"
        },
        "id": "xL9Gga5oDzng"
      },
      "outputs": [],
      "execution_count": null
    },
    {
      "cell_type": "code",
      "source": [
        "df.head(10)"
      ],
      "metadata": {
        "trusted": true,
        "execution": {
          "iopub.status.busy": "2025-09-29T16:41:15.759042Z",
          "iopub.execute_input": "2025-09-29T16:41:15.759273Z",
          "iopub.status.idle": "2025-09-29T16:41:15.780049Z",
          "shell.execute_reply.started": "2025-09-29T16:41:15.759251Z",
          "shell.execute_reply": "2025-09-29T16:41:15.779402Z"
        },
        "id": "umlWGNtMDznh",
        "outputId": "2380884a-5def-4c07-bfed-adf2b1be2a4c"
      },
      "outputs": [
        {
          "execution_count": 157,
          "output_type": "execute_result",
          "data": {
            "text/plain": "   PassengerId  Survived  Pclass  \\\n0            1         0       3   \n1            2         1       1   \n2            3         1       3   \n3            4         1       1   \n4            5         0       3   \n5            6         0       3   \n6            7         0       1   \n7            8         0       3   \n8            9         1       3   \n9           10         1       2   \n\n                                                Name  Sex        Age  SibSp  \\\n0                            Braund, Mr. Owen Harris    1  22.000000      1   \n1  Cumings, Mrs. John Bradley (Florence Briggs Th...    0  38.000000      1   \n2                             Heikkinen, Miss. Laina    0  26.000000      0   \n3       Futrelle, Mrs. Jacques Heath (Lily May Peel)    0  35.000000      1   \n4                           Allen, Mr. William Henry    1  35.000000      0   \n5                                   Moran, Mr. James    1  29.699118      0   \n6                            McCarthy, Mr. Timothy J    1  54.000000      0   \n7                     Palsson, Master. Gosta Leonard    1   2.000000      3   \n8  Johnson, Mrs. Oscar W (Elisabeth Vilhelmina Berg)    0  27.000000      0   \n9                Nasser, Mrs. Nicholas (Adele Achem)    0  14.000000      1   \n\n   Parch            Ticket     Fare      Cabin Embarked   Last Name First name  \n0      0         A/5 21171   7.2500  29.699118        S     Braund,        Mr.  \n1      0          PC 17599  71.2833        C85        C    Cumings,       Mrs.  \n2      0  STON/O2. 3101282   7.9250  29.699118        S  Heikkinen,      Miss.  \n3      0            113803  53.1000       C123        S   Futrelle,       Mrs.  \n4      0            373450   8.0500  29.699118        S      Allen,        Mr.  \n5      0            330877   8.4583  29.699118        Q      Moran,        Mr.  \n6      0             17463  51.8625        E46        S   McCarthy,        Mr.  \n7      1            349909  21.0750  29.699118        S    Palsson,    Master.  \n8      2            347742  11.1333  29.699118        S    Johnson,       Mrs.  \n9      0            237736  30.0708  29.699118        C     Nasser,       Mrs.  ",
            "text/html": "<div>\n<style scoped>\n    .dataframe tbody tr th:only-of-type {\n        vertical-align: middle;\n    }\n\n    .dataframe tbody tr th {\n        vertical-align: top;\n    }\n\n    .dataframe thead th {\n        text-align: right;\n    }\n</style>\n<table border=\"1\" class=\"dataframe\">\n  <thead>\n    <tr style=\"text-align: right;\">\n      <th></th>\n      <th>PassengerId</th>\n      <th>Survived</th>\n      <th>Pclass</th>\n      <th>Name</th>\n      <th>Sex</th>\n      <th>Age</th>\n      <th>SibSp</th>\n      <th>Parch</th>\n      <th>Ticket</th>\n      <th>Fare</th>\n      <th>Cabin</th>\n      <th>Embarked</th>\n      <th>Last Name</th>\n      <th>First name</th>\n    </tr>\n  </thead>\n  <tbody>\n    <tr>\n      <th>0</th>\n      <td>1</td>\n      <td>0</td>\n      <td>3</td>\n      <td>Braund, Mr. Owen Harris</td>\n      <td>1</td>\n      <td>22.000000</td>\n      <td>1</td>\n      <td>0</td>\n      <td>A/5 21171</td>\n      <td>7.2500</td>\n      <td>29.699118</td>\n      <td>S</td>\n      <td>Braund,</td>\n      <td>Mr.</td>\n    </tr>\n    <tr>\n      <th>1</th>\n      <td>2</td>\n      <td>1</td>\n      <td>1</td>\n      <td>Cumings, Mrs. John Bradley (Florence Briggs Th...</td>\n      <td>0</td>\n      <td>38.000000</td>\n      <td>1</td>\n      <td>0</td>\n      <td>PC 17599</td>\n      <td>71.2833</td>\n      <td>C85</td>\n      <td>C</td>\n      <td>Cumings,</td>\n      <td>Mrs.</td>\n    </tr>\n    <tr>\n      <th>2</th>\n      <td>3</td>\n      <td>1</td>\n      <td>3</td>\n      <td>Heikkinen, Miss. Laina</td>\n      <td>0</td>\n      <td>26.000000</td>\n      <td>0</td>\n      <td>0</td>\n      <td>STON/O2. 3101282</td>\n      <td>7.9250</td>\n      <td>29.699118</td>\n      <td>S</td>\n      <td>Heikkinen,</td>\n      <td>Miss.</td>\n    </tr>\n    <tr>\n      <th>3</th>\n      <td>4</td>\n      <td>1</td>\n      <td>1</td>\n      <td>Futrelle, Mrs. Jacques Heath (Lily May Peel)</td>\n      <td>0</td>\n      <td>35.000000</td>\n      <td>1</td>\n      <td>0</td>\n      <td>113803</td>\n      <td>53.1000</td>\n      <td>C123</td>\n      <td>S</td>\n      <td>Futrelle,</td>\n      <td>Mrs.</td>\n    </tr>\n    <tr>\n      <th>4</th>\n      <td>5</td>\n      <td>0</td>\n      <td>3</td>\n      <td>Allen, Mr. William Henry</td>\n      <td>1</td>\n      <td>35.000000</td>\n      <td>0</td>\n      <td>0</td>\n      <td>373450</td>\n      <td>8.0500</td>\n      <td>29.699118</td>\n      <td>S</td>\n      <td>Allen,</td>\n      <td>Mr.</td>\n    </tr>\n    <tr>\n      <th>5</th>\n      <td>6</td>\n      <td>0</td>\n      <td>3</td>\n      <td>Moran, Mr. James</td>\n      <td>1</td>\n      <td>29.699118</td>\n      <td>0</td>\n      <td>0</td>\n      <td>330877</td>\n      <td>8.4583</td>\n      <td>29.699118</td>\n      <td>Q</td>\n      <td>Moran,</td>\n      <td>Mr.</td>\n    </tr>\n    <tr>\n      <th>6</th>\n      <td>7</td>\n      <td>0</td>\n      <td>1</td>\n      <td>McCarthy, Mr. Timothy J</td>\n      <td>1</td>\n      <td>54.000000</td>\n      <td>0</td>\n      <td>0</td>\n      <td>17463</td>\n      <td>51.8625</td>\n      <td>E46</td>\n      <td>S</td>\n      <td>McCarthy,</td>\n      <td>Mr.</td>\n    </tr>\n    <tr>\n      <th>7</th>\n      <td>8</td>\n      <td>0</td>\n      <td>3</td>\n      <td>Palsson, Master. Gosta Leonard</td>\n      <td>1</td>\n      <td>2.000000</td>\n      <td>3</td>\n      <td>1</td>\n      <td>349909</td>\n      <td>21.0750</td>\n      <td>29.699118</td>\n      <td>S</td>\n      <td>Palsson,</td>\n      <td>Master.</td>\n    </tr>\n    <tr>\n      <th>8</th>\n      <td>9</td>\n      <td>1</td>\n      <td>3</td>\n      <td>Johnson, Mrs. Oscar W (Elisabeth Vilhelmina Berg)</td>\n      <td>0</td>\n      <td>27.000000</td>\n      <td>0</td>\n      <td>2</td>\n      <td>347742</td>\n      <td>11.1333</td>\n      <td>29.699118</td>\n      <td>S</td>\n      <td>Johnson,</td>\n      <td>Mrs.</td>\n    </tr>\n    <tr>\n      <th>9</th>\n      <td>10</td>\n      <td>1</td>\n      <td>2</td>\n      <td>Nasser, Mrs. Nicholas (Adele Achem)</td>\n      <td>0</td>\n      <td>14.000000</td>\n      <td>1</td>\n      <td>0</td>\n      <td>237736</td>\n      <td>30.0708</td>\n      <td>29.699118</td>\n      <td>C</td>\n      <td>Nasser,</td>\n      <td>Mrs.</td>\n    </tr>\n  </tbody>\n</table>\n</div>"
          },
          "metadata": {}
        }
      ],
      "execution_count": null
    },
    {
      "cell_type": "markdown",
      "source": [
        "# Two Column Add"
      ],
      "metadata": {
        "id": "alcAeejuDzni"
      }
    },
    {
      "cell_type": "code",
      "source": [
        "#3rd class---male passenger\n",
        "df[\"Third&Men\"]=((df[\"Pclass\"]==3) & (df[\"Sex\"]==1)).astype(int)"
      ],
      "metadata": {
        "trusted": true,
        "execution": {
          "iopub.status.busy": "2025-09-29T16:41:15.780719Z",
          "iopub.execute_input": "2025-09-29T16:41:15.780978Z",
          "iopub.status.idle": "2025-09-29T16:41:15.794224Z",
          "shell.execute_reply.started": "2025-09-29T16:41:15.780956Z",
          "shell.execute_reply": "2025-09-29T16:41:15.793526Z"
        },
        "id": "x1neJvuzDznj"
      },
      "outputs": [],
      "execution_count": null
    },
    {
      "cell_type": "code",
      "source": [
        "df.head(10)"
      ],
      "metadata": {
        "trusted": true,
        "execution": {
          "iopub.status.busy": "2025-09-29T16:41:15.795004Z",
          "iopub.execute_input": "2025-09-29T16:41:15.795514Z",
          "iopub.status.idle": "2025-09-29T16:41:15.814574Z",
          "shell.execute_reply.started": "2025-09-29T16:41:15.795495Z",
          "shell.execute_reply": "2025-09-29T16:41:15.813919Z"
        },
        "id": "gX3ozlE2Dznj",
        "outputId": "263d2141-c89b-4399-c29d-c76f632fcf8c"
      },
      "outputs": [
        {
          "execution_count": 159,
          "output_type": "execute_result",
          "data": {
            "text/plain": "   PassengerId  Survived  Pclass  \\\n0            1         0       3   \n1            2         1       1   \n2            3         1       3   \n3            4         1       1   \n4            5         0       3   \n5            6         0       3   \n6            7         0       1   \n7            8         0       3   \n8            9         1       3   \n9           10         1       2   \n\n                                                Name  Sex        Age  SibSp  \\\n0                            Braund, Mr. Owen Harris    1  22.000000      1   \n1  Cumings, Mrs. John Bradley (Florence Briggs Th...    0  38.000000      1   \n2                             Heikkinen, Miss. Laina    0  26.000000      0   \n3       Futrelle, Mrs. Jacques Heath (Lily May Peel)    0  35.000000      1   \n4                           Allen, Mr. William Henry    1  35.000000      0   \n5                                   Moran, Mr. James    1  29.699118      0   \n6                            McCarthy, Mr. Timothy J    1  54.000000      0   \n7                     Palsson, Master. Gosta Leonard    1   2.000000      3   \n8  Johnson, Mrs. Oscar W (Elisabeth Vilhelmina Berg)    0  27.000000      0   \n9                Nasser, Mrs. Nicholas (Adele Achem)    0  14.000000      1   \n\n   Parch            Ticket     Fare      Cabin Embarked   Last Name  \\\n0      0         A/5 21171   7.2500  29.699118        S     Braund,   \n1      0          PC 17599  71.2833        C85        C    Cumings,   \n2      0  STON/O2. 3101282   7.9250  29.699118        S  Heikkinen,   \n3      0            113803  53.1000       C123        S   Futrelle,   \n4      0            373450   8.0500  29.699118        S      Allen,   \n5      0            330877   8.4583  29.699118        Q      Moran,   \n6      0             17463  51.8625        E46        S   McCarthy,   \n7      1            349909  21.0750  29.699118        S    Palsson,   \n8      2            347742  11.1333  29.699118        S    Johnson,   \n9      0            237736  30.0708  29.699118        C     Nasser,   \n\n  First name  Third&Men  \n0        Mr.          1  \n1       Mrs.          0  \n2      Miss.          0  \n3       Mrs.          0  \n4        Mr.          1  \n5        Mr.          1  \n6        Mr.          0  \n7    Master.          1  \n8       Mrs.          0  \n9       Mrs.          0  ",
            "text/html": "<div>\n<style scoped>\n    .dataframe tbody tr th:only-of-type {\n        vertical-align: middle;\n    }\n\n    .dataframe tbody tr th {\n        vertical-align: top;\n    }\n\n    .dataframe thead th {\n        text-align: right;\n    }\n</style>\n<table border=\"1\" class=\"dataframe\">\n  <thead>\n    <tr style=\"text-align: right;\">\n      <th></th>\n      <th>PassengerId</th>\n      <th>Survived</th>\n      <th>Pclass</th>\n      <th>Name</th>\n      <th>Sex</th>\n      <th>Age</th>\n      <th>SibSp</th>\n      <th>Parch</th>\n      <th>Ticket</th>\n      <th>Fare</th>\n      <th>Cabin</th>\n      <th>Embarked</th>\n      <th>Last Name</th>\n      <th>First name</th>\n      <th>Third&amp;Men</th>\n    </tr>\n  </thead>\n  <tbody>\n    <tr>\n      <th>0</th>\n      <td>1</td>\n      <td>0</td>\n      <td>3</td>\n      <td>Braund, Mr. Owen Harris</td>\n      <td>1</td>\n      <td>22.000000</td>\n      <td>1</td>\n      <td>0</td>\n      <td>A/5 21171</td>\n      <td>7.2500</td>\n      <td>29.699118</td>\n      <td>S</td>\n      <td>Braund,</td>\n      <td>Mr.</td>\n      <td>1</td>\n    </tr>\n    <tr>\n      <th>1</th>\n      <td>2</td>\n      <td>1</td>\n      <td>1</td>\n      <td>Cumings, Mrs. John Bradley (Florence Briggs Th...</td>\n      <td>0</td>\n      <td>38.000000</td>\n      <td>1</td>\n      <td>0</td>\n      <td>PC 17599</td>\n      <td>71.2833</td>\n      <td>C85</td>\n      <td>C</td>\n      <td>Cumings,</td>\n      <td>Mrs.</td>\n      <td>0</td>\n    </tr>\n    <tr>\n      <th>2</th>\n      <td>3</td>\n      <td>1</td>\n      <td>3</td>\n      <td>Heikkinen, Miss. Laina</td>\n      <td>0</td>\n      <td>26.000000</td>\n      <td>0</td>\n      <td>0</td>\n      <td>STON/O2. 3101282</td>\n      <td>7.9250</td>\n      <td>29.699118</td>\n      <td>S</td>\n      <td>Heikkinen,</td>\n      <td>Miss.</td>\n      <td>0</td>\n    </tr>\n    <tr>\n      <th>3</th>\n      <td>4</td>\n      <td>1</td>\n      <td>1</td>\n      <td>Futrelle, Mrs. Jacques Heath (Lily May Peel)</td>\n      <td>0</td>\n      <td>35.000000</td>\n      <td>1</td>\n      <td>0</td>\n      <td>113803</td>\n      <td>53.1000</td>\n      <td>C123</td>\n      <td>S</td>\n      <td>Futrelle,</td>\n      <td>Mrs.</td>\n      <td>0</td>\n    </tr>\n    <tr>\n      <th>4</th>\n      <td>5</td>\n      <td>0</td>\n      <td>3</td>\n      <td>Allen, Mr. William Henry</td>\n      <td>1</td>\n      <td>35.000000</td>\n      <td>0</td>\n      <td>0</td>\n      <td>373450</td>\n      <td>8.0500</td>\n      <td>29.699118</td>\n      <td>S</td>\n      <td>Allen,</td>\n      <td>Mr.</td>\n      <td>1</td>\n    </tr>\n    <tr>\n      <th>5</th>\n      <td>6</td>\n      <td>0</td>\n      <td>3</td>\n      <td>Moran, Mr. James</td>\n      <td>1</td>\n      <td>29.699118</td>\n      <td>0</td>\n      <td>0</td>\n      <td>330877</td>\n      <td>8.4583</td>\n      <td>29.699118</td>\n      <td>Q</td>\n      <td>Moran,</td>\n      <td>Mr.</td>\n      <td>1</td>\n    </tr>\n    <tr>\n      <th>6</th>\n      <td>7</td>\n      <td>0</td>\n      <td>1</td>\n      <td>McCarthy, Mr. Timothy J</td>\n      <td>1</td>\n      <td>54.000000</td>\n      <td>0</td>\n      <td>0</td>\n      <td>17463</td>\n      <td>51.8625</td>\n      <td>E46</td>\n      <td>S</td>\n      <td>McCarthy,</td>\n      <td>Mr.</td>\n      <td>0</td>\n    </tr>\n    <tr>\n      <th>7</th>\n      <td>8</td>\n      <td>0</td>\n      <td>3</td>\n      <td>Palsson, Master. Gosta Leonard</td>\n      <td>1</td>\n      <td>2.000000</td>\n      <td>3</td>\n      <td>1</td>\n      <td>349909</td>\n      <td>21.0750</td>\n      <td>29.699118</td>\n      <td>S</td>\n      <td>Palsson,</td>\n      <td>Master.</td>\n      <td>1</td>\n    </tr>\n    <tr>\n      <th>8</th>\n      <td>9</td>\n      <td>1</td>\n      <td>3</td>\n      <td>Johnson, Mrs. Oscar W (Elisabeth Vilhelmina Berg)</td>\n      <td>0</td>\n      <td>27.000000</td>\n      <td>0</td>\n      <td>2</td>\n      <td>347742</td>\n      <td>11.1333</td>\n      <td>29.699118</td>\n      <td>S</td>\n      <td>Johnson,</td>\n      <td>Mrs.</td>\n      <td>0</td>\n    </tr>\n    <tr>\n      <th>9</th>\n      <td>10</td>\n      <td>1</td>\n      <td>2</td>\n      <td>Nasser, Mrs. Nicholas (Adele Achem)</td>\n      <td>0</td>\n      <td>14.000000</td>\n      <td>1</td>\n      <td>0</td>\n      <td>237736</td>\n      <td>30.0708</td>\n      <td>29.699118</td>\n      <td>C</td>\n      <td>Nasser,</td>\n      <td>Mrs.</td>\n      <td>0</td>\n    </tr>\n  </tbody>\n</table>\n</div>"
          },
          "metadata": {}
        }
      ],
      "execution_count": null
    },
    {
      "cell_type": "code",
      "source": [
        "def age_group(age):\n",
        "    if age < 18:\n",
        "        return 1\n",
        "    elif age >= 18 and age < 40:\n",
        "        return 2\n",
        "    elif age >= 40 and age < 60:\n",
        "        return 3\n",
        "    else:\n",
        "        return 4\n",
        "\n",
        "df[\"Age Group\"] = df[\"Age\"].apply(age_group)\n",
        "\n",
        ""
      ],
      "metadata": {
        "trusted": true,
        "execution": {
          "iopub.status.busy": "2025-09-29T16:41:15.815495Z",
          "iopub.execute_input": "2025-09-29T16:41:15.815748Z",
          "iopub.status.idle": "2025-09-29T16:41:15.826926Z",
          "shell.execute_reply.started": "2025-09-29T16:41:15.815709Z",
          "shell.execute_reply": "2025-09-29T16:41:15.826355Z"
        },
        "id": "T8XkT77BDznk"
      },
      "outputs": [],
      "execution_count": null
    },
    {
      "cell_type": "code",
      "source": [
        "df.head(10)"
      ],
      "metadata": {
        "trusted": true,
        "execution": {
          "iopub.status.busy": "2025-09-29T16:41:15.828735Z",
          "iopub.execute_input": "2025-09-29T16:41:15.828994Z",
          "iopub.status.idle": "2025-09-29T16:41:15.852031Z",
          "shell.execute_reply.started": "2025-09-29T16:41:15.828979Z",
          "shell.execute_reply": "2025-09-29T16:41:15.851345Z"
        },
        "id": "APch_yEtDzn9",
        "outputId": "197a5675-cb7d-480a-8058-63e6ac2ef2a0"
      },
      "outputs": [
        {
          "execution_count": 161,
          "output_type": "execute_result",
          "data": {
            "text/plain": "   PassengerId  Survived  Pclass  \\\n0            1         0       3   \n1            2         1       1   \n2            3         1       3   \n3            4         1       1   \n4            5         0       3   \n5            6         0       3   \n6            7         0       1   \n7            8         0       3   \n8            9         1       3   \n9           10         1       2   \n\n                                                Name  Sex        Age  SibSp  \\\n0                            Braund, Mr. Owen Harris    1  22.000000      1   \n1  Cumings, Mrs. John Bradley (Florence Briggs Th...    0  38.000000      1   \n2                             Heikkinen, Miss. Laina    0  26.000000      0   \n3       Futrelle, Mrs. Jacques Heath (Lily May Peel)    0  35.000000      1   \n4                           Allen, Mr. William Henry    1  35.000000      0   \n5                                   Moran, Mr. James    1  29.699118      0   \n6                            McCarthy, Mr. Timothy J    1  54.000000      0   \n7                     Palsson, Master. Gosta Leonard    1   2.000000      3   \n8  Johnson, Mrs. Oscar W (Elisabeth Vilhelmina Berg)    0  27.000000      0   \n9                Nasser, Mrs. Nicholas (Adele Achem)    0  14.000000      1   \n\n   Parch            Ticket     Fare      Cabin Embarked   Last Name  \\\n0      0         A/5 21171   7.2500  29.699118        S     Braund,   \n1      0          PC 17599  71.2833        C85        C    Cumings,   \n2      0  STON/O2. 3101282   7.9250  29.699118        S  Heikkinen,   \n3      0            113803  53.1000       C123        S   Futrelle,   \n4      0            373450   8.0500  29.699118        S      Allen,   \n5      0            330877   8.4583  29.699118        Q      Moran,   \n6      0             17463  51.8625        E46        S   McCarthy,   \n7      1            349909  21.0750  29.699118        S    Palsson,   \n8      2            347742  11.1333  29.699118        S    Johnson,   \n9      0            237736  30.0708  29.699118        C     Nasser,   \n\n  First name  Third&Men  Age Group  \n0        Mr.          1          2  \n1       Mrs.          0          2  \n2      Miss.          0          2  \n3       Mrs.          0          2  \n4        Mr.          1          2  \n5        Mr.          1          2  \n6        Mr.          0          3  \n7    Master.          1          1  \n8       Mrs.          0          2  \n9       Mrs.          0          1  ",
            "text/html": "<div>\n<style scoped>\n    .dataframe tbody tr th:only-of-type {\n        vertical-align: middle;\n    }\n\n    .dataframe tbody tr th {\n        vertical-align: top;\n    }\n\n    .dataframe thead th {\n        text-align: right;\n    }\n</style>\n<table border=\"1\" class=\"dataframe\">\n  <thead>\n    <tr style=\"text-align: right;\">\n      <th></th>\n      <th>PassengerId</th>\n      <th>Survived</th>\n      <th>Pclass</th>\n      <th>Name</th>\n      <th>Sex</th>\n      <th>Age</th>\n      <th>SibSp</th>\n      <th>Parch</th>\n      <th>Ticket</th>\n      <th>Fare</th>\n      <th>Cabin</th>\n      <th>Embarked</th>\n      <th>Last Name</th>\n      <th>First name</th>\n      <th>Third&amp;Men</th>\n      <th>Age Group</th>\n    </tr>\n  </thead>\n  <tbody>\n    <tr>\n      <th>0</th>\n      <td>1</td>\n      <td>0</td>\n      <td>3</td>\n      <td>Braund, Mr. Owen Harris</td>\n      <td>1</td>\n      <td>22.000000</td>\n      <td>1</td>\n      <td>0</td>\n      <td>A/5 21171</td>\n      <td>7.2500</td>\n      <td>29.699118</td>\n      <td>S</td>\n      <td>Braund,</td>\n      <td>Mr.</td>\n      <td>1</td>\n      <td>2</td>\n    </tr>\n    <tr>\n      <th>1</th>\n      <td>2</td>\n      <td>1</td>\n      <td>1</td>\n      <td>Cumings, Mrs. John Bradley (Florence Briggs Th...</td>\n      <td>0</td>\n      <td>38.000000</td>\n      <td>1</td>\n      <td>0</td>\n      <td>PC 17599</td>\n      <td>71.2833</td>\n      <td>C85</td>\n      <td>C</td>\n      <td>Cumings,</td>\n      <td>Mrs.</td>\n      <td>0</td>\n      <td>2</td>\n    </tr>\n    <tr>\n      <th>2</th>\n      <td>3</td>\n      <td>1</td>\n      <td>3</td>\n      <td>Heikkinen, Miss. Laina</td>\n      <td>0</td>\n      <td>26.000000</td>\n      <td>0</td>\n      <td>0</td>\n      <td>STON/O2. 3101282</td>\n      <td>7.9250</td>\n      <td>29.699118</td>\n      <td>S</td>\n      <td>Heikkinen,</td>\n      <td>Miss.</td>\n      <td>0</td>\n      <td>2</td>\n    </tr>\n    <tr>\n      <th>3</th>\n      <td>4</td>\n      <td>1</td>\n      <td>1</td>\n      <td>Futrelle, Mrs. Jacques Heath (Lily May Peel)</td>\n      <td>0</td>\n      <td>35.000000</td>\n      <td>1</td>\n      <td>0</td>\n      <td>113803</td>\n      <td>53.1000</td>\n      <td>C123</td>\n      <td>S</td>\n      <td>Futrelle,</td>\n      <td>Mrs.</td>\n      <td>0</td>\n      <td>2</td>\n    </tr>\n    <tr>\n      <th>4</th>\n      <td>5</td>\n      <td>0</td>\n      <td>3</td>\n      <td>Allen, Mr. William Henry</td>\n      <td>1</td>\n      <td>35.000000</td>\n      <td>0</td>\n      <td>0</td>\n      <td>373450</td>\n      <td>8.0500</td>\n      <td>29.699118</td>\n      <td>S</td>\n      <td>Allen,</td>\n      <td>Mr.</td>\n      <td>1</td>\n      <td>2</td>\n    </tr>\n    <tr>\n      <th>5</th>\n      <td>6</td>\n      <td>0</td>\n      <td>3</td>\n      <td>Moran, Mr. James</td>\n      <td>1</td>\n      <td>29.699118</td>\n      <td>0</td>\n      <td>0</td>\n      <td>330877</td>\n      <td>8.4583</td>\n      <td>29.699118</td>\n      <td>Q</td>\n      <td>Moran,</td>\n      <td>Mr.</td>\n      <td>1</td>\n      <td>2</td>\n    </tr>\n    <tr>\n      <th>6</th>\n      <td>7</td>\n      <td>0</td>\n      <td>1</td>\n      <td>McCarthy, Mr. Timothy J</td>\n      <td>1</td>\n      <td>54.000000</td>\n      <td>0</td>\n      <td>0</td>\n      <td>17463</td>\n      <td>51.8625</td>\n      <td>E46</td>\n      <td>S</td>\n      <td>McCarthy,</td>\n      <td>Mr.</td>\n      <td>0</td>\n      <td>3</td>\n    </tr>\n    <tr>\n      <th>7</th>\n      <td>8</td>\n      <td>0</td>\n      <td>3</td>\n      <td>Palsson, Master. Gosta Leonard</td>\n      <td>1</td>\n      <td>2.000000</td>\n      <td>3</td>\n      <td>1</td>\n      <td>349909</td>\n      <td>21.0750</td>\n      <td>29.699118</td>\n      <td>S</td>\n      <td>Palsson,</td>\n      <td>Master.</td>\n      <td>1</td>\n      <td>1</td>\n    </tr>\n    <tr>\n      <th>8</th>\n      <td>9</td>\n      <td>1</td>\n      <td>3</td>\n      <td>Johnson, Mrs. Oscar W (Elisabeth Vilhelmina Berg)</td>\n      <td>0</td>\n      <td>27.000000</td>\n      <td>0</td>\n      <td>2</td>\n      <td>347742</td>\n      <td>11.1333</td>\n      <td>29.699118</td>\n      <td>S</td>\n      <td>Johnson,</td>\n      <td>Mrs.</td>\n      <td>0</td>\n      <td>2</td>\n    </tr>\n    <tr>\n      <th>9</th>\n      <td>10</td>\n      <td>1</td>\n      <td>2</td>\n      <td>Nasser, Mrs. Nicholas (Adele Achem)</td>\n      <td>0</td>\n      <td>14.000000</td>\n      <td>1</td>\n      <td>0</td>\n      <td>237736</td>\n      <td>30.0708</td>\n      <td>29.699118</td>\n      <td>C</td>\n      <td>Nasser,</td>\n      <td>Mrs.</td>\n      <td>0</td>\n      <td>1</td>\n    </tr>\n  </tbody>\n</table>\n</div>"
          },
          "metadata": {}
        }
      ],
      "execution_count": null
    },
    {
      "cell_type": "markdown",
      "source": [
        "# Delete Column(s)"
      ],
      "metadata": {
        "id": "QMKI1Pi1Dzn-"
      }
    },
    {
      "cell_type": "code",
      "source": [
        "df=df.drop([\"PassengerId\"],axis=1)"
      ],
      "metadata": {
        "trusted": true,
        "execution": {
          "iopub.status.busy": "2025-09-29T16:41:15.852617Z",
          "iopub.execute_input": "2025-09-29T16:41:15.852881Z",
          "iopub.status.idle": "2025-09-29T16:41:15.866271Z",
          "shell.execute_reply.started": "2025-09-29T16:41:15.852833Z",
          "shell.execute_reply": "2025-09-29T16:41:15.865708Z"
        },
        "id": "KRMNiqqhDzn-"
      },
      "outputs": [],
      "execution_count": null
    },
    {
      "cell_type": "code",
      "source": [
        "df.head(10)"
      ],
      "metadata": {
        "trusted": true,
        "execution": {
          "iopub.status.busy": "2025-09-29T16:41:15.866938Z",
          "iopub.execute_input": "2025-09-29T16:41:15.86746Z",
          "iopub.status.idle": "2025-09-29T16:41:15.888452Z",
          "shell.execute_reply.started": "2025-09-29T16:41:15.867438Z",
          "shell.execute_reply": "2025-09-29T16:41:15.887812Z"
        },
        "id": "6rkIrcTyDzn-",
        "outputId": "832028d4-39c8-478a-b622-b37f866987a7"
      },
      "outputs": [
        {
          "execution_count": 163,
          "output_type": "execute_result",
          "data": {
            "text/plain": "   Survived  Pclass                                               Name  Sex  \\\n0         0       3                            Braund, Mr. Owen Harris    1   \n1         1       1  Cumings, Mrs. John Bradley (Florence Briggs Th...    0   \n2         1       3                             Heikkinen, Miss. Laina    0   \n3         1       1       Futrelle, Mrs. Jacques Heath (Lily May Peel)    0   \n4         0       3                           Allen, Mr. William Henry    1   \n5         0       3                                   Moran, Mr. James    1   \n6         0       1                            McCarthy, Mr. Timothy J    1   \n7         0       3                     Palsson, Master. Gosta Leonard    1   \n8         1       3  Johnson, Mrs. Oscar W (Elisabeth Vilhelmina Berg)    0   \n9         1       2                Nasser, Mrs. Nicholas (Adele Achem)    0   \n\n         Age  SibSp  Parch            Ticket     Fare      Cabin Embarked  \\\n0  22.000000      1      0         A/5 21171   7.2500  29.699118        S   \n1  38.000000      1      0          PC 17599  71.2833        C85        C   \n2  26.000000      0      0  STON/O2. 3101282   7.9250  29.699118        S   \n3  35.000000      1      0            113803  53.1000       C123        S   \n4  35.000000      0      0            373450   8.0500  29.699118        S   \n5  29.699118      0      0            330877   8.4583  29.699118        Q   \n6  54.000000      0      0             17463  51.8625        E46        S   \n7   2.000000      3      1            349909  21.0750  29.699118        S   \n8  27.000000      0      2            347742  11.1333  29.699118        S   \n9  14.000000      1      0            237736  30.0708  29.699118        C   \n\n    Last Name First name  Third&Men  Age Group  \n0     Braund,        Mr.          1          2  \n1    Cumings,       Mrs.          0          2  \n2  Heikkinen,      Miss.          0          2  \n3   Futrelle,       Mrs.          0          2  \n4      Allen,        Mr.          1          2  \n5      Moran,        Mr.          1          2  \n6   McCarthy,        Mr.          0          3  \n7    Palsson,    Master.          1          1  \n8    Johnson,       Mrs.          0          2  \n9     Nasser,       Mrs.          0          1  ",
            "text/html": "<div>\n<style scoped>\n    .dataframe tbody tr th:only-of-type {\n        vertical-align: middle;\n    }\n\n    .dataframe tbody tr th {\n        vertical-align: top;\n    }\n\n    .dataframe thead th {\n        text-align: right;\n    }\n</style>\n<table border=\"1\" class=\"dataframe\">\n  <thead>\n    <tr style=\"text-align: right;\">\n      <th></th>\n      <th>Survived</th>\n      <th>Pclass</th>\n      <th>Name</th>\n      <th>Sex</th>\n      <th>Age</th>\n      <th>SibSp</th>\n      <th>Parch</th>\n      <th>Ticket</th>\n      <th>Fare</th>\n      <th>Cabin</th>\n      <th>Embarked</th>\n      <th>Last Name</th>\n      <th>First name</th>\n      <th>Third&amp;Men</th>\n      <th>Age Group</th>\n    </tr>\n  </thead>\n  <tbody>\n    <tr>\n      <th>0</th>\n      <td>0</td>\n      <td>3</td>\n      <td>Braund, Mr. Owen Harris</td>\n      <td>1</td>\n      <td>22.000000</td>\n      <td>1</td>\n      <td>0</td>\n      <td>A/5 21171</td>\n      <td>7.2500</td>\n      <td>29.699118</td>\n      <td>S</td>\n      <td>Braund,</td>\n      <td>Mr.</td>\n      <td>1</td>\n      <td>2</td>\n    </tr>\n    <tr>\n      <th>1</th>\n      <td>1</td>\n      <td>1</td>\n      <td>Cumings, Mrs. John Bradley (Florence Briggs Th...</td>\n      <td>0</td>\n      <td>38.000000</td>\n      <td>1</td>\n      <td>0</td>\n      <td>PC 17599</td>\n      <td>71.2833</td>\n      <td>C85</td>\n      <td>C</td>\n      <td>Cumings,</td>\n      <td>Mrs.</td>\n      <td>0</td>\n      <td>2</td>\n    </tr>\n    <tr>\n      <th>2</th>\n      <td>1</td>\n      <td>3</td>\n      <td>Heikkinen, Miss. Laina</td>\n      <td>0</td>\n      <td>26.000000</td>\n      <td>0</td>\n      <td>0</td>\n      <td>STON/O2. 3101282</td>\n      <td>7.9250</td>\n      <td>29.699118</td>\n      <td>S</td>\n      <td>Heikkinen,</td>\n      <td>Miss.</td>\n      <td>0</td>\n      <td>2</td>\n    </tr>\n    <tr>\n      <th>3</th>\n      <td>1</td>\n      <td>1</td>\n      <td>Futrelle, Mrs. Jacques Heath (Lily May Peel)</td>\n      <td>0</td>\n      <td>35.000000</td>\n      <td>1</td>\n      <td>0</td>\n      <td>113803</td>\n      <td>53.1000</td>\n      <td>C123</td>\n      <td>S</td>\n      <td>Futrelle,</td>\n      <td>Mrs.</td>\n      <td>0</td>\n      <td>2</td>\n    </tr>\n    <tr>\n      <th>4</th>\n      <td>0</td>\n      <td>3</td>\n      <td>Allen, Mr. William Henry</td>\n      <td>1</td>\n      <td>35.000000</td>\n      <td>0</td>\n      <td>0</td>\n      <td>373450</td>\n      <td>8.0500</td>\n      <td>29.699118</td>\n      <td>S</td>\n      <td>Allen,</td>\n      <td>Mr.</td>\n      <td>1</td>\n      <td>2</td>\n    </tr>\n    <tr>\n      <th>5</th>\n      <td>0</td>\n      <td>3</td>\n      <td>Moran, Mr. James</td>\n      <td>1</td>\n      <td>29.699118</td>\n      <td>0</td>\n      <td>0</td>\n      <td>330877</td>\n      <td>8.4583</td>\n      <td>29.699118</td>\n      <td>Q</td>\n      <td>Moran,</td>\n      <td>Mr.</td>\n      <td>1</td>\n      <td>2</td>\n    </tr>\n    <tr>\n      <th>6</th>\n      <td>0</td>\n      <td>1</td>\n      <td>McCarthy, Mr. Timothy J</td>\n      <td>1</td>\n      <td>54.000000</td>\n      <td>0</td>\n      <td>0</td>\n      <td>17463</td>\n      <td>51.8625</td>\n      <td>E46</td>\n      <td>S</td>\n      <td>McCarthy,</td>\n      <td>Mr.</td>\n      <td>0</td>\n      <td>3</td>\n    </tr>\n    <tr>\n      <th>7</th>\n      <td>0</td>\n      <td>3</td>\n      <td>Palsson, Master. Gosta Leonard</td>\n      <td>1</td>\n      <td>2.000000</td>\n      <td>3</td>\n      <td>1</td>\n      <td>349909</td>\n      <td>21.0750</td>\n      <td>29.699118</td>\n      <td>S</td>\n      <td>Palsson,</td>\n      <td>Master.</td>\n      <td>1</td>\n      <td>1</td>\n    </tr>\n    <tr>\n      <th>8</th>\n      <td>1</td>\n      <td>3</td>\n      <td>Johnson, Mrs. Oscar W (Elisabeth Vilhelmina Berg)</td>\n      <td>0</td>\n      <td>27.000000</td>\n      <td>0</td>\n      <td>2</td>\n      <td>347742</td>\n      <td>11.1333</td>\n      <td>29.699118</td>\n      <td>S</td>\n      <td>Johnson,</td>\n      <td>Mrs.</td>\n      <td>0</td>\n      <td>2</td>\n    </tr>\n    <tr>\n      <th>9</th>\n      <td>1</td>\n      <td>2</td>\n      <td>Nasser, Mrs. Nicholas (Adele Achem)</td>\n      <td>0</td>\n      <td>14.000000</td>\n      <td>1</td>\n      <td>0</td>\n      <td>237736</td>\n      <td>30.0708</td>\n      <td>29.699118</td>\n      <td>C</td>\n      <td>Nasser,</td>\n      <td>Mrs.</td>\n      <td>0</td>\n      <td>1</td>\n    </tr>\n  </tbody>\n</table>\n</div>"
          },
          "metadata": {}
        }
      ],
      "execution_count": null
    },
    {
      "cell_type": "code",
      "source": [
        "re_name={\"Sex\":\"Gender\",\"Name\":\"Full Name\"}\n",
        "df=df.rename(columns=re_name)"
      ],
      "metadata": {
        "trusted": true,
        "execution": {
          "iopub.status.busy": "2025-09-29T16:41:15.889187Z",
          "iopub.execute_input": "2025-09-29T16:41:15.889369Z",
          "iopub.status.idle": "2025-09-29T16:41:15.902302Z",
          "shell.execute_reply.started": "2025-09-29T16:41:15.889355Z",
          "shell.execute_reply": "2025-09-29T16:41:15.901623Z"
        },
        "id": "yvqNL_kaDzn_"
      },
      "outputs": [],
      "execution_count": null
    },
    {
      "cell_type": "code",
      "source": [
        "df.head(10)"
      ],
      "metadata": {
        "trusted": true,
        "execution": {
          "iopub.status.busy": "2025-09-29T16:41:15.903074Z",
          "iopub.execute_input": "2025-09-29T16:41:15.903304Z",
          "iopub.status.idle": "2025-09-29T16:41:15.922501Z",
          "shell.execute_reply.started": "2025-09-29T16:41:15.903283Z",
          "shell.execute_reply": "2025-09-29T16:41:15.921996Z"
        },
        "id": "d3Zuc-HdDzn_",
        "outputId": "f162d683-e70a-41aa-ac38-48941c11f737"
      },
      "outputs": [
        {
          "execution_count": 165,
          "output_type": "execute_result",
          "data": {
            "text/plain": "   Survived  Pclass                                          Full Name  \\\n0         0       3                            Braund, Mr. Owen Harris   \n1         1       1  Cumings, Mrs. John Bradley (Florence Briggs Th...   \n2         1       3                             Heikkinen, Miss. Laina   \n3         1       1       Futrelle, Mrs. Jacques Heath (Lily May Peel)   \n4         0       3                           Allen, Mr. William Henry   \n5         0       3                                   Moran, Mr. James   \n6         0       1                            McCarthy, Mr. Timothy J   \n7         0       3                     Palsson, Master. Gosta Leonard   \n8         1       3  Johnson, Mrs. Oscar W (Elisabeth Vilhelmina Berg)   \n9         1       2                Nasser, Mrs. Nicholas (Adele Achem)   \n\n   Gender        Age  SibSp  Parch            Ticket     Fare      Cabin  \\\n0       1  22.000000      1      0         A/5 21171   7.2500  29.699118   \n1       0  38.000000      1      0          PC 17599  71.2833        C85   \n2       0  26.000000      0      0  STON/O2. 3101282   7.9250  29.699118   \n3       0  35.000000      1      0            113803  53.1000       C123   \n4       1  35.000000      0      0            373450   8.0500  29.699118   \n5       1  29.699118      0      0            330877   8.4583  29.699118   \n6       1  54.000000      0      0             17463  51.8625        E46   \n7       1   2.000000      3      1            349909  21.0750  29.699118   \n8       0  27.000000      0      2            347742  11.1333  29.699118   \n9       0  14.000000      1      0            237736  30.0708  29.699118   \n\n  Embarked   Last Name First name  Third&Men  Age Group  \n0        S     Braund,        Mr.          1          2  \n1        C    Cumings,       Mrs.          0          2  \n2        S  Heikkinen,      Miss.          0          2  \n3        S   Futrelle,       Mrs.          0          2  \n4        S      Allen,        Mr.          1          2  \n5        Q      Moran,        Mr.          1          2  \n6        S   McCarthy,        Mr.          0          3  \n7        S    Palsson,    Master.          1          1  \n8        S    Johnson,       Mrs.          0          2  \n9        C     Nasser,       Mrs.          0          1  ",
            "text/html": "<div>\n<style scoped>\n    .dataframe tbody tr th:only-of-type {\n        vertical-align: middle;\n    }\n\n    .dataframe tbody tr th {\n        vertical-align: top;\n    }\n\n    .dataframe thead th {\n        text-align: right;\n    }\n</style>\n<table border=\"1\" class=\"dataframe\">\n  <thead>\n    <tr style=\"text-align: right;\">\n      <th></th>\n      <th>Survived</th>\n      <th>Pclass</th>\n      <th>Full Name</th>\n      <th>Gender</th>\n      <th>Age</th>\n      <th>SibSp</th>\n      <th>Parch</th>\n      <th>Ticket</th>\n      <th>Fare</th>\n      <th>Cabin</th>\n      <th>Embarked</th>\n      <th>Last Name</th>\n      <th>First name</th>\n      <th>Third&amp;Men</th>\n      <th>Age Group</th>\n    </tr>\n  </thead>\n  <tbody>\n    <tr>\n      <th>0</th>\n      <td>0</td>\n      <td>3</td>\n      <td>Braund, Mr. Owen Harris</td>\n      <td>1</td>\n      <td>22.000000</td>\n      <td>1</td>\n      <td>0</td>\n      <td>A/5 21171</td>\n      <td>7.2500</td>\n      <td>29.699118</td>\n      <td>S</td>\n      <td>Braund,</td>\n      <td>Mr.</td>\n      <td>1</td>\n      <td>2</td>\n    </tr>\n    <tr>\n      <th>1</th>\n      <td>1</td>\n      <td>1</td>\n      <td>Cumings, Mrs. John Bradley (Florence Briggs Th...</td>\n      <td>0</td>\n      <td>38.000000</td>\n      <td>1</td>\n      <td>0</td>\n      <td>PC 17599</td>\n      <td>71.2833</td>\n      <td>C85</td>\n      <td>C</td>\n      <td>Cumings,</td>\n      <td>Mrs.</td>\n      <td>0</td>\n      <td>2</td>\n    </tr>\n    <tr>\n      <th>2</th>\n      <td>1</td>\n      <td>3</td>\n      <td>Heikkinen, Miss. Laina</td>\n      <td>0</td>\n      <td>26.000000</td>\n      <td>0</td>\n      <td>0</td>\n      <td>STON/O2. 3101282</td>\n      <td>7.9250</td>\n      <td>29.699118</td>\n      <td>S</td>\n      <td>Heikkinen,</td>\n      <td>Miss.</td>\n      <td>0</td>\n      <td>2</td>\n    </tr>\n    <tr>\n      <th>3</th>\n      <td>1</td>\n      <td>1</td>\n      <td>Futrelle, Mrs. Jacques Heath (Lily May Peel)</td>\n      <td>0</td>\n      <td>35.000000</td>\n      <td>1</td>\n      <td>0</td>\n      <td>113803</td>\n      <td>53.1000</td>\n      <td>C123</td>\n      <td>S</td>\n      <td>Futrelle,</td>\n      <td>Mrs.</td>\n      <td>0</td>\n      <td>2</td>\n    </tr>\n    <tr>\n      <th>4</th>\n      <td>0</td>\n      <td>3</td>\n      <td>Allen, Mr. William Henry</td>\n      <td>1</td>\n      <td>35.000000</td>\n      <td>0</td>\n      <td>0</td>\n      <td>373450</td>\n      <td>8.0500</td>\n      <td>29.699118</td>\n      <td>S</td>\n      <td>Allen,</td>\n      <td>Mr.</td>\n      <td>1</td>\n      <td>2</td>\n    </tr>\n    <tr>\n      <th>5</th>\n      <td>0</td>\n      <td>3</td>\n      <td>Moran, Mr. James</td>\n      <td>1</td>\n      <td>29.699118</td>\n      <td>0</td>\n      <td>0</td>\n      <td>330877</td>\n      <td>8.4583</td>\n      <td>29.699118</td>\n      <td>Q</td>\n      <td>Moran,</td>\n      <td>Mr.</td>\n      <td>1</td>\n      <td>2</td>\n    </tr>\n    <tr>\n      <th>6</th>\n      <td>0</td>\n      <td>1</td>\n      <td>McCarthy, Mr. Timothy J</td>\n      <td>1</td>\n      <td>54.000000</td>\n      <td>0</td>\n      <td>0</td>\n      <td>17463</td>\n      <td>51.8625</td>\n      <td>E46</td>\n      <td>S</td>\n      <td>McCarthy,</td>\n      <td>Mr.</td>\n      <td>0</td>\n      <td>3</td>\n    </tr>\n    <tr>\n      <th>7</th>\n      <td>0</td>\n      <td>3</td>\n      <td>Palsson, Master. Gosta Leonard</td>\n      <td>1</td>\n      <td>2.000000</td>\n      <td>3</td>\n      <td>1</td>\n      <td>349909</td>\n      <td>21.0750</td>\n      <td>29.699118</td>\n      <td>S</td>\n      <td>Palsson,</td>\n      <td>Master.</td>\n      <td>1</td>\n      <td>1</td>\n    </tr>\n    <tr>\n      <th>8</th>\n      <td>1</td>\n      <td>3</td>\n      <td>Johnson, Mrs. Oscar W (Elisabeth Vilhelmina Berg)</td>\n      <td>0</td>\n      <td>27.000000</td>\n      <td>0</td>\n      <td>2</td>\n      <td>347742</td>\n      <td>11.1333</td>\n      <td>29.699118</td>\n      <td>S</td>\n      <td>Johnson,</td>\n      <td>Mrs.</td>\n      <td>0</td>\n      <td>2</td>\n    </tr>\n    <tr>\n      <th>9</th>\n      <td>1</td>\n      <td>2</td>\n      <td>Nasser, Mrs. Nicholas (Adele Achem)</td>\n      <td>0</td>\n      <td>14.000000</td>\n      <td>1</td>\n      <td>0</td>\n      <td>237736</td>\n      <td>30.0708</td>\n      <td>29.699118</td>\n      <td>C</td>\n      <td>Nasser,</td>\n      <td>Mrs.</td>\n      <td>0</td>\n      <td>1</td>\n    </tr>\n  </tbody>\n</table>\n</div>"
          },
          "metadata": {}
        }
      ],
      "execution_count": null
    },
    {
      "cell_type": "code",
      "source": [
        "df[((df[\"Age\"]>60) & (df[\"Gender\"]==0))]"
      ],
      "metadata": {
        "trusted": true,
        "execution": {
          "iopub.status.busy": "2025-09-29T16:41:15.923143Z",
          "iopub.execute_input": "2025-09-29T16:41:15.923326Z",
          "iopub.status.idle": "2025-09-29T16:41:15.942045Z",
          "shell.execute_reply.started": "2025-09-29T16:41:15.923306Z",
          "shell.execute_reply": "2025-09-29T16:41:15.941509Z"
        },
        "id": "JdEZFEw_DzoA",
        "outputId": "af45da08-f376-4701-d344-445c8b5c2e57"
      },
      "outputs": [
        {
          "execution_count": 166,
          "output_type": "execute_result",
          "data": {
            "text/plain": "     Survived  Pclass                                  Full Name  Gender  \\\n275         1       1          Andrews, Miss. Kornelia Theodosia       0   \n483         1       3                     Turkula, Mrs. (Hedwig)       0   \n829         1       1  Stone, Mrs. George Nelson (Martha Evelyn)       0   \n\n      Age  SibSp  Parch  Ticket     Fare      Cabin   Embarked Last Name  \\\n275  63.0      1      0   13502  77.9583         D7          S  Andrews,   \n483  63.0      0      0    4134   9.5875  29.699118          S  Turkula,   \n829  62.0      0      0  113572  80.0000        B28  29.699118    Stone,   \n\n    First name  Third&Men  Age Group  \n275      Miss.          0          4  \n483       Mrs.          0          4  \n829       Mrs.          0          4  ",
            "text/html": "<div>\n<style scoped>\n    .dataframe tbody tr th:only-of-type {\n        vertical-align: middle;\n    }\n\n    .dataframe tbody tr th {\n        vertical-align: top;\n    }\n\n    .dataframe thead th {\n        text-align: right;\n    }\n</style>\n<table border=\"1\" class=\"dataframe\">\n  <thead>\n    <tr style=\"text-align: right;\">\n      <th></th>\n      <th>Survived</th>\n      <th>Pclass</th>\n      <th>Full Name</th>\n      <th>Gender</th>\n      <th>Age</th>\n      <th>SibSp</th>\n      <th>Parch</th>\n      <th>Ticket</th>\n      <th>Fare</th>\n      <th>Cabin</th>\n      <th>Embarked</th>\n      <th>Last Name</th>\n      <th>First name</th>\n      <th>Third&amp;Men</th>\n      <th>Age Group</th>\n    </tr>\n  </thead>\n  <tbody>\n    <tr>\n      <th>275</th>\n      <td>1</td>\n      <td>1</td>\n      <td>Andrews, Miss. Kornelia Theodosia</td>\n      <td>0</td>\n      <td>63.0</td>\n      <td>1</td>\n      <td>0</td>\n      <td>13502</td>\n      <td>77.9583</td>\n      <td>D7</td>\n      <td>S</td>\n      <td>Andrews,</td>\n      <td>Miss.</td>\n      <td>0</td>\n      <td>4</td>\n    </tr>\n    <tr>\n      <th>483</th>\n      <td>1</td>\n      <td>3</td>\n      <td>Turkula, Mrs. (Hedwig)</td>\n      <td>0</td>\n      <td>63.0</td>\n      <td>0</td>\n      <td>0</td>\n      <td>4134</td>\n      <td>9.5875</td>\n      <td>29.699118</td>\n      <td>S</td>\n      <td>Turkula,</td>\n      <td>Mrs.</td>\n      <td>0</td>\n      <td>4</td>\n    </tr>\n    <tr>\n      <th>829</th>\n      <td>1</td>\n      <td>1</td>\n      <td>Stone, Mrs. George Nelson (Martha Evelyn)</td>\n      <td>0</td>\n      <td>62.0</td>\n      <td>0</td>\n      <td>0</td>\n      <td>113572</td>\n      <td>80.0000</td>\n      <td>B28</td>\n      <td>29.699118</td>\n      <td>Stone,</td>\n      <td>Mrs.</td>\n      <td>0</td>\n      <td>4</td>\n    </tr>\n  </tbody>\n</table>\n</div>"
          },
          "metadata": {}
        }
      ],
      "execution_count": null
    },
    {
      "cell_type": "markdown",
      "source": [
        "# Filter Numeric & Categorical Feature"
      ],
      "metadata": {
        "id": "zXUEN-M1DzoA"
      }
    },
    {
      "cell_type": "code",
      "source": [
        "df.head(10)"
      ],
      "metadata": {
        "trusted": true,
        "execution": {
          "iopub.status.busy": "2025-09-29T16:41:15.942696Z",
          "iopub.execute_input": "2025-09-29T16:41:15.942916Z",
          "iopub.status.idle": "2025-09-29T16:41:15.962219Z",
          "shell.execute_reply.started": "2025-09-29T16:41:15.942893Z",
          "shell.execute_reply": "2025-09-29T16:41:15.961643Z"
        },
        "id": "bPWdlMw2DzoA",
        "outputId": "ebb01b5a-36fa-47d1-d1f1-26b1da7e48b6"
      },
      "outputs": [
        {
          "execution_count": 167,
          "output_type": "execute_result",
          "data": {
            "text/plain": "   Survived  Pclass                                          Full Name  \\\n0         0       3                            Braund, Mr. Owen Harris   \n1         1       1  Cumings, Mrs. John Bradley (Florence Briggs Th...   \n2         1       3                             Heikkinen, Miss. Laina   \n3         1       1       Futrelle, Mrs. Jacques Heath (Lily May Peel)   \n4         0       3                           Allen, Mr. William Henry   \n5         0       3                                   Moran, Mr. James   \n6         0       1                            McCarthy, Mr. Timothy J   \n7         0       3                     Palsson, Master. Gosta Leonard   \n8         1       3  Johnson, Mrs. Oscar W (Elisabeth Vilhelmina Berg)   \n9         1       2                Nasser, Mrs. Nicholas (Adele Achem)   \n\n   Gender        Age  SibSp  Parch            Ticket     Fare      Cabin  \\\n0       1  22.000000      1      0         A/5 21171   7.2500  29.699118   \n1       0  38.000000      1      0          PC 17599  71.2833        C85   \n2       0  26.000000      0      0  STON/O2. 3101282   7.9250  29.699118   \n3       0  35.000000      1      0            113803  53.1000       C123   \n4       1  35.000000      0      0            373450   8.0500  29.699118   \n5       1  29.699118      0      0            330877   8.4583  29.699118   \n6       1  54.000000      0      0             17463  51.8625        E46   \n7       1   2.000000      3      1            349909  21.0750  29.699118   \n8       0  27.000000      0      2            347742  11.1333  29.699118   \n9       0  14.000000      1      0            237736  30.0708  29.699118   \n\n  Embarked   Last Name First name  Third&Men  Age Group  \n0        S     Braund,        Mr.          1          2  \n1        C    Cumings,       Mrs.          0          2  \n2        S  Heikkinen,      Miss.          0          2  \n3        S   Futrelle,       Mrs.          0          2  \n4        S      Allen,        Mr.          1          2  \n5        Q      Moran,        Mr.          1          2  \n6        S   McCarthy,        Mr.          0          3  \n7        S    Palsson,    Master.          1          1  \n8        S    Johnson,       Mrs.          0          2  \n9        C     Nasser,       Mrs.          0          1  ",
            "text/html": "<div>\n<style scoped>\n    .dataframe tbody tr th:only-of-type {\n        vertical-align: middle;\n    }\n\n    .dataframe tbody tr th {\n        vertical-align: top;\n    }\n\n    .dataframe thead th {\n        text-align: right;\n    }\n</style>\n<table border=\"1\" class=\"dataframe\">\n  <thead>\n    <tr style=\"text-align: right;\">\n      <th></th>\n      <th>Survived</th>\n      <th>Pclass</th>\n      <th>Full Name</th>\n      <th>Gender</th>\n      <th>Age</th>\n      <th>SibSp</th>\n      <th>Parch</th>\n      <th>Ticket</th>\n      <th>Fare</th>\n      <th>Cabin</th>\n      <th>Embarked</th>\n      <th>Last Name</th>\n      <th>First name</th>\n      <th>Third&amp;Men</th>\n      <th>Age Group</th>\n    </tr>\n  </thead>\n  <tbody>\n    <tr>\n      <th>0</th>\n      <td>0</td>\n      <td>3</td>\n      <td>Braund, Mr. Owen Harris</td>\n      <td>1</td>\n      <td>22.000000</td>\n      <td>1</td>\n      <td>0</td>\n      <td>A/5 21171</td>\n      <td>7.2500</td>\n      <td>29.699118</td>\n      <td>S</td>\n      <td>Braund,</td>\n      <td>Mr.</td>\n      <td>1</td>\n      <td>2</td>\n    </tr>\n    <tr>\n      <th>1</th>\n      <td>1</td>\n      <td>1</td>\n      <td>Cumings, Mrs. John Bradley (Florence Briggs Th...</td>\n      <td>0</td>\n      <td>38.000000</td>\n      <td>1</td>\n      <td>0</td>\n      <td>PC 17599</td>\n      <td>71.2833</td>\n      <td>C85</td>\n      <td>C</td>\n      <td>Cumings,</td>\n      <td>Mrs.</td>\n      <td>0</td>\n      <td>2</td>\n    </tr>\n    <tr>\n      <th>2</th>\n      <td>1</td>\n      <td>3</td>\n      <td>Heikkinen, Miss. Laina</td>\n      <td>0</td>\n      <td>26.000000</td>\n      <td>0</td>\n      <td>0</td>\n      <td>STON/O2. 3101282</td>\n      <td>7.9250</td>\n      <td>29.699118</td>\n      <td>S</td>\n      <td>Heikkinen,</td>\n      <td>Miss.</td>\n      <td>0</td>\n      <td>2</td>\n    </tr>\n    <tr>\n      <th>3</th>\n      <td>1</td>\n      <td>1</td>\n      <td>Futrelle, Mrs. Jacques Heath (Lily May Peel)</td>\n      <td>0</td>\n      <td>35.000000</td>\n      <td>1</td>\n      <td>0</td>\n      <td>113803</td>\n      <td>53.1000</td>\n      <td>C123</td>\n      <td>S</td>\n      <td>Futrelle,</td>\n      <td>Mrs.</td>\n      <td>0</td>\n      <td>2</td>\n    </tr>\n    <tr>\n      <th>4</th>\n      <td>0</td>\n      <td>3</td>\n      <td>Allen, Mr. William Henry</td>\n      <td>1</td>\n      <td>35.000000</td>\n      <td>0</td>\n      <td>0</td>\n      <td>373450</td>\n      <td>8.0500</td>\n      <td>29.699118</td>\n      <td>S</td>\n      <td>Allen,</td>\n      <td>Mr.</td>\n      <td>1</td>\n      <td>2</td>\n    </tr>\n    <tr>\n      <th>5</th>\n      <td>0</td>\n      <td>3</td>\n      <td>Moran, Mr. James</td>\n      <td>1</td>\n      <td>29.699118</td>\n      <td>0</td>\n      <td>0</td>\n      <td>330877</td>\n      <td>8.4583</td>\n      <td>29.699118</td>\n      <td>Q</td>\n      <td>Moran,</td>\n      <td>Mr.</td>\n      <td>1</td>\n      <td>2</td>\n    </tr>\n    <tr>\n      <th>6</th>\n      <td>0</td>\n      <td>1</td>\n      <td>McCarthy, Mr. Timothy J</td>\n      <td>1</td>\n      <td>54.000000</td>\n      <td>0</td>\n      <td>0</td>\n      <td>17463</td>\n      <td>51.8625</td>\n      <td>E46</td>\n      <td>S</td>\n      <td>McCarthy,</td>\n      <td>Mr.</td>\n      <td>0</td>\n      <td>3</td>\n    </tr>\n    <tr>\n      <th>7</th>\n      <td>0</td>\n      <td>3</td>\n      <td>Palsson, Master. Gosta Leonard</td>\n      <td>1</td>\n      <td>2.000000</td>\n      <td>3</td>\n      <td>1</td>\n      <td>349909</td>\n      <td>21.0750</td>\n      <td>29.699118</td>\n      <td>S</td>\n      <td>Palsson,</td>\n      <td>Master.</td>\n      <td>1</td>\n      <td>1</td>\n    </tr>\n    <tr>\n      <th>8</th>\n      <td>1</td>\n      <td>3</td>\n      <td>Johnson, Mrs. Oscar W (Elisabeth Vilhelmina Berg)</td>\n      <td>0</td>\n      <td>27.000000</td>\n      <td>0</td>\n      <td>2</td>\n      <td>347742</td>\n      <td>11.1333</td>\n      <td>29.699118</td>\n      <td>S</td>\n      <td>Johnson,</td>\n      <td>Mrs.</td>\n      <td>0</td>\n      <td>2</td>\n    </tr>\n    <tr>\n      <th>9</th>\n      <td>1</td>\n      <td>2</td>\n      <td>Nasser, Mrs. Nicholas (Adele Achem)</td>\n      <td>0</td>\n      <td>14.000000</td>\n      <td>1</td>\n      <td>0</td>\n      <td>237736</td>\n      <td>30.0708</td>\n      <td>29.699118</td>\n      <td>C</td>\n      <td>Nasser,</td>\n      <td>Mrs.</td>\n      <td>0</td>\n      <td>1</td>\n    </tr>\n  </tbody>\n</table>\n</div>"
          },
          "metadata": {}
        }
      ],
      "execution_count": null
    },
    {
      "cell_type": "code",
      "source": [
        "#numerical type\n",
        "numerical=[\"int16\",\"int32\",\"int64\",\"float16\",\"float32\",\"float64\"]\n",
        "df_nume=df.select_dtypes(include=numerical)"
      ],
      "metadata": {
        "trusted": true,
        "execution": {
          "iopub.status.busy": "2025-09-29T16:41:15.963083Z",
          "iopub.execute_input": "2025-09-29T16:41:15.963421Z",
          "iopub.status.idle": "2025-09-29T16:41:15.975422Z",
          "shell.execute_reply.started": "2025-09-29T16:41:15.963405Z",
          "shell.execute_reply": "2025-09-29T16:41:15.974872Z"
        },
        "id": "DEoGJDTyDzoB"
      },
      "outputs": [],
      "execution_count": null
    },
    {
      "cell_type": "code",
      "source": [
        "df_nume.head(10)"
      ],
      "metadata": {
        "trusted": true,
        "execution": {
          "iopub.status.busy": "2025-09-29T16:41:15.977154Z",
          "iopub.execute_input": "2025-09-29T16:41:15.97734Z",
          "iopub.status.idle": "2025-09-29T16:41:15.993996Z",
          "shell.execute_reply.started": "2025-09-29T16:41:15.977326Z",
          "shell.execute_reply": "2025-09-29T16:41:15.993356Z"
        },
        "id": "mH87IE-sDzoB",
        "outputId": "d5e3190c-2e9d-490f-d40b-9d5cdf93a56f"
      },
      "outputs": [
        {
          "execution_count": 169,
          "output_type": "execute_result",
          "data": {
            "text/plain": "   Survived  Pclass  Gender        Age  SibSp  Parch     Fare  Third&Men  \\\n0         0       3       1  22.000000      1      0   7.2500          1   \n1         1       1       0  38.000000      1      0  71.2833          0   \n2         1       3       0  26.000000      0      0   7.9250          0   \n3         1       1       0  35.000000      1      0  53.1000          0   \n4         0       3       1  35.000000      0      0   8.0500          1   \n5         0       3       1  29.699118      0      0   8.4583          1   \n6         0       1       1  54.000000      0      0  51.8625          0   \n7         0       3       1   2.000000      3      1  21.0750          1   \n8         1       3       0  27.000000      0      2  11.1333          0   \n9         1       2       0  14.000000      1      0  30.0708          0   \n\n   Age Group  \n0          2  \n1          2  \n2          2  \n3          2  \n4          2  \n5          2  \n6          3  \n7          1  \n8          2  \n9          1  ",
            "text/html": "<div>\n<style scoped>\n    .dataframe tbody tr th:only-of-type {\n        vertical-align: middle;\n    }\n\n    .dataframe tbody tr th {\n        vertical-align: top;\n    }\n\n    .dataframe thead th {\n        text-align: right;\n    }\n</style>\n<table border=\"1\" class=\"dataframe\">\n  <thead>\n    <tr style=\"text-align: right;\">\n      <th></th>\n      <th>Survived</th>\n      <th>Pclass</th>\n      <th>Gender</th>\n      <th>Age</th>\n      <th>SibSp</th>\n      <th>Parch</th>\n      <th>Fare</th>\n      <th>Third&amp;Men</th>\n      <th>Age Group</th>\n    </tr>\n  </thead>\n  <tbody>\n    <tr>\n      <th>0</th>\n      <td>0</td>\n      <td>3</td>\n      <td>1</td>\n      <td>22.000000</td>\n      <td>1</td>\n      <td>0</td>\n      <td>7.2500</td>\n      <td>1</td>\n      <td>2</td>\n    </tr>\n    <tr>\n      <th>1</th>\n      <td>1</td>\n      <td>1</td>\n      <td>0</td>\n      <td>38.000000</td>\n      <td>1</td>\n      <td>0</td>\n      <td>71.2833</td>\n      <td>0</td>\n      <td>2</td>\n    </tr>\n    <tr>\n      <th>2</th>\n      <td>1</td>\n      <td>3</td>\n      <td>0</td>\n      <td>26.000000</td>\n      <td>0</td>\n      <td>0</td>\n      <td>7.9250</td>\n      <td>0</td>\n      <td>2</td>\n    </tr>\n    <tr>\n      <th>3</th>\n      <td>1</td>\n      <td>1</td>\n      <td>0</td>\n      <td>35.000000</td>\n      <td>1</td>\n      <td>0</td>\n      <td>53.1000</td>\n      <td>0</td>\n      <td>2</td>\n    </tr>\n    <tr>\n      <th>4</th>\n      <td>0</td>\n      <td>3</td>\n      <td>1</td>\n      <td>35.000000</td>\n      <td>0</td>\n      <td>0</td>\n      <td>8.0500</td>\n      <td>1</td>\n      <td>2</td>\n    </tr>\n    <tr>\n      <th>5</th>\n      <td>0</td>\n      <td>3</td>\n      <td>1</td>\n      <td>29.699118</td>\n      <td>0</td>\n      <td>0</td>\n      <td>8.4583</td>\n      <td>1</td>\n      <td>2</td>\n    </tr>\n    <tr>\n      <th>6</th>\n      <td>0</td>\n      <td>1</td>\n      <td>1</td>\n      <td>54.000000</td>\n      <td>0</td>\n      <td>0</td>\n      <td>51.8625</td>\n      <td>0</td>\n      <td>3</td>\n    </tr>\n    <tr>\n      <th>7</th>\n      <td>0</td>\n      <td>3</td>\n      <td>1</td>\n      <td>2.000000</td>\n      <td>3</td>\n      <td>1</td>\n      <td>21.0750</td>\n      <td>1</td>\n      <td>1</td>\n    </tr>\n    <tr>\n      <th>8</th>\n      <td>1</td>\n      <td>3</td>\n      <td>0</td>\n      <td>27.000000</td>\n      <td>0</td>\n      <td>2</td>\n      <td>11.1333</td>\n      <td>0</td>\n      <td>2</td>\n    </tr>\n    <tr>\n      <th>9</th>\n      <td>1</td>\n      <td>2</td>\n      <td>0</td>\n      <td>14.000000</td>\n      <td>1</td>\n      <td>0</td>\n      <td>30.0708</td>\n      <td>0</td>\n      <td>1</td>\n    </tr>\n  </tbody>\n</table>\n</div>"
          },
          "metadata": {}
        }
      ],
      "execution_count": null
    },
    {
      "cell_type": "code",
      "source": [
        "#Categorical type\n",
        "df_cat=df.select_dtypes(include=[\"object\"])"
      ],
      "metadata": {
        "trusted": true,
        "execution": {
          "iopub.status.busy": "2025-09-29T16:41:15.994739Z",
          "iopub.execute_input": "2025-09-29T16:41:15.995218Z",
          "iopub.status.idle": "2025-09-29T16:41:16.006262Z",
          "shell.execute_reply.started": "2025-09-29T16:41:15.995194Z",
          "shell.execute_reply": "2025-09-29T16:41:16.005606Z"
        },
        "id": "NVBsIbZtDzoB"
      },
      "outputs": [],
      "execution_count": null
    },
    {
      "cell_type": "code",
      "source": [
        "df_cat.head(10)"
      ],
      "metadata": {
        "trusted": true,
        "execution": {
          "iopub.status.busy": "2025-09-29T16:41:16.007063Z",
          "iopub.execute_input": "2025-09-29T16:41:16.007502Z",
          "iopub.status.idle": "2025-09-29T16:41:16.023305Z",
          "shell.execute_reply.started": "2025-09-29T16:41:16.007478Z",
          "shell.execute_reply": "2025-09-29T16:41:16.02264Z"
        },
        "id": "B-snCfiyDzoC",
        "outputId": "5bb34474-4221-473c-bec4-1e54a9f625a5"
      },
      "outputs": [
        {
          "execution_count": 171,
          "output_type": "execute_result",
          "data": {
            "text/plain": "                                           Full Name            Ticket  \\\n0                            Braund, Mr. Owen Harris         A/5 21171   \n1  Cumings, Mrs. John Bradley (Florence Briggs Th...          PC 17599   \n2                             Heikkinen, Miss. Laina  STON/O2. 3101282   \n3       Futrelle, Mrs. Jacques Heath (Lily May Peel)            113803   \n4                           Allen, Mr. William Henry            373450   \n5                                   Moran, Mr. James            330877   \n6                            McCarthy, Mr. Timothy J             17463   \n7                     Palsson, Master. Gosta Leonard            349909   \n8  Johnson, Mrs. Oscar W (Elisabeth Vilhelmina Berg)            347742   \n9                Nasser, Mrs. Nicholas (Adele Achem)            237736   \n\n       Cabin Embarked   Last Name First name  \n0  29.699118        S     Braund,        Mr.  \n1        C85        C    Cumings,       Mrs.  \n2  29.699118        S  Heikkinen,      Miss.  \n3       C123        S   Futrelle,       Mrs.  \n4  29.699118        S      Allen,        Mr.  \n5  29.699118        Q      Moran,        Mr.  \n6        E46        S   McCarthy,        Mr.  \n7  29.699118        S    Palsson,    Master.  \n8  29.699118        S    Johnson,       Mrs.  \n9  29.699118        C     Nasser,       Mrs.  ",
            "text/html": "<div>\n<style scoped>\n    .dataframe tbody tr th:only-of-type {\n        vertical-align: middle;\n    }\n\n    .dataframe tbody tr th {\n        vertical-align: top;\n    }\n\n    .dataframe thead th {\n        text-align: right;\n    }\n</style>\n<table border=\"1\" class=\"dataframe\">\n  <thead>\n    <tr style=\"text-align: right;\">\n      <th></th>\n      <th>Full Name</th>\n      <th>Ticket</th>\n      <th>Cabin</th>\n      <th>Embarked</th>\n      <th>Last Name</th>\n      <th>First name</th>\n    </tr>\n  </thead>\n  <tbody>\n    <tr>\n      <th>0</th>\n      <td>Braund, Mr. Owen Harris</td>\n      <td>A/5 21171</td>\n      <td>29.699118</td>\n      <td>S</td>\n      <td>Braund,</td>\n      <td>Mr.</td>\n    </tr>\n    <tr>\n      <th>1</th>\n      <td>Cumings, Mrs. John Bradley (Florence Briggs Th...</td>\n      <td>PC 17599</td>\n      <td>C85</td>\n      <td>C</td>\n      <td>Cumings,</td>\n      <td>Mrs.</td>\n    </tr>\n    <tr>\n      <th>2</th>\n      <td>Heikkinen, Miss. Laina</td>\n      <td>STON/O2. 3101282</td>\n      <td>29.699118</td>\n      <td>S</td>\n      <td>Heikkinen,</td>\n      <td>Miss.</td>\n    </tr>\n    <tr>\n      <th>3</th>\n      <td>Futrelle, Mrs. Jacques Heath (Lily May Peel)</td>\n      <td>113803</td>\n      <td>C123</td>\n      <td>S</td>\n      <td>Futrelle,</td>\n      <td>Mrs.</td>\n    </tr>\n    <tr>\n      <th>4</th>\n      <td>Allen, Mr. William Henry</td>\n      <td>373450</td>\n      <td>29.699118</td>\n      <td>S</td>\n      <td>Allen,</td>\n      <td>Mr.</td>\n    </tr>\n    <tr>\n      <th>5</th>\n      <td>Moran, Mr. James</td>\n      <td>330877</td>\n      <td>29.699118</td>\n      <td>Q</td>\n      <td>Moran,</td>\n      <td>Mr.</td>\n    </tr>\n    <tr>\n      <th>6</th>\n      <td>McCarthy, Mr. Timothy J</td>\n      <td>17463</td>\n      <td>E46</td>\n      <td>S</td>\n      <td>McCarthy,</td>\n      <td>Mr.</td>\n    </tr>\n    <tr>\n      <th>7</th>\n      <td>Palsson, Master. Gosta Leonard</td>\n      <td>349909</td>\n      <td>29.699118</td>\n      <td>S</td>\n      <td>Palsson,</td>\n      <td>Master.</td>\n    </tr>\n    <tr>\n      <th>8</th>\n      <td>Johnson, Mrs. Oscar W (Elisabeth Vilhelmina Berg)</td>\n      <td>347742</td>\n      <td>29.699118</td>\n      <td>S</td>\n      <td>Johnson,</td>\n      <td>Mrs.</td>\n    </tr>\n    <tr>\n      <th>9</th>\n      <td>Nasser, Mrs. Nicholas (Adele Achem)</td>\n      <td>237736</td>\n      <td>29.699118</td>\n      <td>C</td>\n      <td>Nasser,</td>\n      <td>Mrs.</td>\n    </tr>\n  </tbody>\n</table>\n</div>"
          },
          "metadata": {}
        }
      ],
      "execution_count": null
    },
    {
      "cell_type": "code",
      "source": [
        "df.head(10)"
      ],
      "metadata": {
        "trusted": true,
        "execution": {
          "iopub.status.busy": "2025-09-29T16:41:29.055399Z",
          "iopub.execute_input": "2025-09-29T16:41:29.056203Z",
          "iopub.status.idle": "2025-09-29T16:41:29.067887Z",
          "shell.execute_reply.started": "2025-09-29T16:41:29.056177Z",
          "shell.execute_reply": "2025-09-29T16:41:29.067235Z"
        },
        "id": "at7r-JR4DzoD",
        "outputId": "06bc1bdb-6e25-4335-f062-daec3941c00b"
      },
      "outputs": [
        {
          "execution_count": 172,
          "output_type": "execute_result",
          "data": {
            "text/plain": "   Survived  Pclass                                          Full Name  \\\n0         0       3                            Braund, Mr. Owen Harris   \n1         1       1  Cumings, Mrs. John Bradley (Florence Briggs Th...   \n2         1       3                             Heikkinen, Miss. Laina   \n3         1       1       Futrelle, Mrs. Jacques Heath (Lily May Peel)   \n4         0       3                           Allen, Mr. William Henry   \n5         0       3                                   Moran, Mr. James   \n6         0       1                            McCarthy, Mr. Timothy J   \n7         0       3                     Palsson, Master. Gosta Leonard   \n8         1       3  Johnson, Mrs. Oscar W (Elisabeth Vilhelmina Berg)   \n9         1       2                Nasser, Mrs. Nicholas (Adele Achem)   \n\n   Gender        Age  SibSp  Parch            Ticket     Fare      Cabin  \\\n0       1  22.000000      1      0         A/5 21171   7.2500  29.699118   \n1       0  38.000000      1      0          PC 17599  71.2833        C85   \n2       0  26.000000      0      0  STON/O2. 3101282   7.9250  29.699118   \n3       0  35.000000      1      0            113803  53.1000       C123   \n4       1  35.000000      0      0            373450   8.0500  29.699118   \n5       1  29.699118      0      0            330877   8.4583  29.699118   \n6       1  54.000000      0      0             17463  51.8625        E46   \n7       1   2.000000      3      1            349909  21.0750  29.699118   \n8       0  27.000000      0      2            347742  11.1333  29.699118   \n9       0  14.000000      1      0            237736  30.0708  29.699118   \n\n  Embarked   Last Name First name  Third&Men  Age Group  \n0        S     Braund,        Mr.          1          2  \n1        C    Cumings,       Mrs.          0          2  \n2        S  Heikkinen,      Miss.          0          2  \n3        S   Futrelle,       Mrs.          0          2  \n4        S      Allen,        Mr.          1          2  \n5        Q      Moran,        Mr.          1          2  \n6        S   McCarthy,        Mr.          0          3  \n7        S    Palsson,    Master.          1          1  \n8        S    Johnson,       Mrs.          0          2  \n9        C     Nasser,       Mrs.          0          1  ",
            "text/html": "<div>\n<style scoped>\n    .dataframe tbody tr th:only-of-type {\n        vertical-align: middle;\n    }\n\n    .dataframe tbody tr th {\n        vertical-align: top;\n    }\n\n    .dataframe thead th {\n        text-align: right;\n    }\n</style>\n<table border=\"1\" class=\"dataframe\">\n  <thead>\n    <tr style=\"text-align: right;\">\n      <th></th>\n      <th>Survived</th>\n      <th>Pclass</th>\n      <th>Full Name</th>\n      <th>Gender</th>\n      <th>Age</th>\n      <th>SibSp</th>\n      <th>Parch</th>\n      <th>Ticket</th>\n      <th>Fare</th>\n      <th>Cabin</th>\n      <th>Embarked</th>\n      <th>Last Name</th>\n      <th>First name</th>\n      <th>Third&amp;Men</th>\n      <th>Age Group</th>\n    </tr>\n  </thead>\n  <tbody>\n    <tr>\n      <th>0</th>\n      <td>0</td>\n      <td>3</td>\n      <td>Braund, Mr. Owen Harris</td>\n      <td>1</td>\n      <td>22.000000</td>\n      <td>1</td>\n      <td>0</td>\n      <td>A/5 21171</td>\n      <td>7.2500</td>\n      <td>29.699118</td>\n      <td>S</td>\n      <td>Braund,</td>\n      <td>Mr.</td>\n      <td>1</td>\n      <td>2</td>\n    </tr>\n    <tr>\n      <th>1</th>\n      <td>1</td>\n      <td>1</td>\n      <td>Cumings, Mrs. John Bradley (Florence Briggs Th...</td>\n      <td>0</td>\n      <td>38.000000</td>\n      <td>1</td>\n      <td>0</td>\n      <td>PC 17599</td>\n      <td>71.2833</td>\n      <td>C85</td>\n      <td>C</td>\n      <td>Cumings,</td>\n      <td>Mrs.</td>\n      <td>0</td>\n      <td>2</td>\n    </tr>\n    <tr>\n      <th>2</th>\n      <td>1</td>\n      <td>3</td>\n      <td>Heikkinen, Miss. Laina</td>\n      <td>0</td>\n      <td>26.000000</td>\n      <td>0</td>\n      <td>0</td>\n      <td>STON/O2. 3101282</td>\n      <td>7.9250</td>\n      <td>29.699118</td>\n      <td>S</td>\n      <td>Heikkinen,</td>\n      <td>Miss.</td>\n      <td>0</td>\n      <td>2</td>\n    </tr>\n    <tr>\n      <th>3</th>\n      <td>1</td>\n      <td>1</td>\n      <td>Futrelle, Mrs. Jacques Heath (Lily May Peel)</td>\n      <td>0</td>\n      <td>35.000000</td>\n      <td>1</td>\n      <td>0</td>\n      <td>113803</td>\n      <td>53.1000</td>\n      <td>C123</td>\n      <td>S</td>\n      <td>Futrelle,</td>\n      <td>Mrs.</td>\n      <td>0</td>\n      <td>2</td>\n    </tr>\n    <tr>\n      <th>4</th>\n      <td>0</td>\n      <td>3</td>\n      <td>Allen, Mr. William Henry</td>\n      <td>1</td>\n      <td>35.000000</td>\n      <td>0</td>\n      <td>0</td>\n      <td>373450</td>\n      <td>8.0500</td>\n      <td>29.699118</td>\n      <td>S</td>\n      <td>Allen,</td>\n      <td>Mr.</td>\n      <td>1</td>\n      <td>2</td>\n    </tr>\n    <tr>\n      <th>5</th>\n      <td>0</td>\n      <td>3</td>\n      <td>Moran, Mr. James</td>\n      <td>1</td>\n      <td>29.699118</td>\n      <td>0</td>\n      <td>0</td>\n      <td>330877</td>\n      <td>8.4583</td>\n      <td>29.699118</td>\n      <td>Q</td>\n      <td>Moran,</td>\n      <td>Mr.</td>\n      <td>1</td>\n      <td>2</td>\n    </tr>\n    <tr>\n      <th>6</th>\n      <td>0</td>\n      <td>1</td>\n      <td>McCarthy, Mr. Timothy J</td>\n      <td>1</td>\n      <td>54.000000</td>\n      <td>0</td>\n      <td>0</td>\n      <td>17463</td>\n      <td>51.8625</td>\n      <td>E46</td>\n      <td>S</td>\n      <td>McCarthy,</td>\n      <td>Mr.</td>\n      <td>0</td>\n      <td>3</td>\n    </tr>\n    <tr>\n      <th>7</th>\n      <td>0</td>\n      <td>3</td>\n      <td>Palsson, Master. Gosta Leonard</td>\n      <td>1</td>\n      <td>2.000000</td>\n      <td>3</td>\n      <td>1</td>\n      <td>349909</td>\n      <td>21.0750</td>\n      <td>29.699118</td>\n      <td>S</td>\n      <td>Palsson,</td>\n      <td>Master.</td>\n      <td>1</td>\n      <td>1</td>\n    </tr>\n    <tr>\n      <th>8</th>\n      <td>1</td>\n      <td>3</td>\n      <td>Johnson, Mrs. Oscar W (Elisabeth Vilhelmina Berg)</td>\n      <td>0</td>\n      <td>27.000000</td>\n      <td>0</td>\n      <td>2</td>\n      <td>347742</td>\n      <td>11.1333</td>\n      <td>29.699118</td>\n      <td>S</td>\n      <td>Johnson,</td>\n      <td>Mrs.</td>\n      <td>0</td>\n      <td>2</td>\n    </tr>\n    <tr>\n      <th>9</th>\n      <td>1</td>\n      <td>2</td>\n      <td>Nasser, Mrs. Nicholas (Adele Achem)</td>\n      <td>0</td>\n      <td>14.000000</td>\n      <td>1</td>\n      <td>0</td>\n      <td>237736</td>\n      <td>30.0708</td>\n      <td>29.699118</td>\n      <td>C</td>\n      <td>Nasser,</td>\n      <td>Mrs.</td>\n      <td>0</td>\n      <td>1</td>\n    </tr>\n  </tbody>\n</table>\n</div>"
          },
          "metadata": {}
        }
      ],
      "execution_count": null
    },
    {
      "cell_type": "markdown",
      "source": [
        "# iloc vs loc"
      ],
      "metadata": {
        "id": "bK9_3E2HDzoE"
      }
    },
    {
      "cell_type": "code",
      "source": [
        "#iloc\n",
        "df_sub=df.iloc[1:4,2:5]"
      ],
      "metadata": {
        "trusted": true,
        "execution": {
          "iopub.status.busy": "2025-09-29T16:43:57.535885Z",
          "iopub.execute_input": "2025-09-29T16:43:57.536167Z",
          "iopub.status.idle": "2025-09-29T16:43:57.540612Z",
          "shell.execute_reply.started": "2025-09-29T16:43:57.536147Z",
          "shell.execute_reply": "2025-09-29T16:43:57.539968Z"
        },
        "id": "oK81ohxEDzoE"
      },
      "outputs": [],
      "execution_count": null
    },
    {
      "cell_type": "code",
      "source": [
        "df_sub"
      ],
      "metadata": {
        "trusted": true,
        "execution": {
          "iopub.status.busy": "2025-09-29T16:44:13.012603Z",
          "iopub.execute_input": "2025-09-29T16:44:13.013261Z",
          "iopub.status.idle": "2025-09-29T16:44:13.020503Z",
          "shell.execute_reply.started": "2025-09-29T16:44:13.01324Z",
          "shell.execute_reply": "2025-09-29T16:44:13.019703Z"
        },
        "id": "M9B_C9EXDzoF",
        "outputId": "f1ed3f0d-9324-4d28-f9c7-b1978812730a"
      },
      "outputs": [
        {
          "execution_count": 174,
          "output_type": "execute_result",
          "data": {
            "text/plain": "                                           Full Name  Gender   Age\n1  Cumings, Mrs. John Bradley (Florence Briggs Th...       0  38.0\n2                             Heikkinen, Miss. Laina       0  26.0\n3       Futrelle, Mrs. Jacques Heath (Lily May Peel)       0  35.0",
            "text/html": "<div>\n<style scoped>\n    .dataframe tbody tr th:only-of-type {\n        vertical-align: middle;\n    }\n\n    .dataframe tbody tr th {\n        vertical-align: top;\n    }\n\n    .dataframe thead th {\n        text-align: right;\n    }\n</style>\n<table border=\"1\" class=\"dataframe\">\n  <thead>\n    <tr style=\"text-align: right;\">\n      <th></th>\n      <th>Full Name</th>\n      <th>Gender</th>\n      <th>Age</th>\n    </tr>\n  </thead>\n  <tbody>\n    <tr>\n      <th>1</th>\n      <td>Cumings, Mrs. John Bradley (Florence Briggs Th...</td>\n      <td>0</td>\n      <td>38.0</td>\n    </tr>\n    <tr>\n      <th>2</th>\n      <td>Heikkinen, Miss. Laina</td>\n      <td>0</td>\n      <td>26.0</td>\n    </tr>\n    <tr>\n      <th>3</th>\n      <td>Futrelle, Mrs. Jacques Heath (Lily May Peel)</td>\n      <td>0</td>\n      <td>35.0</td>\n    </tr>\n  </tbody>\n</table>\n</div>"
          },
          "metadata": {}
        }
      ],
      "execution_count": null
    },
    {
      "cell_type": "code",
      "source": [
        "#loc\n",
        "df_sub1=df.loc[1:4,[\"Full Name\",\"Age\"]]"
      ],
      "metadata": {
        "trusted": true,
        "execution": {
          "iopub.status.busy": "2025-09-29T16:47:46.241446Z",
          "iopub.execute_input": "2025-09-29T16:47:46.242149Z",
          "iopub.status.idle": "2025-09-29T16:47:46.246784Z",
          "shell.execute_reply.started": "2025-09-29T16:47:46.242125Z",
          "shell.execute_reply": "2025-09-29T16:47:46.246053Z"
        },
        "id": "swpLCHNxDzoF"
      },
      "outputs": [],
      "execution_count": null
    },
    {
      "cell_type": "code",
      "source": [
        "df_sub1"
      ],
      "metadata": {
        "trusted": true,
        "execution": {
          "iopub.status.busy": "2025-09-29T16:47:50.863668Z",
          "iopub.execute_input": "2025-09-29T16:47:50.863942Z",
          "iopub.status.idle": "2025-09-29T16:47:50.870977Z",
          "shell.execute_reply.started": "2025-09-29T16:47:50.863921Z",
          "shell.execute_reply": "2025-09-29T16:47:50.87017Z"
        },
        "id": "xLI0QIVNDzoG",
        "outputId": "8cb1c927-531e-453b-d4a7-5a4b9868f476"
      },
      "outputs": [
        {
          "execution_count": 182,
          "output_type": "execute_result",
          "data": {
            "text/plain": "                                           Full Name   Age\n1  Cumings, Mrs. John Bradley (Florence Briggs Th...  38.0\n2                             Heikkinen, Miss. Laina  26.0\n3       Futrelle, Mrs. Jacques Heath (Lily May Peel)  35.0\n4                           Allen, Mr. William Henry  35.0",
            "text/html": "<div>\n<style scoped>\n    .dataframe tbody tr th:only-of-type {\n        vertical-align: middle;\n    }\n\n    .dataframe tbody tr th {\n        vertical-align: top;\n    }\n\n    .dataframe thead th {\n        text-align: right;\n    }\n</style>\n<table border=\"1\" class=\"dataframe\">\n  <thead>\n    <tr style=\"text-align: right;\">\n      <th></th>\n      <th>Full Name</th>\n      <th>Age</th>\n    </tr>\n  </thead>\n  <tbody>\n    <tr>\n      <th>1</th>\n      <td>Cumings, Mrs. John Bradley (Florence Briggs Th...</td>\n      <td>38.0</td>\n    </tr>\n    <tr>\n      <th>2</th>\n      <td>Heikkinen, Miss. Laina</td>\n      <td>26.0</td>\n    </tr>\n    <tr>\n      <th>3</th>\n      <td>Futrelle, Mrs. Jacques Heath (Lily May Peel)</td>\n      <td>35.0</td>\n    </tr>\n    <tr>\n      <th>4</th>\n      <td>Allen, Mr. William Henry</td>\n      <td>35.0</td>\n    </tr>\n  </tbody>\n</table>\n</div>"
          },
          "metadata": {}
        }
      ],
      "execution_count": null
    },
    {
      "cell_type": "markdown",
      "source": [
        "# Add Row"
      ],
      "metadata": {
        "id": "6F7lUO-wDzoH"
      }
    },
    {
      "cell_type": "code",
      "source": [
        "row=dict({\"Age\":50,\"Full Name\":\"Anika\"})"
      ],
      "metadata": {
        "trusted": true,
        "execution": {
          "iopub.status.busy": "2025-09-29T16:58:45.559389Z",
          "iopub.execute_input": "2025-09-29T16:58:45.559677Z",
          "iopub.status.idle": "2025-09-29T16:58:45.563651Z",
          "shell.execute_reply.started": "2025-09-29T16:58:45.559654Z",
          "shell.execute_reply": "2025-09-29T16:58:45.562748Z"
        },
        "id": "fPYV_Z7BDzoI"
      },
      "outputs": [],
      "execution_count": null
    },
    {
      "cell_type": "code",
      "source": [
        "df=pd.concat([df,pd.DataFrame([row])],ignore_index=True)"
      ],
      "metadata": {
        "trusted": true,
        "execution": {
          "iopub.status.busy": "2025-09-29T17:00:09.283934Z",
          "iopub.execute_input": "2025-09-29T17:00:09.284446Z",
          "iopub.status.idle": "2025-09-29T17:00:09.290906Z",
          "shell.execute_reply.started": "2025-09-29T17:00:09.284422Z",
          "shell.execute_reply": "2025-09-29T17:00:09.290253Z"
        },
        "id": "bXtiunXmDzoI"
      },
      "outputs": [],
      "execution_count": null
    },
    {
      "cell_type": "code",
      "source": [
        "df.tail()"
      ],
      "metadata": {
        "trusted": true,
        "execution": {
          "iopub.status.busy": "2025-09-29T17:00:24.429608Z",
          "iopub.execute_input": "2025-09-29T17:00:24.429862Z",
          "iopub.status.idle": "2025-09-29T17:00:24.444749Z",
          "shell.execute_reply.started": "2025-09-29T17:00:24.429842Z",
          "shell.execute_reply": "2025-09-29T17:00:24.444165Z"
        },
        "id": "2AoxR11lDzoI",
        "outputId": "29bff21e-834f-4795-84c2-fcfdfc57a23a"
      },
      "outputs": [
        {
          "name": "stderr",
          "text": "/usr/local/lib/python3.11/dist-packages/pandas/io/formats/format.py:1458: RuntimeWarning: invalid value encountered in greater\n  has_large_values = (abs_vals > 1e6).any()\n/usr/local/lib/python3.11/dist-packages/pandas/io/formats/format.py:1459: RuntimeWarning: invalid value encountered in less\n  has_small_values = ((abs_vals < 10 ** (-self.digits)) & (abs_vals > 0)).any()\n/usr/local/lib/python3.11/dist-packages/pandas/io/formats/format.py:1459: RuntimeWarning: invalid value encountered in greater\n  has_small_values = ((abs_vals < 10 ** (-self.digits)) & (abs_vals > 0)).any()\n",
          "output_type": "stream"
        },
        {
          "execution_count": 186,
          "output_type": "execute_result",
          "data": {
            "text/plain": "     Survived  Pclass                                 Full Name  Gender  \\\n887       1.0     1.0              Graham, Miss. Margaret Edith     0.0   \n888       0.0     3.0  Johnston, Miss. Catherine Helen \"Carrie\"     0.0   \n889       1.0     1.0                     Behr, Mr. Karl Howell     1.0   \n890       0.0     3.0                       Dooley, Mr. Patrick     1.0   \n891       NaN     NaN                                     Anika     NaN   \n\n           Age  SibSp  Parch      Ticket   Fare      Cabin Embarked  \\\n887  19.000000    0.0    0.0      112053  30.00        B42        S   \n888  29.699118    1.0    2.0  W./C. 6607  23.45  29.699118        S   \n889  26.000000    0.0    0.0      111369  30.00       C148        C   \n890  32.000000    0.0    0.0      370376   7.75  29.699118        Q   \n891  50.000000    NaN    NaN         NaN    NaN        NaN      NaN   \n\n     Last Name First name  Third&Men  Age Group  \n887    Graham,      Miss.        0.0        2.0  \n888  Johnston,      Miss.        0.0        2.0  \n889      Behr,        Mr.        0.0        2.0  \n890    Dooley,        Mr.        1.0        2.0  \n891        NaN        NaN        NaN        NaN  ",
            "text/html": "<div>\n<style scoped>\n    .dataframe tbody tr th:only-of-type {\n        vertical-align: middle;\n    }\n\n    .dataframe tbody tr th {\n        vertical-align: top;\n    }\n\n    .dataframe thead th {\n        text-align: right;\n    }\n</style>\n<table border=\"1\" class=\"dataframe\">\n  <thead>\n    <tr style=\"text-align: right;\">\n      <th></th>\n      <th>Survived</th>\n      <th>Pclass</th>\n      <th>Full Name</th>\n      <th>Gender</th>\n      <th>Age</th>\n      <th>SibSp</th>\n      <th>Parch</th>\n      <th>Ticket</th>\n      <th>Fare</th>\n      <th>Cabin</th>\n      <th>Embarked</th>\n      <th>Last Name</th>\n      <th>First name</th>\n      <th>Third&amp;Men</th>\n      <th>Age Group</th>\n    </tr>\n  </thead>\n  <tbody>\n    <tr>\n      <th>887</th>\n      <td>1.0</td>\n      <td>1.0</td>\n      <td>Graham, Miss. Margaret Edith</td>\n      <td>0.0</td>\n      <td>19.000000</td>\n      <td>0.0</td>\n      <td>0.0</td>\n      <td>112053</td>\n      <td>30.00</td>\n      <td>B42</td>\n      <td>S</td>\n      <td>Graham,</td>\n      <td>Miss.</td>\n      <td>0.0</td>\n      <td>2.0</td>\n    </tr>\n    <tr>\n      <th>888</th>\n      <td>0.0</td>\n      <td>3.0</td>\n      <td>Johnston, Miss. Catherine Helen \"Carrie\"</td>\n      <td>0.0</td>\n      <td>29.699118</td>\n      <td>1.0</td>\n      <td>2.0</td>\n      <td>W./C. 6607</td>\n      <td>23.45</td>\n      <td>29.699118</td>\n      <td>S</td>\n      <td>Johnston,</td>\n      <td>Miss.</td>\n      <td>0.0</td>\n      <td>2.0</td>\n    </tr>\n    <tr>\n      <th>889</th>\n      <td>1.0</td>\n      <td>1.0</td>\n      <td>Behr, Mr. Karl Howell</td>\n      <td>1.0</td>\n      <td>26.000000</td>\n      <td>0.0</td>\n      <td>0.0</td>\n      <td>111369</td>\n      <td>30.00</td>\n      <td>C148</td>\n      <td>C</td>\n      <td>Behr,</td>\n      <td>Mr.</td>\n      <td>0.0</td>\n      <td>2.0</td>\n    </tr>\n    <tr>\n      <th>890</th>\n      <td>0.0</td>\n      <td>3.0</td>\n      <td>Dooley, Mr. Patrick</td>\n      <td>1.0</td>\n      <td>32.000000</td>\n      <td>0.0</td>\n      <td>0.0</td>\n      <td>370376</td>\n      <td>7.75</td>\n      <td>29.699118</td>\n      <td>Q</td>\n      <td>Dooley,</td>\n      <td>Mr.</td>\n      <td>1.0</td>\n      <td>2.0</td>\n    </tr>\n    <tr>\n      <th>891</th>\n      <td>NaN</td>\n      <td>NaN</td>\n      <td>Anika</td>\n      <td>NaN</td>\n      <td>50.000000</td>\n      <td>NaN</td>\n      <td>NaN</td>\n      <td>NaN</td>\n      <td>NaN</td>\n      <td>NaN</td>\n      <td>NaN</td>\n      <td>NaN</td>\n      <td>NaN</td>\n      <td>NaN</td>\n      <td>NaN</td>\n    </tr>\n  </tbody>\n</table>\n</div>"
          },
          "metadata": {}
        }
      ],
      "execution_count": null
    }
  ]
}