{
  "cells": [
    {
      "cell_type": "markdown",
      "metadata": {
        "id": "view-in-github",
        "colab_type": "text"
      },
      "source": [
        "<a href=\"https://colab.research.google.com/github/Kaniz20/Python_Basics_Libraries_Guide/blob/main/_numpy_basics.ipynb\" target=\"_parent\"><img src=\"https://colab.research.google.com/assets/colab-badge.svg\" alt=\"Open In Colab\"/></a>"
      ]
    },
    {
      "cell_type": "markdown",
      "source": [
        "#Import NumPy Library"
      ],
      "metadata": {
        "id": "eBO4ZXUQA3Yn"
      }
    },
    {
      "cell_type": "code",
      "execution_count": 1,
      "metadata": {
        "id": "hscIr-bDJPjE"
      },
      "outputs": [],
      "source": [
        "import numpy as np"
      ]
    },
    {
      "cell_type": "code",
      "execution_count": 2,
      "metadata": {
        "id": "i9PDjSmTVgJJ"
      },
      "outputs": [],
      "source": [
        "array_name=np.array([1,2,3,4,5]) #parameter--list"
      ]
    },
    {
      "cell_type": "code",
      "execution_count": 3,
      "metadata": {
        "colab": {
          "base_uri": "https://localhost:8080/"
        },
        "id": "X8zS9N_wVsEQ",
        "outputId": "f70a6dc3-0793-4a0a-8fce-58fe0d2ab9e5"
      },
      "outputs": [
        {
          "output_type": "execute_result",
          "data": {
            "text/plain": [
              "numpy.ndarray"
            ]
          },
          "metadata": {},
          "execution_count": 3
        }
      ],
      "source": [
        "type(array_name)"
      ]
    },
    {
      "cell_type": "code",
      "execution_count": 4,
      "metadata": {
        "id": "vl-Twc44V0Ye"
      },
      "outputs": [],
      "source": [
        "a=np.array([[1,2,3],\n",
        "            [6,7,8]])"
      ]
    },
    {
      "cell_type": "code",
      "execution_count": 5,
      "metadata": {
        "colab": {
          "base_uri": "https://localhost:8080/"
        },
        "id": "BAu0JCPAWB6E",
        "outputId": "35220dfa-d5dc-4baa-9395-dd6821cb4edc"
      },
      "outputs": [
        {
          "output_type": "execute_result",
          "data": {
            "text/plain": [
              "(2, 3)"
            ]
          },
          "metadata": {},
          "execution_count": 5
        }
      ],
      "source": [
        "a.shape"
      ]
    },
    {
      "cell_type": "code",
      "execution_count": 6,
      "metadata": {
        "colab": {
          "base_uri": "https://localhost:8080/"
        },
        "id": "2_4Cbi6NWE8h",
        "outputId": "8d6b6424-2718-4c4e-9d9f-6b8baec19c5a"
      },
      "outputs": [
        {
          "output_type": "execute_result",
          "data": {
            "text/plain": [
              "2"
            ]
          },
          "metadata": {},
          "execution_count": 6
        }
      ],
      "source": [
        "a.ndim"
      ]
    },
    {
      "cell_type": "code",
      "execution_count": 7,
      "metadata": {
        "colab": {
          "base_uri": "https://localhost:8080/"
        },
        "id": "fx163gcpWHeY",
        "outputId": "ea8b3499-a5c4-4477-dcf5-b4b6646facb0"
      },
      "outputs": [
        {
          "output_type": "execute_result",
          "data": {
            "text/plain": [
              "((5,), (2, 3))"
            ]
          },
          "metadata": {},
          "execution_count": 7
        }
      ],
      "source": [
        "array_name.shape,a.shape"
      ]
    },
    {
      "cell_type": "code",
      "execution_count": 8,
      "metadata": {
        "colab": {
          "base_uri": "https://localhost:8080/"
        },
        "id": "kCFDttRJWSNI",
        "outputId": "5e553372-99fd-4065-c4f4-28b4b900448a"
      },
      "outputs": [
        {
          "output_type": "execute_result",
          "data": {
            "text/plain": [
              "(dtype('int64'), dtype('int64'))"
            ]
          },
          "metadata": {},
          "execution_count": 8
        }
      ],
      "source": [
        "array_name.dtype,a.dtype"
      ]
    },
    {
      "cell_type": "code",
      "execution_count": 9,
      "metadata": {
        "id": "2VZnGToMWaam"
      },
      "outputs": [],
      "source": [
        "c=np.array([1.0,2,3,4])"
      ]
    },
    {
      "cell_type": "markdown",
      "source": [
        "#Create an Array"
      ],
      "metadata": {
        "id": "uMFwz3AEpKUx"
      }
    },
    {
      "cell_type": "code",
      "source": [
        "a1=np.array([1,2,3,4,5],dtype=\"int\")\n",
        "print(a1)"
      ],
      "metadata": {
        "colab": {
          "base_uri": "https://localhost:8080/"
        },
        "id": "TDslg2yopN4m",
        "outputId": "a5958620-f1a9-4271-d168-c35fe319c5ba"
      },
      "execution_count": 10,
      "outputs": [
        {
          "output_type": "stream",
          "name": "stdout",
          "text": [
            "[1 2 3 4 5]\n"
          ]
        }
      ]
    },
    {
      "cell_type": "code",
      "source": [
        "zero=np.zeros((4,4),dtype=\"int\")  #create zero array\n",
        "print(zero)"
      ],
      "metadata": {
        "colab": {
          "base_uri": "https://localhost:8080/"
        },
        "id": "hyEbhBXepaE_",
        "outputId": "2903ec32-1a20-4b90-9ca0-e483fe86893e"
      },
      "execution_count": 11,
      "outputs": [
        {
          "output_type": "stream",
          "name": "stdout",
          "text": [
            "[[0 0 0 0]\n",
            " [0 0 0 0]\n",
            " [0 0 0 0]\n",
            " [0 0 0 0]]\n"
          ]
        }
      ]
    },
    {
      "cell_type": "code",
      "source": [
        "one=np.ones((4,4),dtype=\"int\") #create one array\n",
        "print(one)"
      ],
      "metadata": {
        "colab": {
          "base_uri": "https://localhost:8080/"
        },
        "id": "dAwqmsimpvkR",
        "outputId": "5df6d1e9-4d97-466a-d4c1-c04cab094724"
      },
      "execution_count": 12,
      "outputs": [
        {
          "output_type": "stream",
          "name": "stdout",
          "text": [
            "[[1 1 1 1]\n",
            " [1 1 1 1]\n",
            " [1 1 1 1]\n",
            " [1 1 1 1]]\n"
          ]
        }
      ]
    },
    {
      "cell_type": "code",
      "source": [
        "full_array=np.full((4,4),5) #create full array\n",
        "print(full_array)"
      ],
      "metadata": {
        "colab": {
          "base_uri": "https://localhost:8080/"
        },
        "id": "bU6qeUYvpN9F",
        "outputId": "25c37b5b-96eb-4019-b160-89781a113911"
      },
      "execution_count": 13,
      "outputs": [
        {
          "output_type": "stream",
          "name": "stdout",
          "text": [
            "[[5 5 5 5]\n",
            " [5 5 5 5]\n",
            " [5 5 5 5]\n",
            " [5 5 5 5]]\n"
          ]
        }
      ]
    },
    {
      "cell_type": "code",
      "source": [
        "identity=np.identity(4,dtype=\"int\") #create identity matrix\n",
        "print(identity)"
      ],
      "metadata": {
        "colab": {
          "base_uri": "https://localhost:8080/"
        },
        "id": "rD6ZPy3iqSn8",
        "outputId": "8bc5eb6b-311d-4e16-b7a0-adfa48840286"
      },
      "execution_count": 14,
      "outputs": [
        {
          "output_type": "stream",
          "name": "stdout",
          "text": [
            "[[1 0 0 0]\n",
            " [0 1 0 0]\n",
            " [0 0 1 0]\n",
            " [0 0 0 1]]\n"
          ]
        }
      ]
    },
    {
      "cell_type": "code",
      "source": [
        "eye=np.eye(5,k=2,dtype=\"int\") #create eye matrix\n",
        "print(eye)"
      ],
      "metadata": {
        "colab": {
          "base_uri": "https://localhost:8080/"
        },
        "id": "Dk9aDx27qafA",
        "outputId": "9e2f327b-13b0-4646-a945-c752cc0b379c"
      },
      "execution_count": 15,
      "outputs": [
        {
          "output_type": "stream",
          "name": "stdout",
          "text": [
            "[[0 0 1 0 0]\n",
            " [0 0 0 1 0]\n",
            " [0 0 0 0 1]\n",
            " [0 0 0 0 0]\n",
            " [0 0 0 0 0]]\n"
          ]
        }
      ]
    },
    {
      "cell_type": "code",
      "source": [
        "arange=np.arange(1,10,2) #create array with range\n",
        "print(arange)"
      ],
      "metadata": {
        "colab": {
          "base_uri": "https://localhost:8080/"
        },
        "id": "gbqdvfpvqjQ-",
        "outputId": "9b39998e-fa01-4338-bdb6-ffd791597707"
      },
      "execution_count": 16,
      "outputs": [
        {
          "output_type": "stream",
          "name": "stdout",
          "text": [
            "[1 3 5 7 9]\n"
          ]
        }
      ]
    },
    {
      "cell_type": "code",
      "source": [
        "linspace=np.linspace(1,5,10,dtype=\"int\")\n",
        "print(linspace)"
      ],
      "metadata": {
        "colab": {
          "base_uri": "https://localhost:8080/"
        },
        "id": "uo8ibi6Rq6KT",
        "outputId": "135c4696-a526-439c-962a-6354bc59f2f5"
      },
      "execution_count": 17,
      "outputs": [
        {
          "output_type": "stream",
          "name": "stdout",
          "text": [
            "[1 1 1 2 2 3 3 4 4 5]\n"
          ]
        }
      ]
    },
    {
      "cell_type": "code",
      "source": [
        "linnspace1=np.linspace(1,5,20,\"int\")\n",
        "print(linnspace1)"
      ],
      "metadata": {
        "colab": {
          "base_uri": "https://localhost:8080/"
        },
        "id": "qcSYRY30rHHW",
        "outputId": "3a5e3860-26e3-4798-ba17-f505d9920933"
      },
      "execution_count": 20,
      "outputs": [
        {
          "output_type": "stream",
          "name": "stdout",
          "text": [
            "[1.         1.21052632 1.42105263 1.63157895 1.84210526 2.05263158\n",
            " 2.26315789 2.47368421 2.68421053 2.89473684 3.10526316 3.31578947\n",
            " 3.52631579 3.73684211 3.94736842 4.15789474 4.36842105 4.57894737\n",
            " 4.78947368 5.        ]\n"
          ]
        }
      ]
    },
    {
      "cell_type": "code",
      "source": [
        "empty=np.empty((1,5))\n",
        "print(empty)"
      ],
      "metadata": {
        "colab": {
          "base_uri": "https://localhost:8080/"
        },
        "id": "KQhqz6yCrXo6",
        "outputId": "1039c196-db36-4c6f-d80f-beaf1a0babe9"
      },
      "execution_count": 29,
      "outputs": [
        {
          "output_type": "stream",
          "name": "stdout",
          "text": [
            "[[1.80175076e-315 0.00000000e+000 4.94065646e-324             nan\n",
            "  2.37151510e-322]]\n"
          ]
        }
      ]
    },
    {
      "cell_type": "code",
      "source": [
        "for i in range(5):\n",
        "  empty[:,i]=i\n",
        "  empty\n",
        "  print(empty)"
      ],
      "metadata": {
        "colab": {
          "base_uri": "https://localhost:8080/"
        },
        "id": "MOAXKdmTrimD",
        "outputId": "10d8f43f-4bd7-40a1-bc8e-a285350f2a17"
      },
      "execution_count": 31,
      "outputs": [
        {
          "output_type": "stream",
          "name": "stdout",
          "text": [
            "[[0. 1. 2. 3. 4.]]\n",
            "[[0. 1. 2. 3. 4.]]\n",
            "[[0. 1. 2. 3. 4.]]\n",
            "[[0. 1. 2. 3. 4.]]\n",
            "[[0. 1. 2. 3. 4.]]\n"
          ]
        }
      ]
    },
    {
      "cell_type": "markdown",
      "source": [
        "#Array Indexing and Slicing"
      ],
      "metadata": {
        "id": "vThbs0fGsTgS"
      }
    },
    {
      "cell_type": "code",
      "source": [
        "r_a=np.random.randint(1,10,size=(5,6))\n",
        "print(r_a)"
      ],
      "metadata": {
        "colab": {
          "base_uri": "https://localhost:8080/"
        },
        "id": "hwFSzJ69squL",
        "outputId": "5fb6a1af-ecd2-4d64-caab-d143af6c525b"
      },
      "execution_count": 33,
      "outputs": [
        {
          "output_type": "stream",
          "name": "stdout",
          "text": [
            "[[6 7 3 1 5 2]\n",
            " [4 7 3 9 1 3]\n",
            " [1 7 7 5 3 2]\n",
            " [3 8 7 4 8 3]\n",
            " [5 6 2 6 3 7]]\n"
          ]
        }
      ]
    },
    {
      "cell_type": "code",
      "source": [
        "#create 1D array and access one element\n",
        "a1=np.random.randint(1,7,size=(8))\n",
        "print(a1)"
      ],
      "metadata": {
        "colab": {
          "base_uri": "https://localhost:8080/"
        },
        "id": "ueTMEMkLtVvL",
        "outputId": "e9609775-482d-48fb-b143-e146080c0777"
      },
      "execution_count": 35,
      "outputs": [
        {
          "output_type": "stream",
          "name": "stdout",
          "text": [
            "[3 4 4 3 2 5 6 5]\n"
          ]
        }
      ]
    },
    {
      "cell_type": "code",
      "source": [
        "a1[3]\n"
      ],
      "metadata": {
        "colab": {
          "base_uri": "https://localhost:8080/"
        },
        "id": "LaHN_8Ext9gv",
        "outputId": "b25d4a46-7b87-4529-cda8-32a0125943ae"
      },
      "execution_count": 37,
      "outputs": [
        {
          "output_type": "execute_result",
          "data": {
            "text/plain": [
              "np.int64(3)"
            ]
          },
          "metadata": {},
          "execution_count": 37
        }
      ]
    },
    {
      "cell_type": "code",
      "source": [
        "#create 2D array ans access one element\n",
        "a2=np.random.randint(1,9,size=(7,8))\n",
        "print(a2)"
      ],
      "metadata": {
        "colab": {
          "base_uri": "https://localhost:8080/"
        },
        "id": "PbNZJNXMuGX8",
        "outputId": "cb335d93-64c5-4820-efeb-62346f48f029"
      },
      "execution_count": 38,
      "outputs": [
        {
          "output_type": "stream",
          "name": "stdout",
          "text": [
            "[[1 3 5 5 3 3 4 8]\n",
            " [1 7 5 8 6 1 5 1]\n",
            " [1 2 6 8 6 2 1 6]\n",
            " [1 5 4 4 3 4 8 5]\n",
            " [6 3 2 6 4 7 6 5]\n",
            " [8 5 7 5 2 5 7 2]\n",
            " [5 8 6 5 5 6 1 2]]\n"
          ]
        }
      ]
    },
    {
      "cell_type": "code",
      "source": [
        "#want to access row2,coloum4 element--8\n",
        "a2[1,3]  #also write--a2[1][3]"
      ],
      "metadata": {
        "colab": {
          "base_uri": "https://localhost:8080/"
        },
        "id": "cdpY7ZbPuezK",
        "outputId": "54fe928f-9e3b-4369-f3fb-4c7e597c196b"
      },
      "execution_count": 39,
      "outputs": [
        {
          "output_type": "execute_result",
          "data": {
            "text/plain": [
              "np.int64(8)"
            ]
          },
          "metadata": {},
          "execution_count": 39
        }
      ]
    },
    {
      "cell_type": "code",
      "source": [
        "#create 3D array\n",
        "a3=np.random.randint(1,9,size=(2,3,4))\n",
        "print(a3)"
      ],
      "metadata": {
        "colab": {
          "base_uri": "https://localhost:8080/"
        },
        "id": "fJEPkYXIu7_2",
        "outputId": "745b5da5-7355-4d48-ccb5-7ceb70b13a89"
      },
      "execution_count": 40,
      "outputs": [
        {
          "output_type": "stream",
          "name": "stdout",
          "text": [
            "[[[6 6 7 3]\n",
            "  [6 5 5 3]\n",
            "  [5 3 8 3]]\n",
            "\n",
            " [[2 2 1 7]\n",
            "  [1 3 5 8]\n",
            "  [3 2 2 5]]]\n"
          ]
        }
      ]
    },
    {
      "cell_type": "code",
      "source": [
        "a3[0,1,2]"
      ],
      "metadata": {
        "colab": {
          "base_uri": "https://localhost:8080/"
        },
        "id": "TJzVgnUBvFpo",
        "outputId": "eb065062-0e64-42de-f173-f344f9f79f04"
      },
      "execution_count": 41,
      "outputs": [
        {
          "output_type": "execute_result",
          "data": {
            "text/plain": [
              "np.int64(5)"
            ]
          },
          "metadata": {},
          "execution_count": 41
        }
      ]
    },
    {
      "cell_type": "code",
      "source": [
        "print(r_a)"
      ],
      "metadata": {
        "colab": {
          "base_uri": "https://localhost:8080/"
        },
        "id": "dprTj1pnvM-v",
        "outputId": "ac25fce1-1ab8-4113-ea4e-41c0f77a4ee3"
      },
      "execution_count": 42,
      "outputs": [
        {
          "output_type": "stream",
          "name": "stdout",
          "text": [
            "[[6 7 3 1 5 2]\n",
            " [4 7 3 9 1 3]\n",
            " [1 7 7 5 3 2]\n",
            " [3 8 7 4 8 3]\n",
            " [5 6 2 6 3 7]]\n"
          ]
        }
      ]
    },
    {
      "cell_type": "code",
      "source": [
        "r_a.size"
      ],
      "metadata": {
        "colab": {
          "base_uri": "https://localhost:8080/"
        },
        "id": "C1lAXre6vWGF",
        "outputId": "3a66e8dd-2202-40e2-a3ef-25584b0e8ffc"
      },
      "execution_count": 43,
      "outputs": [
        {
          "output_type": "execute_result",
          "data": {
            "text/plain": [
              "30"
            ]
          },
          "metadata": {},
          "execution_count": 43
        }
      ]
    },
    {
      "cell_type": "code",
      "source": [
        "array_name=np.random.randint(1,20,size=(7))\n",
        "print(array_name)"
      ],
      "metadata": {
        "colab": {
          "base_uri": "https://localhost:8080/"
        },
        "id": "A6XuNFJjvew6",
        "outputId": "9b2518e6-0c3e-407e-e195-5e9c8e817bea"
      },
      "execution_count": 44,
      "outputs": [
        {
          "output_type": "stream",
          "name": "stdout",
          "text": [
            "[14  3  2  3  3 13 17]\n"
          ]
        }
      ]
    },
    {
      "cell_type": "code",
      "source": [
        "array_name[-2]"
      ],
      "metadata": {
        "colab": {
          "base_uri": "https://localhost:8080/"
        },
        "id": "ELRN3ttGvu26",
        "outputId": "c34bf0e8-f7b1-4097-fc74-813163822962"
      },
      "execution_count": 46,
      "outputs": [
        {
          "output_type": "execute_result",
          "data": {
            "text/plain": [
              "np.int64(13)"
            ]
          },
          "metadata": {},
          "execution_count": 46
        }
      ]
    },
    {
      "cell_type": "markdown",
      "source": [
        "#Slicing"
      ],
      "metadata": {
        "id": "Ks3khWE3v3N_"
      }
    },
    {
      "cell_type": "code",
      "source": [
        "#1D array slicing\n",
        "x=np.array([1,2,3,4,5,6,7]) #want to slice 1 to 4\n",
        "print(x[0:4])"
      ],
      "metadata": {
        "colab": {
          "base_uri": "https://localhost:8080/"
        },
        "id": "s5o77Z6LwGT6",
        "outputId": "2ce17e9c-287d-4b13-899a-2182cffcc8e7"
      },
      "execution_count": 47,
      "outputs": [
        {
          "output_type": "stream",
          "name": "stdout",
          "text": [
            "[1 2 3 4]\n"
          ]
        }
      ]
    },
    {
      "cell_type": "code",
      "source": [
        "#2D array slicing\n",
        "#create 2D random array\n",
        "x1=np.random.randint(1,9,size=(4,5),dtype=\"int\")\n",
        "print(x1)"
      ],
      "metadata": {
        "colab": {
          "base_uri": "https://localhost:8080/"
        },
        "id": "M34LWEr4wfgh",
        "outputId": "5ea1677d-088d-416a-f01c-f5a445fc0b53"
      },
      "execution_count": 48,
      "outputs": [
        {
          "output_type": "stream",
          "name": "stdout",
          "text": [
            "[[5 1 1 8 6]\n",
            " [5 7 4 5 5]\n",
            " [1 3 2 2 3]\n",
            " [6 5 4 8 4]]\n"
          ]
        }
      ]
    },
    {
      "cell_type": "code",
      "source": [
        "#1st 2 row slice\n",
        "x1[0:2]"
      ],
      "metadata": {
        "colab": {
          "base_uri": "https://localhost:8080/"
        },
        "id": "191iWGJaxAHs",
        "outputId": "407dc55d-86ff-4d59-8ad3-95c7d75c6318"
      },
      "execution_count": 50,
      "outputs": [
        {
          "output_type": "execute_result",
          "data": {
            "text/plain": [
              "array([[5, 1, 1, 8, 6],\n",
              "       [5, 7, 4, 5, 5]])"
            ]
          },
          "metadata": {},
          "execution_count": 50
        }
      ]
    },
    {
      "cell_type": "code",
      "source": [
        "print(x1[0:2,0:3])\n"
      ],
      "metadata": {
        "colab": {
          "base_uri": "https://localhost:8080/"
        },
        "id": "ajZpFoqIxOkB",
        "outputId": "2c0be2ff-9d4b-4ae9-8e9d-dd3d30ee868e"
      },
      "execution_count": 57,
      "outputs": [
        {
          "output_type": "stream",
          "name": "stdout",
          "text": [
            "[[5 1 1]\n",
            " [5 7 4]]\n"
          ]
        }
      ]
    },
    {
      "cell_type": "markdown",
      "source": [
        "#Reshape and Resize"
      ],
      "metadata": {
        "id": "tHTV99CjyHHR"
      }
    },
    {
      "cell_type": "code",
      "source": [
        "r=np.random.randint(1,5,size=(4,6))\n",
        "print(r)"
      ],
      "metadata": {
        "colab": {
          "base_uri": "https://localhost:8080/"
        },
        "id": "sjAOqSM2yZEr",
        "outputId": "ec5939b1-c78a-48eb-f63a-ac9ad81cb0ab"
      },
      "execution_count": 61,
      "outputs": [
        {
          "output_type": "stream",
          "name": "stdout",
          "text": [
            "[[3 3 2 3 4 2]\n",
            " [3 2 3 4 4 3]\n",
            " [1 2 3 4 3 1]\n",
            " [2 1 1 4 3 1]]\n"
          ]
        }
      ]
    },
    {
      "cell_type": "code",
      "source": [
        "reshape=np.reshape(re_shape,(6,4))\n",
        "print(reshape)\n"
      ],
      "metadata": {
        "colab": {
          "base_uri": "https://localhost:8080/"
        },
        "id": "4wFxuVZ9zp-C",
        "outputId": "fab0ccb7-d369-4a6d-cde7-5cd84d988051"
      },
      "execution_count": 62,
      "outputs": [
        {
          "output_type": "stream",
          "name": "stdout",
          "text": [
            "[[2 2 1 3]\n",
            " [3 4 2 2]\n",
            " [4 2 4 1]\n",
            " [3 3 4 1]\n",
            " [1 2 1 2]\n",
            " [1 4 3 2]]\n"
          ]
        }
      ]
    },
    {
      "cell_type": "code",
      "source": [
        "#resize\n",
        "re_size=np.resize(r,(6,7))\n",
        "print(re_size)"
      ],
      "metadata": {
        "colab": {
          "base_uri": "https://localhost:8080/"
        },
        "id": "em38bJjq0xUu",
        "outputId": "eaeaa7bf-e09d-44ae-a71d-40bd5cc6d419"
      },
      "execution_count": 63,
      "outputs": [
        {
          "output_type": "stream",
          "name": "stdout",
          "text": [
            "[[3 3 2 3 4 2 3]\n",
            " [2 3 4 4 3 1 2]\n",
            " [3 4 3 1 2 1 1]\n",
            " [4 3 1 3 3 2 3]\n",
            " [4 2 3 2 3 4 4]\n",
            " [3 1 2 3 4 3 1]]\n"
          ]
        }
      ]
    },
    {
      "cell_type": "markdown",
      "source": [
        "#Ravel and Flatten"
      ],
      "metadata": {
        "id": "9uLCcPmX1Dm5"
      }
    },
    {
      "cell_type": "markdown",
      "source": [
        "**Ravel**"
      ],
      "metadata": {
        "id": "3aZiUxnX3wa7"
      }
    },
    {
      "cell_type": "markdown",
      "source": [],
      "metadata": {
        "id": "yzaxwWG93upa"
      }
    },
    {
      "cell_type": "code",
      "source": [
        "k=np.random.randint(1,10,size=(3,4)) #return a view of the array\n",
        "print(k)"
      ],
      "metadata": {
        "colab": {
          "base_uri": "https://localhost:8080/"
        },
        "id": "McLE8huX1Gka",
        "outputId": "cd4ac3ca-5b85-428f-cca9-10a632e4c10d"
      },
      "execution_count": 66,
      "outputs": [
        {
          "output_type": "stream",
          "name": "stdout",
          "text": [
            "[[7 6 6 2]\n",
            " [5 5 2 6]\n",
            " [8 2 4 7]]\n"
          ]
        }
      ]
    },
    {
      "cell_type": "code",
      "source": [
        "ravel=np.ravel(k)  #1D array convert\n",
        "print(ravel)"
      ],
      "metadata": {
        "colab": {
          "base_uri": "https://localhost:8080/"
        },
        "id": "igoHR0JX1bZz",
        "outputId": "1e3c5bf3-32ef-46ba-f44d-4b4f93a9af1d"
      },
      "execution_count": 68,
      "outputs": [
        {
          "output_type": "stream",
          "name": "stdout",
          "text": [
            "[7 6 6 2 5 5 2 6 8 2 4 7]\n"
          ]
        }
      ]
    },
    {
      "cell_type": "code",
      "source": [
        "ravel[0]=1            #1st value 7 exchange with 1\n",
        "print(ravel)"
      ],
      "metadata": {
        "colab": {
          "base_uri": "https://localhost:8080/"
        },
        "id": "yuXCEM7O1nJc",
        "outputId": "769e3339-688d-44ad-be4d-bbb83b65ba46"
      },
      "execution_count": 69,
      "outputs": [
        {
          "output_type": "stream",
          "name": "stdout",
          "text": [
            "[1 6 6 2 5 5 2 6 8 2 4 7]\n"
          ]
        }
      ]
    },
    {
      "cell_type": "code",
      "source": [
        "#Now check the main array\n",
        "print(k) #also change the main array 1st value"
      ],
      "metadata": {
        "colab": {
          "base_uri": "https://localhost:8080/"
        },
        "id": "_46-P4kO3hJV",
        "outputId": "86c2fb69-9556-4fbb-c14e-e9a4a615851b"
      },
      "execution_count": 70,
      "outputs": [
        {
          "output_type": "stream",
          "name": "stdout",
          "text": [
            "[[1 6 6 2]\n",
            " [5 5 2 6]\n",
            " [8 2 4 7]]\n"
          ]
        }
      ]
    },
    {
      "cell_type": "markdown",
      "source": [
        "**Flatten**"
      ],
      "metadata": {
        "id": "cq_OAIi434iL"
      }
    },
    {
      "cell_type": "code",
      "source": [
        "#create random array\n",
        "y=np.random.randint(1,10,size=(3,4))\n",
        "print(y)"
      ],
      "metadata": {
        "colab": {
          "base_uri": "https://localhost:8080/"
        },
        "id": "_qOf9i2q35sw",
        "outputId": "0c96a0f5-7dd5-4428-c020-f9eab973113f"
      },
      "execution_count": 71,
      "outputs": [
        {
          "output_type": "stream",
          "name": "stdout",
          "text": [
            "[[1 7 2 7]\n",
            " [6 9 5 7]\n",
            " [4 2 6 1]]\n"
          ]
        }
      ]
    },
    {
      "cell_type": "code",
      "source": [
        "new_y=y.flatten() #return a copy of the array\n",
        "print(new_y)"
      ],
      "metadata": {
        "colab": {
          "base_uri": "https://localhost:8080/"
        },
        "id": "OYLqsww94JLf",
        "outputId": "19cf0223-d510-4616-ecf0-92d04e74dab7"
      },
      "execution_count": 73,
      "outputs": [
        {
          "output_type": "stream",
          "name": "stdout",
          "text": [
            "[1 7 2 7 6 9 5 7 4 2 6 1]\n"
          ]
        }
      ]
    },
    {
      "cell_type": "code",
      "source": [
        "new_y[0]=10"
      ],
      "metadata": {
        "id": "qu5fE5g_4XY2"
      },
      "execution_count": 76,
      "outputs": []
    },
    {
      "cell_type": "code",
      "source": [
        "print(new_y)"
      ],
      "metadata": {
        "colab": {
          "base_uri": "https://localhost:8080/"
        },
        "id": "PO07_PpC5ADK",
        "outputId": "ae66cd86-e791-444e-d776-6073744387e1"
      },
      "execution_count": 77,
      "outputs": [
        {
          "output_type": "stream",
          "name": "stdout",
          "text": [
            "[10  7  2  7  6  9  5  7  4  2  6  1]\n"
          ]
        }
      ]
    },
    {
      "cell_type": "code",
      "source": [
        "print(y)"
      ],
      "metadata": {
        "colab": {
          "base_uri": "https://localhost:8080/"
        },
        "id": "JC4mXMhB5CZq",
        "outputId": "1e0898ee-78de-4f7f-d9f3-2f9e4a35e030"
      },
      "execution_count": 78,
      "outputs": [
        {
          "output_type": "stream",
          "name": "stdout",
          "text": [
            "[[1 7 2 7]\n",
            " [6 9 5 7]\n",
            " [4 2 6 1]]\n"
          ]
        }
      ]
    },
    {
      "cell_type": "code",
      "source": [
        "#new array shape define\n",
        "arr=np.random.randint(1,10,size=(3,4))\n",
        "print(arr)"
      ],
      "metadata": {
        "colab": {
          "base_uri": "https://localhost:8080/"
        },
        "id": "JOJNcoL35eJS",
        "outputId": "1627e5fe-ba54-48d6-e4e3-3f50646d7c57"
      },
      "execution_count": 79,
      "outputs": [
        {
          "output_type": "stream",
          "name": "stdout",
          "text": [
            "[[7 3 8 3]\n",
            " [1 8 9 7]\n",
            " [2 3 4 4]]\n"
          ]
        }
      ]
    },
    {
      "cell_type": "code",
      "source": [
        "arr.shape"
      ],
      "metadata": {
        "colab": {
          "base_uri": "https://localhost:8080/"
        },
        "id": "ySpYgbNe5oCY",
        "outputId": "60a13dce-6637-4225-b132-e38d98b8992a"
      },
      "execution_count": 80,
      "outputs": [
        {
          "output_type": "execute_result",
          "data": {
            "text/plain": [
              "(3, 4)"
            ]
          },
          "metadata": {},
          "execution_count": 80
        }
      ]
    },
    {
      "cell_type": "code",
      "source": [
        "arr.shape=(6,2) #array element number same as before\n",
        "arr\n"
      ],
      "metadata": {
        "colab": {
          "base_uri": "https://localhost:8080/"
        },
        "id": "Qs2ofpGa5p2M",
        "outputId": "4d1bbe97-142e-4c2c-b15e-09725cab58ee"
      },
      "execution_count": 84,
      "outputs": [
        {
          "output_type": "execute_result",
          "data": {
            "text/plain": [
              "array([[7, 3],\n",
              "       [8, 3],\n",
              "       [1, 8],\n",
              "       [9, 7],\n",
              "       [2, 3],\n",
              "       [4, 4]])"
            ]
          },
          "metadata": {},
          "execution_count": 84
        }
      ]
    },
    {
      "cell_type": "markdown",
      "source": [
        "#Array Stacking"
      ],
      "metadata": {
        "id": "YliyFsab-KBu"
      }
    },
    {
      "cell_type": "markdown",
      "source": [
        "#Horizontal Stacking"
      ],
      "metadata": {
        "id": "os6YcpfW-LVV"
      }
    },
    {
      "cell_type": "code",
      "source": [
        "d=np.arange(1,10).reshape(3,3)\n",
        "print(d)"
      ],
      "metadata": {
        "colab": {
          "base_uri": "https://localhost:8080/"
        },
        "id": "3x7QPPs8-eke",
        "outputId": "5566d771-f398-4f0c-8804-bf3146edaee3"
      },
      "execution_count": 85,
      "outputs": [
        {
          "output_type": "stream",
          "name": "stdout",
          "text": [
            "[[1 2 3]\n",
            " [4 5 6]\n",
            " [7 8 9]]\n"
          ]
        }
      ]
    },
    {
      "cell_type": "code",
      "source": [
        "b=3*d\n",
        "print(b)"
      ],
      "metadata": {
        "colab": {
          "base_uri": "https://localhost:8080/"
        },
        "id": "_O8dPgax-q5T",
        "outputId": "e32183af-7992-4790-ce8c-8e27a7a55532"
      },
      "execution_count": 87,
      "outputs": [
        {
          "output_type": "stream",
          "name": "stdout",
          "text": [
            "[[ 3  6  9]\n",
            " [12 15 18]\n",
            " [21 24 27]]\n"
          ]
        }
      ]
    },
    {
      "cell_type": "code",
      "source": [
        "hori=np.hstack((d,b))\n",
        "print(hori)"
      ],
      "metadata": {
        "colab": {
          "base_uri": "https://localhost:8080/"
        },
        "id": "Nny0VvRc-5TM",
        "outputId": "a91ede67-8583-4372-cd7d-c846253a2238"
      },
      "execution_count": 88,
      "outputs": [
        {
          "output_type": "stream",
          "name": "stdout",
          "text": [
            "[[ 1  2  3  3  6  9]\n",
            " [ 4  5  6 12 15 18]\n",
            " [ 7  8  9 21 24 27]]\n"
          ]
        }
      ]
    },
    {
      "cell_type": "code",
      "source": [
        "hori1=np.column_stack((d,b))\n",
        "print(hori1)"
      ],
      "metadata": {
        "colab": {
          "base_uri": "https://localhost:8080/"
        },
        "id": "w8p5hrMn_Q4E",
        "outputId": "6428028c-018c-4e09-a177-4b31ef7ecb97"
      },
      "execution_count": 90,
      "outputs": [
        {
          "output_type": "stream",
          "name": "stdout",
          "text": [
            "[[ 1  2  3  3  6  9]\n",
            " [ 4  5  6 12 15 18]\n",
            " [ 7  8  9 21 24 27]]\n"
          ]
        }
      ]
    },
    {
      "cell_type": "code",
      "source": [
        "con=np.concatenate((d,b),axis=1)\n",
        "print(con)"
      ],
      "metadata": {
        "colab": {
          "base_uri": "https://localhost:8080/"
        },
        "id": "92wydZ5DAYFu",
        "outputId": "25835b9f-55d8-4d3a-e626-309c5f5f9071"
      },
      "execution_count": 93,
      "outputs": [
        {
          "output_type": "stream",
          "name": "stdout",
          "text": [
            "[[ 1  2  3  3  6  9]\n",
            " [ 4  5  6 12 15 18]\n",
            " [ 7  8  9 21 24 27]]\n"
          ]
        }
      ]
    },
    {
      "cell_type": "markdown",
      "source": [
        "#Vertical Stacking\n"
      ],
      "metadata": {
        "id": "8OeSOZOu_5B5"
      }
    },
    {
      "cell_type": "code",
      "source": [
        "v=np.vstack((d,b))\n",
        "print(v)"
      ],
      "metadata": {
        "colab": {
          "base_uri": "https://localhost:8080/"
        },
        "id": "kSHWL_i2_927",
        "outputId": "77528c69-98d1-4068-f645-0e8c56235cb1"
      },
      "execution_count": 91,
      "outputs": [
        {
          "output_type": "stream",
          "name": "stdout",
          "text": [
            "[[ 1  2  3]\n",
            " [ 4  5  6]\n",
            " [ 7  8  9]\n",
            " [ 3  6  9]\n",
            " [12 15 18]\n",
            " [21 24 27]]\n"
          ]
        }
      ]
    },
    {
      "cell_type": "code",
      "source": [
        "r=np.row_stack((d,b))\n",
        "print(r)"
      ],
      "metadata": {
        "colab": {
          "base_uri": "https://localhost:8080/"
        },
        "id": "WUzEXl2YAKnH",
        "outputId": "925d56f9-b001-4845-b690-a31f8846a88e"
      },
      "execution_count": 92,
      "outputs": [
        {
          "output_type": "stream",
          "name": "stdout",
          "text": [
            "[[ 1  2  3]\n",
            " [ 4  5  6]\n",
            " [ 7  8  9]\n",
            " [ 3  6  9]\n",
            " [12 15 18]\n",
            " [21 24 27]]\n"
          ]
        },
        {
          "output_type": "stream",
          "name": "stderr",
          "text": [
            "/tmp/ipython-input-3207023592.py:1: DeprecationWarning: `row_stack` alias is deprecated. Use `np.vstack` directly.\n",
            "  r=np.row_stack((d,b))\n"
          ]
        }
      ]
    },
    {
      "cell_type": "code",
      "source": [
        "cc1=np.concatenate((d,b),axis=0)\n",
        "print(cc1)"
      ],
      "metadata": {
        "colab": {
          "base_uri": "https://localhost:8080/"
        },
        "id": "kNi06Oe2AUHk",
        "outputId": "213c3d27-f384-4658-ce44-5859240313f6"
      },
      "execution_count": 94,
      "outputs": [
        {
          "output_type": "stream",
          "name": "stdout",
          "text": [
            "[[ 1  2  3]\n",
            " [ 4  5  6]\n",
            " [ 7  8  9]\n",
            " [ 3  6  9]\n",
            " [12 15 18]\n",
            " [21 24 27]]\n"
          ]
        }
      ]
    },
    {
      "cell_type": "markdown",
      "source": [
        "#Depth Stack"
      ],
      "metadata": {
        "id": "M6bIRExlAp7P"
      }
    },
    {
      "cell_type": "code",
      "source": [
        "print(b)"
      ],
      "metadata": {
        "colab": {
          "base_uri": "https://localhost:8080/"
        },
        "id": "3_T0gq9YAjKc",
        "outputId": "28dc5a19-7fb1-41b0-8ea8-ddae685bfd84"
      },
      "execution_count": 95,
      "outputs": [
        {
          "output_type": "stream",
          "name": "stdout",
          "text": [
            "[[ 3  6  9]\n",
            " [12 15 18]\n",
            " [21 24 27]]\n"
          ]
        }
      ]
    },
    {
      "cell_type": "code",
      "source": [
        "print(d)"
      ],
      "metadata": {
        "colab": {
          "base_uri": "https://localhost:8080/"
        },
        "id": "f5_OdkOoAmXs",
        "outputId": "3ea2f039-a335-4ca7-cf70-a13109684af0"
      },
      "execution_count": 96,
      "outputs": [
        {
          "output_type": "stream",
          "name": "stdout",
          "text": [
            "[[1 2 3]\n",
            " [4 5 6]\n",
            " [7 8 9]]\n"
          ]
        }
      ]
    },
    {
      "cell_type": "code",
      "source": [
        "dep=np.dstack((b,d))\n",
        "print(dep)"
      ],
      "metadata": {
        "colab": {
          "base_uri": "https://localhost:8080/"
        },
        "id": "qvdpGPM6An95",
        "outputId": "75d858b2-1785-4412-a28e-1a3a21a26ef2"
      },
      "execution_count": 97,
      "outputs": [
        {
          "output_type": "stream",
          "name": "stdout",
          "text": [
            "[[[ 3  1]\n",
            "  [ 6  2]\n",
            "  [ 9  3]]\n",
            "\n",
            " [[12  4]\n",
            "  [15  5]\n",
            "  [18  6]]\n",
            "\n",
            " [[21  7]\n",
            "  [24  8]\n",
            "  [27  9]]]\n"
          ]
        }
      ]
    }
  ],
  "metadata": {
    "colab": {
      "provenance": [],
      "authorship_tag": "ABX9TyPS8yjeGhQOEMQbaX75UQQP",
      "include_colab_link": true
    },
    "kernelspec": {
      "display_name": "Python 3",
      "name": "python3"
    },
    "language_info": {
      "name": "python"
    }
  },
  "nbformat": 4,
  "nbformat_minor": 0
}